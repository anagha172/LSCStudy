{
 "cells": [
  {
   "cell_type": "markdown",
   "id": "cc93bd74",
   "metadata": {},
   "source": [
    "# Lead_Scoring_Case_Study"
   ]
  },
  {
   "cell_type": "code",
   "execution_count": 446,
   "id": "15f23039",
   "metadata": {},
   "outputs": [],
   "source": [
    "#Importing / Loading the Data\n",
    "#Data cleaning and preparation : Segmentation\n",
    "#Preprocessing steps : EDA \n",
    "#Data encoding :Converting categorical variables to dummy variables\n",
    "#Model Evaluation : Test-train split\n",
    "#Feature scaling\n",
    "#Model Building using RFE, p-values and VIFs"
   ]
  },
  {
   "cell_type": "code",
   "execution_count": 447,
   "id": "dcbf29e1",
   "metadata": {},
   "outputs": [],
   "source": [
    "import warnings\n",
    "warnings.filterwarnings('ignore')\n",
    "\n",
    "import pandas as pd\n",
    "import numpy as np\n",
    "\n",
    "from sklearn.model_selection import train_test_split\n",
    "from sklearn.preprocessing import StandardScaler\n",
    "from sklearn.preprocessing import MinMaxScaler\n",
    "\n",
    "# Importing matplotlib and seaborn\n",
    "import matplotlib.pyplot as plt\n",
    "from matplotlib.pyplot import xticks\n",
    "import seaborn as sns\n",
    "%matplotlib inline\n",
    "\n",
    "\n",
    "from sklearn.linear_model import LogisticRegression\n",
    "from sklearn.feature_selection import RFE\n",
    "from sklearn import metrics\n",
    "from statsmodels.stats.outliers_influence import variance_inflation_factor\n",
    "\n",
    "from sklearn.metrics import precision_score, recall_score\n",
    "from sklearn import metrics\n",
    "from sklearn.metrics import confusion_matrix\n",
    "from sklearn.metrics import precision_recall_curve\n",
    "\n",
    "import statsmodels.api as sm"
   ]
  },
  {
   "cell_type": "markdown",
   "id": "9d56f909",
   "metadata": {},
   "source": [
    "# Importing / Loading the Data"
   ]
  },
  {
   "cell_type": "code",
   "execution_count": 448,
   "id": "cea088b0",
   "metadata": {},
   "outputs": [
    {
     "data": {
      "text/html": [
       "<div>\n",
       "<style scoped>\n",
       "    .dataframe tbody tr th:only-of-type {\n",
       "        vertical-align: middle;\n",
       "    }\n",
       "\n",
       "    .dataframe tbody tr th {\n",
       "        vertical-align: top;\n",
       "    }\n",
       "\n",
       "    .dataframe thead th {\n",
       "        text-align: right;\n",
       "    }\n",
       "</style>\n",
       "<table border=\"1\" class=\"dataframe\">\n",
       "  <thead>\n",
       "    <tr style=\"text-align: right;\">\n",
       "      <th></th>\n",
       "      <th>Prospect ID</th>\n",
       "      <th>Lead Number</th>\n",
       "      <th>Lead Origin</th>\n",
       "      <th>Lead Source</th>\n",
       "      <th>Do Not Email</th>\n",
       "      <th>Do Not Call</th>\n",
       "      <th>Converted</th>\n",
       "      <th>TotalVisits</th>\n",
       "      <th>Total Time Spent on Website</th>\n",
       "      <th>Page Views Per Visit</th>\n",
       "      <th>...</th>\n",
       "      <th>Get updates on DM Content</th>\n",
       "      <th>Lead Profile</th>\n",
       "      <th>City</th>\n",
       "      <th>Asymmetrique Activity Index</th>\n",
       "      <th>Asymmetrique Profile Index</th>\n",
       "      <th>Asymmetrique Activity Score</th>\n",
       "      <th>Asymmetrique Profile Score</th>\n",
       "      <th>I agree to pay the amount through cheque</th>\n",
       "      <th>A free copy of Mastering The Interview</th>\n",
       "      <th>Last Notable Activity</th>\n",
       "    </tr>\n",
       "  </thead>\n",
       "  <tbody>\n",
       "    <tr>\n",
       "      <th>0</th>\n",
       "      <td>7927b2df-8bba-4d29-b9a2-b6e0beafe620</td>\n",
       "      <td>660737</td>\n",
       "      <td>API</td>\n",
       "      <td>Olark Chat</td>\n",
       "      <td>No</td>\n",
       "      <td>No</td>\n",
       "      <td>0</td>\n",
       "      <td>0.0</td>\n",
       "      <td>0</td>\n",
       "      <td>0.0</td>\n",
       "      <td>...</td>\n",
       "      <td>No</td>\n",
       "      <td>Select</td>\n",
       "      <td>Select</td>\n",
       "      <td>02.Medium</td>\n",
       "      <td>02.Medium</td>\n",
       "      <td>15.0</td>\n",
       "      <td>15.0</td>\n",
       "      <td>No</td>\n",
       "      <td>No</td>\n",
       "      <td>Modified</td>\n",
       "    </tr>\n",
       "    <tr>\n",
       "      <th>1</th>\n",
       "      <td>2a272436-5132-4136-86fa-dcc88c88f482</td>\n",
       "      <td>660728</td>\n",
       "      <td>API</td>\n",
       "      <td>Organic Search</td>\n",
       "      <td>No</td>\n",
       "      <td>No</td>\n",
       "      <td>0</td>\n",
       "      <td>5.0</td>\n",
       "      <td>674</td>\n",
       "      <td>2.5</td>\n",
       "      <td>...</td>\n",
       "      <td>No</td>\n",
       "      <td>Select</td>\n",
       "      <td>Select</td>\n",
       "      <td>02.Medium</td>\n",
       "      <td>02.Medium</td>\n",
       "      <td>15.0</td>\n",
       "      <td>15.0</td>\n",
       "      <td>No</td>\n",
       "      <td>No</td>\n",
       "      <td>Email Opened</td>\n",
       "    </tr>\n",
       "    <tr>\n",
       "      <th>2</th>\n",
       "      <td>8cc8c611-a219-4f35-ad23-fdfd2656bd8a</td>\n",
       "      <td>660727</td>\n",
       "      <td>Landing Page Submission</td>\n",
       "      <td>Direct Traffic</td>\n",
       "      <td>No</td>\n",
       "      <td>No</td>\n",
       "      <td>1</td>\n",
       "      <td>2.0</td>\n",
       "      <td>1532</td>\n",
       "      <td>2.0</td>\n",
       "      <td>...</td>\n",
       "      <td>No</td>\n",
       "      <td>Potential Lead</td>\n",
       "      <td>Mumbai</td>\n",
       "      <td>02.Medium</td>\n",
       "      <td>01.High</td>\n",
       "      <td>14.0</td>\n",
       "      <td>20.0</td>\n",
       "      <td>No</td>\n",
       "      <td>Yes</td>\n",
       "      <td>Email Opened</td>\n",
       "    </tr>\n",
       "    <tr>\n",
       "      <th>3</th>\n",
       "      <td>0cc2df48-7cf4-4e39-9de9-19797f9b38cc</td>\n",
       "      <td>660719</td>\n",
       "      <td>Landing Page Submission</td>\n",
       "      <td>Direct Traffic</td>\n",
       "      <td>No</td>\n",
       "      <td>No</td>\n",
       "      <td>0</td>\n",
       "      <td>1.0</td>\n",
       "      <td>305</td>\n",
       "      <td>1.0</td>\n",
       "      <td>...</td>\n",
       "      <td>No</td>\n",
       "      <td>Select</td>\n",
       "      <td>Mumbai</td>\n",
       "      <td>02.Medium</td>\n",
       "      <td>01.High</td>\n",
       "      <td>13.0</td>\n",
       "      <td>17.0</td>\n",
       "      <td>No</td>\n",
       "      <td>No</td>\n",
       "      <td>Modified</td>\n",
       "    </tr>\n",
       "    <tr>\n",
       "      <th>4</th>\n",
       "      <td>3256f628-e534-4826-9d63-4a8b88782852</td>\n",
       "      <td>660681</td>\n",
       "      <td>Landing Page Submission</td>\n",
       "      <td>Google</td>\n",
       "      <td>No</td>\n",
       "      <td>No</td>\n",
       "      <td>1</td>\n",
       "      <td>2.0</td>\n",
       "      <td>1428</td>\n",
       "      <td>1.0</td>\n",
       "      <td>...</td>\n",
       "      <td>No</td>\n",
       "      <td>Select</td>\n",
       "      <td>Mumbai</td>\n",
       "      <td>02.Medium</td>\n",
       "      <td>01.High</td>\n",
       "      <td>15.0</td>\n",
       "      <td>18.0</td>\n",
       "      <td>No</td>\n",
       "      <td>No</td>\n",
       "      <td>Modified</td>\n",
       "    </tr>\n",
       "  </tbody>\n",
       "</table>\n",
       "<p>5 rows × 37 columns</p>\n",
       "</div>"
      ],
      "text/plain": [
       "                            Prospect ID  Lead Number              Lead Origin  \\\n",
       "0  7927b2df-8bba-4d29-b9a2-b6e0beafe620       660737                      API   \n",
       "1  2a272436-5132-4136-86fa-dcc88c88f482       660728                      API   \n",
       "2  8cc8c611-a219-4f35-ad23-fdfd2656bd8a       660727  Landing Page Submission   \n",
       "3  0cc2df48-7cf4-4e39-9de9-19797f9b38cc       660719  Landing Page Submission   \n",
       "4  3256f628-e534-4826-9d63-4a8b88782852       660681  Landing Page Submission   \n",
       "\n",
       "      Lead Source Do Not Email Do Not Call  Converted  TotalVisits  \\\n",
       "0      Olark Chat           No          No          0          0.0   \n",
       "1  Organic Search           No          No          0          5.0   \n",
       "2  Direct Traffic           No          No          1          2.0   \n",
       "3  Direct Traffic           No          No          0          1.0   \n",
       "4          Google           No          No          1          2.0   \n",
       "\n",
       "   Total Time Spent on Website  Page Views Per Visit  ...  \\\n",
       "0                            0                   0.0  ...   \n",
       "1                          674                   2.5  ...   \n",
       "2                         1532                   2.0  ...   \n",
       "3                          305                   1.0  ...   \n",
       "4                         1428                   1.0  ...   \n",
       "\n",
       "  Get updates on DM Content    Lead Profile    City  \\\n",
       "0                        No          Select  Select   \n",
       "1                        No          Select  Select   \n",
       "2                        No  Potential Lead  Mumbai   \n",
       "3                        No          Select  Mumbai   \n",
       "4                        No          Select  Mumbai   \n",
       "\n",
       "  Asymmetrique Activity Index Asymmetrique Profile Index  \\\n",
       "0                   02.Medium                  02.Medium   \n",
       "1                   02.Medium                  02.Medium   \n",
       "2                   02.Medium                    01.High   \n",
       "3                   02.Medium                    01.High   \n",
       "4                   02.Medium                    01.High   \n",
       "\n",
       "  Asymmetrique Activity Score Asymmetrique Profile Score  \\\n",
       "0                        15.0                       15.0   \n",
       "1                        15.0                       15.0   \n",
       "2                        14.0                       20.0   \n",
       "3                        13.0                       17.0   \n",
       "4                        15.0                       18.0   \n",
       "\n",
       "  I agree to pay the amount through cheque  \\\n",
       "0                                       No   \n",
       "1                                       No   \n",
       "2                                       No   \n",
       "3                                       No   \n",
       "4                                       No   \n",
       "\n",
       "  A free copy of Mastering The Interview Last Notable Activity  \n",
       "0                                     No              Modified  \n",
       "1                                     No          Email Opened  \n",
       "2                                    Yes          Email Opened  \n",
       "3                                     No              Modified  \n",
       "4                                     No              Modified  \n",
       "\n",
       "[5 rows x 37 columns]"
      ]
     },
     "execution_count": 448,
     "metadata": {},
     "output_type": "execute_result"
    }
   ],
   "source": [
    "ldf = pd.read_csv('Leads.csv')\n",
    "ldf.head() "
   ]
  },
  {
   "cell_type": "code",
   "execution_count": 449,
   "id": "09e1ee66",
   "metadata": {},
   "outputs": [
    {
     "data": {
      "text/plain": [
       "(9240, 37)"
      ]
     },
     "execution_count": 449,
     "metadata": {},
     "output_type": "execute_result"
    }
   ],
   "source": [
    "ldf.shape"
   ]
  },
  {
   "cell_type": "code",
   "execution_count": 450,
   "id": "76197f19",
   "metadata": {},
   "outputs": [
    {
     "name": "stdout",
     "output_type": "stream",
     "text": [
      "<class 'pandas.core.frame.DataFrame'>\n",
      "RangeIndex: 9240 entries, 0 to 9239\n",
      "Data columns (total 37 columns):\n",
      " #   Column                                         Non-Null Count  Dtype  \n",
      "---  ------                                         --------------  -----  \n",
      " 0   Prospect ID                                    9240 non-null   object \n",
      " 1   Lead Number                                    9240 non-null   int64  \n",
      " 2   Lead Origin                                    9240 non-null   object \n",
      " 3   Lead Source                                    9204 non-null   object \n",
      " 4   Do Not Email                                   9240 non-null   object \n",
      " 5   Do Not Call                                    9240 non-null   object \n",
      " 6   Converted                                      9240 non-null   int64  \n",
      " 7   TotalVisits                                    9103 non-null   float64\n",
      " 8   Total Time Spent on Website                    9240 non-null   int64  \n",
      " 9   Page Views Per Visit                           9103 non-null   float64\n",
      " 10  Last Activity                                  9137 non-null   object \n",
      " 11  Country                                        6779 non-null   object \n",
      " 12  Specialization                                 7802 non-null   object \n",
      " 13  How did you hear about X Education             7033 non-null   object \n",
      " 14  What is your current occupation                6550 non-null   object \n",
      " 15  What matters most to you in choosing a course  6531 non-null   object \n",
      " 16  Search                                         9240 non-null   object \n",
      " 17  Magazine                                       9240 non-null   object \n",
      " 18  Newspaper Article                              9240 non-null   object \n",
      " 19  X Education Forums                             9240 non-null   object \n",
      " 20  Newspaper                                      9240 non-null   object \n",
      " 21  Digital Advertisement                          9240 non-null   object \n",
      " 22  Through Recommendations                        9240 non-null   object \n",
      " 23  Receive More Updates About Our Courses         9240 non-null   object \n",
      " 24  Tags                                           5887 non-null   object \n",
      " 25  Lead Quality                                   4473 non-null   object \n",
      " 26  Update me on Supply Chain Content              9240 non-null   object \n",
      " 27  Get updates on DM Content                      9240 non-null   object \n",
      " 28  Lead Profile                                   6531 non-null   object \n",
      " 29  City                                           7820 non-null   object \n",
      " 30  Asymmetrique Activity Index                    5022 non-null   object \n",
      " 31  Asymmetrique Profile Index                     5022 non-null   object \n",
      " 32  Asymmetrique Activity Score                    5022 non-null   float64\n",
      " 33  Asymmetrique Profile Score                     5022 non-null   float64\n",
      " 34  I agree to pay the amount through cheque       9240 non-null   object \n",
      " 35  A free copy of Mastering The Interview         9240 non-null   object \n",
      " 36  Last Notable Activity                          9240 non-null   object \n",
      "dtypes: float64(4), int64(3), object(30)\n",
      "memory usage: 2.6+ MB\n"
     ]
    }
   ],
   "source": [
    "ldf.info()"
   ]
  },
  {
   "cell_type": "code",
   "execution_count": 451,
   "id": "348057af",
   "metadata": {},
   "outputs": [
    {
     "data": {
      "text/html": [
       "<div>\n",
       "<style scoped>\n",
       "    .dataframe tbody tr th:only-of-type {\n",
       "        vertical-align: middle;\n",
       "    }\n",
       "\n",
       "    .dataframe tbody tr th {\n",
       "        vertical-align: top;\n",
       "    }\n",
       "\n",
       "    .dataframe thead th {\n",
       "        text-align: right;\n",
       "    }\n",
       "</style>\n",
       "<table border=\"1\" class=\"dataframe\">\n",
       "  <thead>\n",
       "    <tr style=\"text-align: right;\">\n",
       "      <th></th>\n",
       "      <th>Lead Number</th>\n",
       "      <th>Converted</th>\n",
       "      <th>TotalVisits</th>\n",
       "      <th>Total Time Spent on Website</th>\n",
       "      <th>Page Views Per Visit</th>\n",
       "      <th>Asymmetrique Activity Score</th>\n",
       "      <th>Asymmetrique Profile Score</th>\n",
       "    </tr>\n",
       "  </thead>\n",
       "  <tbody>\n",
       "    <tr>\n",
       "      <th>count</th>\n",
       "      <td>9240.000000</td>\n",
       "      <td>9240.000000</td>\n",
       "      <td>9103.000000</td>\n",
       "      <td>9240.000000</td>\n",
       "      <td>9103.000000</td>\n",
       "      <td>5022.000000</td>\n",
       "      <td>5022.000000</td>\n",
       "    </tr>\n",
       "    <tr>\n",
       "      <th>mean</th>\n",
       "      <td>617188.435606</td>\n",
       "      <td>0.385390</td>\n",
       "      <td>3.445238</td>\n",
       "      <td>487.698268</td>\n",
       "      <td>2.362820</td>\n",
       "      <td>14.306252</td>\n",
       "      <td>16.344883</td>\n",
       "    </tr>\n",
       "    <tr>\n",
       "      <th>std</th>\n",
       "      <td>23405.995698</td>\n",
       "      <td>0.486714</td>\n",
       "      <td>4.854853</td>\n",
       "      <td>548.021466</td>\n",
       "      <td>2.161418</td>\n",
       "      <td>1.386694</td>\n",
       "      <td>1.811395</td>\n",
       "    </tr>\n",
       "    <tr>\n",
       "      <th>min</th>\n",
       "      <td>579533.000000</td>\n",
       "      <td>0.000000</td>\n",
       "      <td>0.000000</td>\n",
       "      <td>0.000000</td>\n",
       "      <td>0.000000</td>\n",
       "      <td>7.000000</td>\n",
       "      <td>11.000000</td>\n",
       "    </tr>\n",
       "    <tr>\n",
       "      <th>25%</th>\n",
       "      <td>596484.500000</td>\n",
       "      <td>0.000000</td>\n",
       "      <td>1.000000</td>\n",
       "      <td>12.000000</td>\n",
       "      <td>1.000000</td>\n",
       "      <td>14.000000</td>\n",
       "      <td>15.000000</td>\n",
       "    </tr>\n",
       "    <tr>\n",
       "      <th>50%</th>\n",
       "      <td>615479.000000</td>\n",
       "      <td>0.000000</td>\n",
       "      <td>3.000000</td>\n",
       "      <td>248.000000</td>\n",
       "      <td>2.000000</td>\n",
       "      <td>14.000000</td>\n",
       "      <td>16.000000</td>\n",
       "    </tr>\n",
       "    <tr>\n",
       "      <th>75%</th>\n",
       "      <td>637387.250000</td>\n",
       "      <td>1.000000</td>\n",
       "      <td>5.000000</td>\n",
       "      <td>936.000000</td>\n",
       "      <td>3.000000</td>\n",
       "      <td>15.000000</td>\n",
       "      <td>18.000000</td>\n",
       "    </tr>\n",
       "    <tr>\n",
       "      <th>max</th>\n",
       "      <td>660737.000000</td>\n",
       "      <td>1.000000</td>\n",
       "      <td>251.000000</td>\n",
       "      <td>2272.000000</td>\n",
       "      <td>55.000000</td>\n",
       "      <td>18.000000</td>\n",
       "      <td>20.000000</td>\n",
       "    </tr>\n",
       "  </tbody>\n",
       "</table>\n",
       "</div>"
      ],
      "text/plain": [
       "         Lead Number    Converted  TotalVisits  Total Time Spent on Website  \\\n",
       "count    9240.000000  9240.000000  9103.000000                  9240.000000   \n",
       "mean   617188.435606     0.385390     3.445238                   487.698268   \n",
       "std     23405.995698     0.486714     4.854853                   548.021466   \n",
       "min    579533.000000     0.000000     0.000000                     0.000000   \n",
       "25%    596484.500000     0.000000     1.000000                    12.000000   \n",
       "50%    615479.000000     0.000000     3.000000                   248.000000   \n",
       "75%    637387.250000     1.000000     5.000000                   936.000000   \n",
       "max    660737.000000     1.000000   251.000000                  2272.000000   \n",
       "\n",
       "       Page Views Per Visit  Asymmetrique Activity Score  \\\n",
       "count           9103.000000                  5022.000000   \n",
       "mean               2.362820                    14.306252   \n",
       "std                2.161418                     1.386694   \n",
       "min                0.000000                     7.000000   \n",
       "25%                1.000000                    14.000000   \n",
       "50%                2.000000                    14.000000   \n",
       "75%                3.000000                    15.000000   \n",
       "max               55.000000                    18.000000   \n",
       "\n",
       "       Asymmetrique Profile Score  \n",
       "count                 5022.000000  \n",
       "mean                    16.344883  \n",
       "std                      1.811395  \n",
       "min                     11.000000  \n",
       "25%                     15.000000  \n",
       "50%                     16.000000  \n",
       "75%                     18.000000  \n",
       "max                     20.000000  "
      ]
     },
     "execution_count": 451,
     "metadata": {},
     "output_type": "execute_result"
    }
   ],
   "source": [
    "ldf.describe()"
   ]
  },
  {
   "cell_type": "markdown",
   "id": "39d64cda",
   "metadata": {},
   "source": [
    "# Data cleaning and preparation"
   ]
  },
  {
   "cell_type": "code",
   "execution_count": 452,
   "id": "101def25",
   "metadata": {},
   "outputs": [],
   "source": [
    "# a.Drop ID columns - Prospect id\n",
    "# b.Null Check and Handling : Removing columns with null percent more than 45%\n",
    "# c.Null Check and Handling : Imputing null values\n",
    "# d.Duplicate Values : Last Notable Activity and Last Activity \n",
    "# e.Outliers : Handling Outliers\n"
   ]
  },
  {
   "cell_type": "code",
   "execution_count": 453,
   "id": "136f133d",
   "metadata": {},
   "outputs": [],
   "source": [
    "#Drop ID columns - Prospect id and 'Lead Number'\n",
    "ldf.drop(['Prospect ID'],1,inplace=True)\n",
    "ldf.drop(['Lead Number'],1,inplace=True)"
   ]
  },
  {
   "cell_type": "code",
   "execution_count": 454,
   "id": "e86659e2",
   "metadata": {},
   "outputs": [
    {
     "data": {
      "text/plain": [
       "5"
      ]
     },
     "execution_count": 454,
     "metadata": {},
     "output_type": "execute_result"
    }
   ],
   "source": [
    "# Null Check and Handling\n",
    "null_percentage = ldf.isnull().sum()/ldf.shape[0]*100\n",
    "null_percentage[(null_percentage>40)].count()"
   ]
  },
  {
   "cell_type": "code",
   "execution_count": 455,
   "id": "f130fb43",
   "metadata": {},
   "outputs": [
    {
     "data": {
      "text/plain": [
       "Lead Quality                   51.590909\n",
       "Asymmetrique Activity Index    45.649351\n",
       "Asymmetrique Profile Index     45.649351\n",
       "Asymmetrique Activity Score    45.649351\n",
       "Asymmetrique Profile Score     45.649351\n",
       "dtype: float64"
      ]
     },
     "execution_count": 455,
     "metadata": {},
     "output_type": "execute_result"
    }
   ],
   "source": [
    "null_percentage[(null_percentage>40)]"
   ]
  },
  {
   "cell_type": "code",
   "execution_count": 456,
   "id": "a656156b",
   "metadata": {},
   "outputs": [],
   "source": [
    "# The details of columns with more than 45% of null values.\n",
    "# Lead Quality                   51.590909  -- Indicates the quality of lead based on the data and intuition the the employee who has been assigned to the lead.\n",
    "# Asymmetrique Activity Index    45.649351  -- An index and score assigned to each customer based on their activity and their profile\n",
    "# Asymmetrique Profile Index     45.649351  -- An index and score assigned to each customer based on their activity and their profile\n",
    "# Asymmetrique Activity Score    45.649351  -- An index and score assigned to each customer based on their activity and their profile\n",
    "# Asymmetrique Profile Score     45.649351  -- An index and score assigned to each customer based on their activity and their profile"
   ]
  },
  {
   "cell_type": "code",
   "execution_count": 457,
   "id": "f11b0adc",
   "metadata": {},
   "outputs": [],
   "source": [
    "# Removing columns whch column containd more than 45% of Missing Values\n",
    "delcolms = null_percentage[(null_percentage>40)]\n",
    "coltodelete = delcolms.keys()\n",
    "ldf.drop(coltodelete,axis=1,inplace=True)"
   ]
  },
  {
   "cell_type": "code",
   "execution_count": 458,
   "id": "da728910",
   "metadata": {},
   "outputs": [
    {
     "name": "stdout",
     "output_type": "stream",
     "text": [
      "<class 'pandas.core.frame.DataFrame'>\n",
      "RangeIndex: 9240 entries, 0 to 9239\n",
      "Data columns (total 30 columns):\n",
      " #   Column                                         Non-Null Count  Dtype  \n",
      "---  ------                                         --------------  -----  \n",
      " 0   Lead Origin                                    9240 non-null   object \n",
      " 1   Lead Source                                    9204 non-null   object \n",
      " 2   Do Not Email                                   9240 non-null   object \n",
      " 3   Do Not Call                                    9240 non-null   object \n",
      " 4   Converted                                      9240 non-null   int64  \n",
      " 5   TotalVisits                                    9103 non-null   float64\n",
      " 6   Total Time Spent on Website                    9240 non-null   int64  \n",
      " 7   Page Views Per Visit                           9103 non-null   float64\n",
      " 8   Last Activity                                  9137 non-null   object \n",
      " 9   Country                                        6779 non-null   object \n",
      " 10  Specialization                                 7802 non-null   object \n",
      " 11  How did you hear about X Education             7033 non-null   object \n",
      " 12  What is your current occupation                6550 non-null   object \n",
      " 13  What matters most to you in choosing a course  6531 non-null   object \n",
      " 14  Search                                         9240 non-null   object \n",
      " 15  Magazine                                       9240 non-null   object \n",
      " 16  Newspaper Article                              9240 non-null   object \n",
      " 17  X Education Forums                             9240 non-null   object \n",
      " 18  Newspaper                                      9240 non-null   object \n",
      " 19  Digital Advertisement                          9240 non-null   object \n",
      " 20  Through Recommendations                        9240 non-null   object \n",
      " 21  Receive More Updates About Our Courses         9240 non-null   object \n",
      " 22  Tags                                           5887 non-null   object \n",
      " 23  Update me on Supply Chain Content              9240 non-null   object \n",
      " 24  Get updates on DM Content                      9240 non-null   object \n",
      " 25  Lead Profile                                   6531 non-null   object \n",
      " 26  City                                           7820 non-null   object \n",
      " 27  I agree to pay the amount through cheque       9240 non-null   object \n",
      " 28  A free copy of Mastering The Interview         9240 non-null   object \n",
      " 29  Last Notable Activity                          9240 non-null   object \n",
      "dtypes: float64(2), int64(2), object(26)\n",
      "memory usage: 2.1+ MB\n"
     ]
    }
   ],
   "source": [
    "ldf.info()\n",
    "\n"
   ]
  },
  {
   "cell_type": "code",
   "execution_count": 459,
   "id": "2f5cc04c",
   "metadata": {},
   "outputs": [
    {
     "data": {
      "text/plain": [
       "Lead Source                                       0.389610\n",
       "TotalVisits                                       1.482684\n",
       "Page Views Per Visit                              1.482684\n",
       "Last Activity                                     1.114719\n",
       "Country                                          26.634199\n",
       "Specialization                                   15.562771\n",
       "How did you hear about X Education               23.885281\n",
       "What is your current occupation                  29.112554\n",
       "What matters most to you in choosing a course    29.318182\n",
       "Tags                                             36.287879\n",
       "Lead Profile                                     29.318182\n",
       "City                                             15.367965\n",
       "dtype: float64"
      ]
     },
     "execution_count": 459,
     "metadata": {},
     "output_type": "execute_result"
    }
   ],
   "source": [
    "null_percentage = ldf.isnull().sum()/ldf.shape[0]*100\n",
    "null_percentage[(null_percentage>0)]"
   ]
  },
  {
   "cell_type": "code",
   "execution_count": 460,
   "id": "3ea8df89",
   "metadata": {},
   "outputs": [],
   "source": [
    "# Tags has 36% of null values and as per description it is assigned to customers by company indicating the current status of the lead.\n",
    "\n",
    "ldf.drop('Tags',1,inplace=True)"
   ]
  },
  {
   "cell_type": "code",
   "execution_count": 461,
   "id": "aef0a1ee",
   "metadata": {},
   "outputs": [
    {
     "data": {
      "text/plain": [
       "Better Career Prospects      0.999541\n",
       "Flexibility & Convenience    0.000306\n",
       "Other                        0.000153\n",
       "Name: What matters most to you in choosing a course, dtype: float64"
      ]
     },
     "execution_count": 461,
     "metadata": {},
     "output_type": "execute_result"
    }
   ],
   "source": [
    "# For column 'What matters most to you in choosing a course' has 99% same value this column can be dropped\n",
    "\n",
    "ldf['What matters most to you in choosing a course'].value_counts('normalize=True')"
   ]
  },
  {
   "cell_type": "code",
   "execution_count": 462,
   "id": "90c2c7e8",
   "metadata": {},
   "outputs": [],
   "source": [
    "ldf.drop('What matters most to you in choosing a course',1,inplace=True)"
   ]
  },
  {
   "cell_type": "code",
   "execution_count": 463,
   "id": "109b317b",
   "metadata": {},
   "outputs": [
    {
     "data": {
      "text/plain": [
       "Unemployed              5600\n",
       "NaN                     2690\n",
       "Working Professional     706\n",
       "Student                  210\n",
       "Other                     16\n",
       "Housewife                 10\n",
       "Businessman                8\n",
       "Name: What is your current occupation, dtype: int64"
      ]
     },
     "execution_count": 463,
     "metadata": {},
     "output_type": "execute_result"
    }
   ],
   "source": [
    "# for column 'What is your current occupation' since most data value is Unemployed,hence replacing NaN with Unemployed\n",
    "\n",
    "ldf['What is your current occupation'].value_counts(dropna=False)"
   ]
  },
  {
   "cell_type": "code",
   "execution_count": 464,
   "id": "f60938d5",
   "metadata": {},
   "outputs": [],
   "source": [
    "ldf['What is your current occupation']=ldf['What is your current occupation'].replace(np.nan,'Unemployed')"
   ]
  },
  {
   "cell_type": "code",
   "execution_count": 465,
   "id": "5de0e80a",
   "metadata": {},
   "outputs": [
    {
     "data": {
      "text/plain": [
       "Email Opened                    3437\n",
       "SMS Sent                        2745\n",
       "Olark Chat Conversation          973\n",
       "Page Visited on Website          640\n",
       "Converted to Lead                428\n",
       "Email Bounced                    326\n",
       "Email Link Clicked               267\n",
       "Form Submitted on Website        116\n",
       "NaN                              103\n",
       "Unreachable                       93\n",
       "Unsubscribed                      61\n",
       "Had a Phone Conversation          30\n",
       "Approached upfront                 9\n",
       "View in browser link Clicked       6\n",
       "Email Received                     2\n",
       "Email Marked Spam                  2\n",
       "Visited Booth in Tradeshow         1\n",
       "Resubscribed to emails             1\n",
       "Name: Last Activity, dtype: int64"
      ]
     },
     "execution_count": 465,
     "metadata": {},
     "output_type": "execute_result"
    }
   ],
   "source": [
    "ldf['Last Activity'].value_counts(dropna=False)"
   ]
  },
  {
   "cell_type": "code",
   "execution_count": 466,
   "id": "650315dd",
   "metadata": {},
   "outputs": [],
   "source": [
    "# for column 'Last Activity' since most data value is 'Email Opened',hence replacing NaN with 'Email Opened'\n",
    "\n",
    "ldf['Last Activity']=ldf['Last Activity'].replace(np.nan,'Email Opened')"
   ]
  },
  {
   "cell_type": "code",
   "execution_count": 467,
   "id": "0397952a",
   "metadata": {},
   "outputs": [
    {
     "data": {
      "text/plain": [
       "Google               2868\n",
       "Direct Traffic       2543\n",
       "Olark Chat           1755\n",
       "Organic Search       1154\n",
       "Reference             534\n",
       "Welingak Website      142\n",
       "Referral Sites        125\n",
       "Facebook               55\n",
       "NaN                    36\n",
       "bing                    6\n",
       "google                  5\n",
       "Click2call              4\n",
       "Press_Release           2\n",
       "Social Media            2\n",
       "Live Chat               2\n",
       "youtubechannel          1\n",
       "testone                 1\n",
       "Pay per Click Ads       1\n",
       "welearnblog_Home        1\n",
       "WeLearn                 1\n",
       "blog                    1\n",
       "NC_EDM                  1\n",
       "Name: Lead Source, dtype: int64"
      ]
     },
     "execution_count": 467,
     "metadata": {},
     "output_type": "execute_result"
    }
   ],
   "source": [
    "ldf['Lead Source'].value_counts(dropna=False)"
   ]
  },
  {
   "cell_type": "code",
   "execution_count": 468,
   "id": "a89c78d8",
   "metadata": {},
   "outputs": [],
   "source": [
    "# for column 'Lead Source' since most data value is 'Google',hence replacing NaN with 'Google' \n",
    "\n",
    "ldf['Lead Source']=ldf['Lead Source'].replace(np.nan,'Google')"
   ]
  },
  {
   "cell_type": "code",
   "execution_count": 469,
   "id": "d6e0c091",
   "metadata": {},
   "outputs": [],
   "source": [
    "ldf['Lead Source']=ldf['Lead Source'].replace('google','Google')"
   ]
  },
  {
   "cell_type": "code",
   "execution_count": 470,
   "id": "91fee14e",
   "metadata": {},
   "outputs": [],
   "source": [
    "# changing categories which are occured less than 1000\n",
    "col_dict_ls=dict(ldf['Lead Source'].value_counts()<1000)\n",
    "\n",
    "# labels which are occured less like Reference,Reffereal site we can impute to 'Other'\n",
    "for i in col_dict_ls.keys():\n",
    "    if col_dict_ls[i]==True:\n",
    "        ldf['Lead Source']=ldf['Lead Source'].replace(i,'Other')"
   ]
  },
  {
   "cell_type": "code",
   "execution_count": 471,
   "id": "5ae088f5",
   "metadata": {},
   "outputs": [
    {
     "data": {
      "text/plain": [
       "India                   6492\n",
       "NaN                     2461\n",
       "United States             69\n",
       "United Arab Emirates      53\n",
       "Singapore                 24\n",
       "Saudi Arabia              21\n",
       "United Kingdom            15\n",
       "Australia                 13\n",
       "Qatar                     10\n",
       "Bahrain                    7\n",
       "Hong Kong                  7\n",
       "Oman                       6\n",
       "France                     6\n",
       "unknown                    5\n",
       "Kuwait                     4\n",
       "South Africa               4\n",
       "Canada                     4\n",
       "Nigeria                    4\n",
       "Germany                    4\n",
       "Sweden                     3\n",
       "Philippines                2\n",
       "Uganda                     2\n",
       "Italy                      2\n",
       "Bangladesh                 2\n",
       "Netherlands                2\n",
       "Asia/Pacific Region        2\n",
       "China                      2\n",
       "Belgium                    2\n",
       "Ghana                      2\n",
       "Kenya                      1\n",
       "Sri Lanka                  1\n",
       "Tanzania                   1\n",
       "Malaysia                   1\n",
       "Liberia                    1\n",
       "Switzerland                1\n",
       "Denmark                    1\n",
       "Russia                     1\n",
       "Vietnam                    1\n",
       "Indonesia                  1\n",
       "Name: Country, dtype: int64"
      ]
     },
     "execution_count": 471,
     "metadata": {},
     "output_type": "execute_result"
    }
   ],
   "source": [
    "ldf['Country'].value_counts(dropna=False)"
   ]
  },
  {
   "cell_type": "code",
   "execution_count": 472,
   "id": "5773317d",
   "metadata": {},
   "outputs": [],
   "source": [
    "# for column 'Country' since city is 'Unknown' for null ,hence replacing NaN with 'Unknown'\n",
    "\n",
    "ldf['Country']=ldf['Country'].replace(np.nan,'Unknown')"
   ]
  },
  {
   "cell_type": "code",
   "execution_count": 473,
   "id": "26cb61d4",
   "metadata": {},
   "outputs": [],
   "source": [
    "# changing categories which are occured less than 1000\n",
    "col_dict_ls=dict(ldf['Country'].value_counts()<1000)\n",
    "\n",
    "# labels which are occured less like Reference,Reffereal site we can impute to 'Other'\n",
    "for i in col_dict_ls.keys():\n",
    "    if col_dict_ls[i]==True:\n",
    "        ldf['Country']=ldf['Country'].replace(i,'Other')"
   ]
  },
  {
   "cell_type": "code",
   "execution_count": 474,
   "id": "b4630e2b",
   "metadata": {},
   "outputs": [
    {
     "data": {
      "text/plain": [
       "Select                               1942\n",
       "NaN                                  1438\n",
       "Finance Management                    976\n",
       "Human Resource Management             848\n",
       "Marketing Management                  838\n",
       "Operations Management                 503\n",
       "Business Administration               403\n",
       "IT Projects Management                366\n",
       "Supply Chain Management               349\n",
       "Banking, Investment And Insurance     338\n",
       "Travel and Tourism                    203\n",
       "Media and Advertising                 203\n",
       "International Business                178\n",
       "Healthcare Management                 159\n",
       "Hospitality Management                114\n",
       "E-COMMERCE                            112\n",
       "Retail Management                     100\n",
       "Rural and Agribusiness                 73\n",
       "E-Business                             57\n",
       "Services Excellence                    40\n",
       "Name: Specialization, dtype: int64"
      ]
     },
     "execution_count": 474,
     "metadata": {},
     "output_type": "execute_result"
    }
   ],
   "source": [
    "ldf['Specialization'].value_counts(dropna=False)"
   ]
  },
  {
   "cell_type": "code",
   "execution_count": 475,
   "id": "c2265670",
   "metadata": {},
   "outputs": [],
   "source": [
    "# for column 'Specialization' since most data value is 'Finance Management',hence replacing NaN with 'Finance Management' \n",
    "ldf = ldf.replace('Select', np.nan)\n",
    "ldf['Specialization']=ldf['Specialization'].replace(np.nan,'Finance Management')"
   ]
  },
  {
   "cell_type": "code",
   "execution_count": 476,
   "id": "11f12539",
   "metadata": {},
   "outputs": [
    {
     "data": {
      "text/plain": [
       "NaN                            3669\n",
       "Mumbai                         3222\n",
       "Thane & Outskirts               752\n",
       "Other Cities                    686\n",
       "Other Cities of Maharashtra     457\n",
       "Other Metro Cities              380\n",
       "Tier II Cities                   74\n",
       "Name: City, dtype: int64"
      ]
     },
     "execution_count": 476,
     "metadata": {},
     "output_type": "execute_result"
    }
   ],
   "source": [
    "ldf['City'].value_counts(dropna=False)"
   ]
  },
  {
   "cell_type": "code",
   "execution_count": 477,
   "id": "a670d7ac",
   "metadata": {},
   "outputs": [],
   "source": [
    "# for column 'City' since city is 'Unknown' for null ,hence replacing NaN with 'Unknown' \n",
    "\n",
    "ldf['City']=ldf['City'].replace(np.nan,'Unknown')"
   ]
  },
  {
   "cell_type": "code",
   "execution_count": 478,
   "id": "3f15c2ea",
   "metadata": {},
   "outputs": [
    {
     "data": {
      "text/plain": [
       "NaN                            6855\n",
       "Potential Lead                 1613\n",
       "Other Leads                     487\n",
       "Student of SomeSchool           241\n",
       "Lateral Student                  24\n",
       "Dual Specialization Student      20\n",
       "Name: Lead Profile, dtype: int64"
      ]
     },
     "execution_count": 478,
     "metadata": {},
     "output_type": "execute_result"
    }
   ],
   "source": [
    "ldf['Lead Profile'].value_counts(dropna=False)"
   ]
  },
  {
   "cell_type": "code",
   "execution_count": 479,
   "id": "a5854ebe",
   "metadata": {},
   "outputs": [],
   "source": [
    "# for column 'Lead Profile' since most data value is not known ,hence replacing NaN with Unknown \n",
    "ldf['Lead Profile']=ldf['Lead Profile'].replace(np.nan,'Unknown')"
   ]
  },
  {
   "cell_type": "code",
   "execution_count": 480,
   "id": "45ada0ba",
   "metadata": {},
   "outputs": [
    {
     "data": {
      "text/plain": [
       "NaN                      7250\n",
       "Online Search             808\n",
       "Word Of Mouth             348\n",
       "Student of SomeSchool     310\n",
       "Other                     186\n",
       "Multiple Sources          152\n",
       "Advertisements             70\n",
       "Social Media               67\n",
       "Email                      26\n",
       "SMS                        23\n",
       "Name: How did you hear about X Education, dtype: int64"
      ]
     },
     "execution_count": 480,
     "metadata": {},
     "output_type": "execute_result"
    }
   ],
   "source": [
    "ldf['How did you hear about X Education'].value_counts(dropna=False)"
   ]
  },
  {
   "cell_type": "code",
   "execution_count": 481,
   "id": "671a21bd",
   "metadata": {},
   "outputs": [],
   "source": [
    "#Since max number of values are Nan , this column can be dropped\n",
    "\n",
    "ldf.drop('How did you hear about X Education',1,inplace=True)"
   ]
  },
  {
   "cell_type": "code",
   "execution_count": 482,
   "id": "e2fcae71",
   "metadata": {},
   "outputs": [
    {
     "data": {
      "text/plain": [
       "No    9240\n",
       "Name: I agree to pay the amount through cheque, dtype: int64"
      ]
     },
     "execution_count": 482,
     "metadata": {},
     "output_type": "execute_result"
    }
   ],
   "source": [
    "ldf['I agree to pay the amount through cheque'].value_counts(dropna=False)\n"
   ]
  },
  {
   "cell_type": "code",
   "execution_count": 483,
   "id": "4add2017",
   "metadata": {},
   "outputs": [
    {
     "data": {
      "text/plain": [
       "No    9240\n",
       "Name: Get updates on DM Content, dtype: int64"
      ]
     },
     "execution_count": 483,
     "metadata": {},
     "output_type": "execute_result"
    }
   ],
   "source": [
    "ldf['Get updates on DM Content'].value_counts(dropna=False)"
   ]
  },
  {
   "cell_type": "code",
   "execution_count": 484,
   "id": "b802b77e",
   "metadata": {},
   "outputs": [
    {
     "data": {
      "text/plain": [
       "No    9240\n",
       "Name: Update me on Supply Chain Content, dtype: int64"
      ]
     },
     "execution_count": 484,
     "metadata": {},
     "output_type": "execute_result"
    }
   ],
   "source": [
    "ldf['Update me on Supply Chain Content'].value_counts(dropna=False)"
   ]
  },
  {
   "cell_type": "code",
   "execution_count": 485,
   "id": "ae4c3676",
   "metadata": {},
   "outputs": [
    {
     "data": {
      "text/plain": [
       "No    9240\n",
       "Name: Receive More Updates About Our Courses, dtype: int64"
      ]
     },
     "execution_count": 485,
     "metadata": {},
     "output_type": "execute_result"
    }
   ],
   "source": [
    "ldf['Receive More Updates About Our Courses'].value_counts(dropna=False)"
   ]
  },
  {
   "cell_type": "code",
   "execution_count": 486,
   "id": "e7cd77dc",
   "metadata": {},
   "outputs": [
    {
     "data": {
      "text/plain": [
       "No     9226\n",
       "Yes      14\n",
       "Name: Search, dtype: int64"
      ]
     },
     "execution_count": 486,
     "metadata": {},
     "output_type": "execute_result"
    }
   ],
   "source": [
    "ldf['Search'].value_counts(dropna=False)"
   ]
  },
  {
   "cell_type": "code",
   "execution_count": 487,
   "id": "10de9fd7",
   "metadata": {},
   "outputs": [
    {
     "data": {
      "text/plain": [
       "No    9240\n",
       "Name: Magazine, dtype: int64"
      ]
     },
     "execution_count": 487,
     "metadata": {},
     "output_type": "execute_result"
    }
   ],
   "source": [
    "ldf['Magazine'].value_counts(dropna=False)"
   ]
  },
  {
   "cell_type": "code",
   "execution_count": 488,
   "id": "05a73048",
   "metadata": {},
   "outputs": [
    {
     "data": {
      "text/plain": [
       "No     9238\n",
       "Yes       2\n",
       "Name: Newspaper Article, dtype: int64"
      ]
     },
     "execution_count": 488,
     "metadata": {},
     "output_type": "execute_result"
    }
   ],
   "source": [
    "ldf['Newspaper Article'].value_counts(dropna=False)"
   ]
  },
  {
   "cell_type": "code",
   "execution_count": 489,
   "id": "4a83474b",
   "metadata": {},
   "outputs": [
    {
     "data": {
      "text/plain": [
       "No     9239\n",
       "Yes       1\n",
       "Name: X Education Forums, dtype: int64"
      ]
     },
     "execution_count": 489,
     "metadata": {},
     "output_type": "execute_result"
    }
   ],
   "source": [
    "ldf['X Education Forums'].value_counts(dropna=False)"
   ]
  },
  {
   "cell_type": "code",
   "execution_count": 490,
   "id": "e8d60bf5",
   "metadata": {},
   "outputs": [
    {
     "data": {
      "text/plain": [
       "No     9239\n",
       "Yes       1\n",
       "Name: Newspaper, dtype: int64"
      ]
     },
     "execution_count": 490,
     "metadata": {},
     "output_type": "execute_result"
    }
   ],
   "source": [
    "ldf['Newspaper'].value_counts(dropna=False)"
   ]
  },
  {
   "cell_type": "code",
   "execution_count": 491,
   "id": "49fa22f4",
   "metadata": {},
   "outputs": [
    {
     "data": {
      "text/plain": [
       "No     9236\n",
       "Yes       4\n",
       "Name: Digital Advertisement, dtype: int64"
      ]
     },
     "execution_count": 491,
     "metadata": {},
     "output_type": "execute_result"
    }
   ],
   "source": [
    "ldf['Digital Advertisement'].value_counts(dropna=False)"
   ]
  },
  {
   "cell_type": "code",
   "execution_count": 492,
   "id": "09cb09b4",
   "metadata": {},
   "outputs": [
    {
     "data": {
      "text/plain": [
       "No     9233\n",
       "Yes       7\n",
       "Name: Through Recommendations, dtype: int64"
      ]
     },
     "execution_count": 492,
     "metadata": {},
     "output_type": "execute_result"
    }
   ],
   "source": [
    "ldf['Through Recommendations'].value_counts(dropna=False)"
   ]
  },
  {
   "cell_type": "code",
   "execution_count": 493,
   "id": "a9dc2967",
   "metadata": {},
   "outputs": [
    {
     "data": {
      "text/plain": [
       "No     9238\n",
       "Yes       2\n",
       "Name: Do Not Call, dtype: int64"
      ]
     },
     "execution_count": 493,
     "metadata": {},
     "output_type": "execute_result"
    }
   ],
   "source": [
    "ldf['Do Not Call'].value_counts(dropna=False)"
   ]
  },
  {
   "cell_type": "code",
   "execution_count": 494,
   "id": "0c87e7e3",
   "metadata": {},
   "outputs": [],
   "source": [
    "#Since all / max values are No , all these column can be dropped\n",
    "#'I agree to pay the amount through cheque','Get updates on DM Content','Update me on Supply Chain Content','Receive More Updates About Our Courses'\n",
    "#'Search','Magazine','Newspaper Article','X Education Forums','Newspaper','Digital Advertisement','Through Recommendations'\n",
    "\n",
    "\n",
    "ldf.drop('I agree to pay the amount through cheque',1,inplace=True)\n",
    "ldf.drop('Get updates on DM Content',1,inplace=True)\n",
    "ldf.drop('Update me on Supply Chain Content',1,inplace=True)\n",
    "ldf.drop('Receive More Updates About Our Courses',1,inplace=True)\n",
    "ldf.drop('Search',1,inplace=True)\n",
    "ldf.drop('Magazine',1,inplace=True)\n",
    "ldf.drop('Newspaper Article',1,inplace=True)\n",
    "ldf.drop('X Education Forums',1,inplace=True)\n",
    "ldf.drop('Newspaper',1,inplace=True)\n",
    "ldf.drop('Digital Advertisement',1,inplace=True)\n",
    "ldf.drop('Through Recommendations',1,inplace=True)\n",
    "ldf.drop('Do Not Call',1,inplace=True)\n"
   ]
  },
  {
   "cell_type": "code",
   "execution_count": 495,
   "id": "16a7e27f",
   "metadata": {},
   "outputs": [],
   "source": [
    "#Last Notable Activity is same as Last Activity , hence dropping it\n",
    "\n",
    "ldf.drop('Last Notable Activity',1,inplace=True)"
   ]
  },
  {
   "cell_type": "code",
   "execution_count": 496,
   "id": "3df3d4f6",
   "metadata": {},
   "outputs": [
    {
     "data": {
      "text/plain": [
       "No     0.687446\n",
       "Yes    0.312554\n",
       "Name: A free copy of Mastering The Interview, dtype: float64"
      ]
     },
     "execution_count": 496,
     "metadata": {},
     "output_type": "execute_result"
    }
   ],
   "source": [
    "ldf['A free copy of Mastering The Interview'].value_counts(normalize=True)"
   ]
  },
  {
   "cell_type": "code",
   "execution_count": 497,
   "id": "21031694",
   "metadata": {},
   "outputs": [],
   "source": [
    "#Last Notable Activity is same as Last Activity , hence dropping it\n",
    "\n",
    "#ldf.drop('A free copy of Mastering The Interview',1,inplace=True)"
   ]
  },
  {
   "cell_type": "code",
   "execution_count": 498,
   "id": "e4499e08",
   "metadata": {},
   "outputs": [
    {
     "data": {
      "image/png": "[encoded data removed]",
      "text/plain": [
       "<Figure size 1080x720 with 3 Axes>"
      ]
     },
     "metadata": {
      "needs_background": "light"
     },
     "output_type": "display_data"
    }
   ],
   "source": [
    "#Outliers : Handling Outliers\n",
    "# Finding the outliers\n",
    "plt.figure(figsize = (15,10))\n",
    "plt.subplot(2,3,1)\n",
    "sns.boxplot(ldf['TotalVisits'])\n",
    "plt.subplot(2,3,2)\n",
    "sns.boxplot(ldf['Page Views Per Visit'])\n",
    "plt.subplot(2,3,3)\n",
    "sns.boxplot(ldf['Total Time Spent on Website'])\n",
    "plt.xlabel('Total Time Spent on Website')\n",
    "plt.show()"
   ]
  },
  {
   "cell_type": "code",
   "execution_count": 499,
   "id": "55a2016f",
   "metadata": {},
   "outputs": [],
   "source": [
    "#Outliers seen in TotalVisits and Page Views Per Visit hence imputing it with median \n",
    "\n",
    "ldf['TotalVisits']=ldf['TotalVisits'].fillna(ldf['TotalVisits'].median())\n",
    "ldf['Page Views Per Visit']=ldf['Page Views Per Visit'].fillna(ldf['Page Views Per Visit'].median())"
   ]
  },
  {
   "cell_type": "code",
   "execution_count": 500,
   "id": "e5b7cdeb",
   "metadata": {},
   "outputs": [
    {
     "data": {
      "text/plain": [
       "Series([], dtype: float64)"
      ]
     },
     "execution_count": 500,
     "metadata": {},
     "output_type": "execute_result"
    }
   ],
   "source": [
    "## No null values present . hence null Handling completed\n",
    "\n",
    "null_percentage = ldf.isnull().sum()/ldf.shape[0]*100\n",
    "null_percentage[(null_percentage>0)]"
   ]
  },
  {
   "cell_type": "markdown",
   "id": "1b514df9",
   "metadata": {},
   "source": [
    "# SEGMENTATION"
   ]
  },
  {
   "cell_type": "code",
   "execution_count": 501,
   "id": "42a5e70e",
   "metadata": {},
   "outputs": [
    {
     "name": "stdout",
     "output_type": "stream",
     "text": [
      "<class 'pandas.core.frame.DataFrame'>\n",
      "RangeIndex: 9240 entries, 0 to 9239\n",
      "Data columns (total 14 columns):\n",
      " #   Column                                  Non-Null Count  Dtype  \n",
      "---  ------                                  --------------  -----  \n",
      " 0   Lead Origin                             9240 non-null   object \n",
      " 1   Lead Source                             9240 non-null   object \n",
      " 2   Do Not Email                            9240 non-null   object \n",
      " 3   Converted                               9240 non-null   int64  \n",
      " 4   TotalVisits                             9240 non-null   float64\n",
      " 5   Total Time Spent on Website             9240 non-null   int64  \n",
      " 6   Page Views Per Visit                    9240 non-null   float64\n",
      " 7   Last Activity                           9240 non-null   object \n",
      " 8   Country                                 9240 non-null   object \n",
      " 9   Specialization                          9240 non-null   object \n",
      " 10  What is your current occupation         9240 non-null   object \n",
      " 11  Lead Profile                            9240 non-null   object \n",
      " 12  City                                    9240 non-null   object \n",
      " 13  A free copy of Mastering The Interview  9240 non-null   object \n",
      "dtypes: float64(2), int64(2), object(10)\n",
      "memory usage: 1010.8+ KB\n"
     ]
    }
   ],
   "source": [
    "ldf.info()"
   ]
  },
  {
   "cell_type": "code",
   "execution_count": 502,
   "id": "a874374c",
   "metadata": {},
   "outputs": [],
   "source": [
    "targetVar = 'Converted'\n",
    "ldfnum=['TotalVisits','Total Time Spent on Website','Page Views Per Visit']\n",
    "ldfcat=['Lead Origin','Lead Source','Do Not Email','Last Activity','Country','Specialization','What is your current occupation','Lead Profile','City','A free copy of Mastering The Interview']"
   ]
  },
  {
   "cell_type": "markdown",
   "id": "b2be3d11",
   "metadata": {},
   "source": [
    "# Understanding of Continous Variables"
   ]
  },
  {
   "cell_type": "code",
   "execution_count": 503,
   "id": "fb99bfc2",
   "metadata": {},
   "outputs": [
    {
     "data": {
      "image/png": "[encoded data removed]",
      "text/plain": [
       "<Figure size 720x576 with 2 Axes>"
      ]
     },
     "metadata": {
      "needs_background": "light"
     },
     "output_type": "display_data"
    }
   ],
   "source": [
    "plt.figure(figsize=(10,8))\n",
    "sns.heatmap(ldf[ldfnum].corr(),annot = True)\n",
    "plt.show()"
   ]
  },
  {
   "cell_type": "markdown",
   "id": "913db857",
   "metadata": {},
   "source": [
    "# Exploratory Data Analysis "
   ]
  },
  {
   "cell_type": "markdown",
   "id": "88aae268",
   "metadata": {},
   "source": [
    "# Univariate Analysis"
   ]
  },
  {
   "cell_type": "code",
   "execution_count": 504,
   "id": "6ca8f647",
   "metadata": {},
   "outputs": [
    {
     "data": {
      "image/png": "[encoded data removed]",
      "text/plain": [
       "<Figure size 720x144 with 1 Axes>"
      ]
     },
     "metadata": {
      "needs_background": "light"
     },
     "output_type": "display_data"
    },
    {
     "data": {
      "image/png": "[encoded data removed]",
      "text/plain": [
       "<Figure size 720x144 with 1 Axes>"
      ]
     },
     "metadata": {
      "needs_background": "light"
     },
     "output_type": "display_data"
    },
    {
     "data": {
      "image/png": "[encoded data removed]",
      "text/plain": [
       "<Figure size 720x144 with 1 Axes>"
      ]
     },
     "metadata": {
      "needs_background": "light"
     },
     "output_type": "display_data"
    }
   ],
   "source": [
    "##UNIVARIATE ANALYSIS FOR CONTINOUS/NUMERICAL VARIABLE \n",
    "\n",
    "for c in ldfnum :\n",
    "    plt.figure(figsize=(10,2))\n",
    "    plt.title(c)\n",
    "    sns.histplot(ldf[c])\n",
    "    plt.show()"
   ]
  },
  {
   "cell_type": "code",
   "execution_count": 505,
   "id": "3a499f26",
   "metadata": {},
   "outputs": [
    {
     "data": {
      "image/png": "[encoded data removed]",
      "text/plain": [
       "<Figure size 504x720 with 1 Axes>"
      ]
     },
     "metadata": {
      "needs_background": "light"
     },
     "output_type": "display_data"
    },
    {
     "data": {
      "image/png": "[encoded data removed]",
      "text/plain": [
       "<Figure size 504x720 with 1 Axes>"
      ]
     },
     "metadata": {
      "needs_background": "light"
     },
     "output_type": "display_data"
    },
    {
     "data": {
      "image/png": "[encoded data removed]",
      "text/plain": [
       "<Figure size 504x720 with 1 Axes>"
      ]
     },
     "metadata": {
      "needs_background": "light"
     },
     "output_type": "display_data"
    },
    {
     "data": {
      "image/png": "[encoded data removed]",
      "text/plain": [
       "<Figure size 504x720 with 1 Axes>"
      ]
     },
     "metadata": {
      "needs_background": "light"
     },
     "output_type": "display_data"
    },
    {
     "data": {
      "image/png": "[encoded data removed]",
      "text/plain": [
       "<Figure size 504x720 with 1 Axes>"
      ]
     },
     "metadata": {
      "needs_background": "light"
     },
     "output_type": "display_data"
    },
    {
     "data": {
      "image/png": "[encoded data removed]",
      "text/plain": [
       "<Figure size 504x720 with 1 Axes>"
      ]
     },
     "metadata": {
      "needs_background": "light"
     },
     "output_type": "display_data"
    },
    {
     "data": {
      "image/png": "[encoded data removed]",
      "text/plain": [
       "<Figure size 504x720 with 1 Axes>"
      ]
     },
     "metadata": {
      "needs_background": "light"
     },
     "output_type": "display_data"
    },
    {
     "data": {
      "image/png": "[encoded data removed]",
      "text/plain": [
       "<Figure size 504x720 with 1 Axes>"
      ]
     },
     "metadata": {
      "needs_background": "light"
     },
     "output_type": "display_data"
    },
    {
     "data": {
      "image/png": "[encoded data removed]",
      "text/plain": [
       "<Figure size 504x720 with 1 Axes>"
      ]
     },
     "metadata": {
      "needs_background": "light"
     },
     "output_type": "display_data"
    },
    {
     "data": {
      "image/png": "[encoded data removed]",
      "text/plain": [
       "<Figure size 504x720 with 1 Axes>"
      ]
     },
     "metadata": {
      "needs_background": "light"
     },
     "output_type": "display_data"
    }
   ],
   "source": [
    "##UNIVARIATE ANALYSIS FOR CATEGORICAL VARIABLE \n",
    "\n",
    "for c in ldfcat :\n",
    "    plt.figure(figsize=(7,10))\n",
    "    plt.title(c)\n",
    "    sns.countplot(ldf[c])\n",
    "    plt.yticks(size=10,rotation=45)\n",
    "    plt.xticks(size=10,rotation=90)\n",
    "    plt.show()"
   ]
  },
  {
   "cell_type": "markdown",
   "id": "86954f22",
   "metadata": {},
   "source": [
    "# Bivariate Analysis"
   ]
  },
  {
   "cell_type": "markdown",
   "id": "755a7a5d",
   "metadata": {},
   "source": [
    "# Target Column : Converted - targetVar\n",
    "\n",
    "# Categorical vs Categorical Variables"
   ]
  },
  {
   "cell_type": "code",
   "execution_count": 506,
   "id": "54534e76",
   "metadata": {},
   "outputs": [
    {
     "data": {
      "image/png": "[encoded data removed]",
      "text/plain": [
       "<Figure size 576x216 with 1 Axes>"
      ]
     },
     "metadata": {
      "needs_background": "light"
     },
     "output_type": "display_data"
    },
    {
     "data": {
      "image/png": "[encoded data removed]",
      "text/plain": [
       "<Figure size 576x216 with 1 Axes>"
      ]
     },
     "metadata": {
      "needs_background": "light"
     },
     "output_type": "display_data"
    },
    {
     "data": {
      "image/png": "[encoded data removed]",
      "text/plain": [
       "<Figure size 576x216 with 1 Axes>"
      ]
     },
     "metadata": {
      "needs_background": "light"
     },
     "output_type": "display_data"
    },
    {
     "data": {
      "image/png": "[encoded data removed]",
      "text/plain": [
       "<Figure size 576x216 with 1 Axes>"
      ]
     },
     "metadata": {
      "needs_background": "light"
     },
     "output_type": "display_data"
    },
    {
     "data": {
      "image/png": "[encoded data removed]",
      "text/plain": [
       "<Figure size 576x216 with 1 Axes>"
      ]
     },
     "metadata": {
      "needs_background": "light"
     },
     "output_type": "display_data"
    },
    {
     "data": {
      "image/png": "[encoded data removed]",
      "text/plain": [
       "<Figure size 576x216 with 1 Axes>"
      ]
     },
     "metadata": {
      "needs_background": "light"
     },
     "output_type": "display_data"
    },
    {
     "data": {
      "image/png": "[encoded data removed]",
      "text/plain": [
       "<Figure size 576x216 with 1 Axes>"
      ]
     },
     "metadata": {
      "needs_background": "light"
     },
     "output_type": "display_data"
    },
    {
     "data": {
      "image/png": "[encoded data removed]",
      "text/plain": [
       "<Figure size 576x216 with 1 Axes>"
      ]
     },
     "metadata": {
      "needs_background": "light"
     },
     "output_type": "display_data"
    },
    {
     "data": {
      "image/png": "[encoded data removed]",
      "text/plain": [
       "<Figure size 576x216 with 1 Axes>"
      ]
     },
     "metadata": {
      "needs_background": "light"
     },
     "output_type": "display_data"
    },
    {
     "data": {
      "image/png": "[encoded data removed]",
      "text/plain": [
       "<Figure size 576x216 with 1 Axes>"
      ]
     },
     "metadata": {
      "needs_background": "light"
     },
     "output_type": "display_data"
    }
   ],
   "source": [
    "for c2 in ldfcat :\n",
    "    plt.figure(figsize=(8,3))\n",
    "    plt.yticks(size=10,rotation=45)\n",
    "    plt.xticks(size=10,rotation=90)\n",
    "    plt.title(\"Converted vs \"+c2)\n",
    "    sns.countplot(data=ldf,x=c2,hue=targetVar)\n",
    "    plt.show()"
   ]
  },
  {
   "cell_type": "code",
   "execution_count": 507,
   "id": "468767a1",
   "metadata": {},
   "outputs": [],
   "source": [
    "#Insights :-\n",
    "#- Lead Source  : Direct Traffic and Google are the two main source for Converted Leads\n",
    "#- Last Activity : Email Opened and SMS Sent are the highly Converted Leads\n",
    "#- Specialization : Leads who choosed Finance Management as Specialization are greater than all others\n",
    "#- What is your current occupation :  Mostly Unemployed people have high chances of getting Converted "
   ]
  },
  {
   "cell_type": "markdown",
   "id": "2baa3bbb",
   "metadata": {},
   "source": [
    "# Numerical vs Categorical Variables"
   ]
  },
  {
   "cell_type": "code",
   "execution_count": 508,
   "id": "4ada6624",
   "metadata": {},
   "outputs": [
    {
     "data": {
      "image/png": "[encoded data removed]",
      "text/plain": [
       "<Figure size 720x144 with 1 Axes>"
      ]
     },
     "metadata": {
      "needs_background": "light"
     },
     "output_type": "display_data"
    },
    {
     "data": {
      "image/png": "[encoded data removed]",
      "text/plain": [
       "<Figure size 720x144 with 1 Axes>"
      ]
     },
     "metadata": {
      "needs_background": "light"
     },
     "output_type": "display_data"
    },
    {
     "data": {
      "image/png": "[encoded data removed]",
      "text/plain": [
       "<Figure size 720x144 with 1 Axes>"
      ]
     },
     "metadata": {
      "needs_background": "light"
     },
     "output_type": "display_data"
    }
   ],
   "source": [
    "for c2 in ldfnum :\n",
    "    plt.figure(figsize=(10,2))\n",
    "    plt.yticks(size=10,rotation=45)\n",
    "    plt.xticks(size=10,rotation=90)\n",
    "    plt.title(\"Converted vs \"+c2)\n",
    "    sns.boxplot(ldf[\"Converted\"],ldf[c2])\n",
    "    plt.show()"
   ]
  },
  {
   "cell_type": "markdown",
   "id": "734ea6cc",
   "metadata": {},
   "source": [
    "# Data encoding :Converting categorical variables to dummy variables"
   ]
  },
  {
   "cell_type": "code",
   "execution_count": 509,
   "id": "bd20cb2f",
   "metadata": {},
   "outputs": [
    {
     "name": "stdout",
     "output_type": "stream",
     "text": [
      "<class 'pandas.core.frame.DataFrame'>\n",
      "RangeIndex: 9240 entries, 0 to 9239\n",
      "Data columns (total 14 columns):\n",
      " #   Column                                  Non-Null Count  Dtype  \n",
      "---  ------                                  --------------  -----  \n",
      " 0   Lead Origin                             9240 non-null   object \n",
      " 1   Lead Source                             9240 non-null   object \n",
      " 2   Do Not Email                            9240 non-null   object \n",
      " 3   Converted                               9240 non-null   int64  \n",
      " 4   TotalVisits                             9240 non-null   float64\n",
      " 5   Total Time Spent on Website             9240 non-null   int64  \n",
      " 6   Page Views Per Visit                    9240 non-null   float64\n",
      " 7   Last Activity                           9240 non-null   object \n",
      " 8   Country                                 9240 non-null   object \n",
      " 9   Specialization                          9240 non-null   object \n",
      " 10  What is your current occupation         9240 non-null   object \n",
      " 11  Lead Profile                            9240 non-null   object \n",
      " 12  City                                    9240 non-null   object \n",
      " 13  A free copy of Mastering The Interview  9240 non-null   object \n",
      "dtypes: float64(2), int64(2), object(10)\n",
      "memory usage: 1010.8+ KB\n"
     ]
    }
   ],
   "source": [
    "ldf.info()"
   ]
  },
  {
   "cell_type": "code",
   "execution_count": 510,
   "id": "5d666378",
   "metadata": {},
   "outputs": [
    {
     "data": {
      "text/html": [
       "<div>\n",
       "<style scoped>\n",
       "    .dataframe tbody tr th:only-of-type {\n",
       "        vertical-align: middle;\n",
       "    }\n",
       "\n",
       "    .dataframe tbody tr th {\n",
       "        vertical-align: top;\n",
       "    }\n",
       "\n",
       "    .dataframe thead th {\n",
       "        text-align: right;\n",
       "    }\n",
       "</style>\n",
       "<table border=\"1\" class=\"dataframe\">\n",
       "  <thead>\n",
       "    <tr style=\"text-align: right;\">\n",
       "      <th></th>\n",
       "      <th>Lead Origin</th>\n",
       "      <th>Lead Source</th>\n",
       "      <th>Do Not Email</th>\n",
       "      <th>Converted</th>\n",
       "      <th>TotalVisits</th>\n",
       "      <th>Total Time Spent on Website</th>\n",
       "      <th>Page Views Per Visit</th>\n",
       "      <th>Last Activity</th>\n",
       "      <th>Country</th>\n",
       "      <th>Specialization</th>\n",
       "      <th>What is your current occupation</th>\n",
       "      <th>Lead Profile</th>\n",
       "      <th>City</th>\n",
       "      <th>A free copy of Mastering The Interview</th>\n",
       "    </tr>\n",
       "  </thead>\n",
       "  <tbody>\n",
       "    <tr>\n",
       "      <th>0</th>\n",
       "      <td>API</td>\n",
       "      <td>Olark Chat</td>\n",
       "      <td>No</td>\n",
       "      <td>0</td>\n",
       "      <td>0.0</td>\n",
       "      <td>0</td>\n",
       "      <td>0.0</td>\n",
       "      <td>Page Visited on Website</td>\n",
       "      <td>Unknown</td>\n",
       "      <td>Finance Management</td>\n",
       "      <td>Unemployed</td>\n",
       "      <td>Unknown</td>\n",
       "      <td>Unknown</td>\n",
       "      <td>No</td>\n",
       "    </tr>\n",
       "    <tr>\n",
       "      <th>1</th>\n",
       "      <td>API</td>\n",
       "      <td>Organic Search</td>\n",
       "      <td>No</td>\n",
       "      <td>0</td>\n",
       "      <td>5.0</td>\n",
       "      <td>674</td>\n",
       "      <td>2.5</td>\n",
       "      <td>Email Opened</td>\n",
       "      <td>India</td>\n",
       "      <td>Finance Management</td>\n",
       "      <td>Unemployed</td>\n",
       "      <td>Unknown</td>\n",
       "      <td>Unknown</td>\n",
       "      <td>No</td>\n",
       "    </tr>\n",
       "    <tr>\n",
       "      <th>2</th>\n",
       "      <td>Landing Page Submission</td>\n",
       "      <td>Direct Traffic</td>\n",
       "      <td>No</td>\n",
       "      <td>1</td>\n",
       "      <td>2.0</td>\n",
       "      <td>1532</td>\n",
       "      <td>2.0</td>\n",
       "      <td>Email Opened</td>\n",
       "      <td>India</td>\n",
       "      <td>Business Administration</td>\n",
       "      <td>Student</td>\n",
       "      <td>Potential Lead</td>\n",
       "      <td>Mumbai</td>\n",
       "      <td>Yes</td>\n",
       "    </tr>\n",
       "    <tr>\n",
       "      <th>3</th>\n",
       "      <td>Landing Page Submission</td>\n",
       "      <td>Direct Traffic</td>\n",
       "      <td>No</td>\n",
       "      <td>0</td>\n",
       "      <td>1.0</td>\n",
       "      <td>305</td>\n",
       "      <td>1.0</td>\n",
       "      <td>Unreachable</td>\n",
       "      <td>India</td>\n",
       "      <td>Media and Advertising</td>\n",
       "      <td>Unemployed</td>\n",
       "      <td>Unknown</td>\n",
       "      <td>Mumbai</td>\n",
       "      <td>No</td>\n",
       "    </tr>\n",
       "    <tr>\n",
       "      <th>4</th>\n",
       "      <td>Landing Page Submission</td>\n",
       "      <td>Google</td>\n",
       "      <td>No</td>\n",
       "      <td>1</td>\n",
       "      <td>2.0</td>\n",
       "      <td>1428</td>\n",
       "      <td>1.0</td>\n",
       "      <td>Converted to Lead</td>\n",
       "      <td>India</td>\n",
       "      <td>Finance Management</td>\n",
       "      <td>Unemployed</td>\n",
       "      <td>Unknown</td>\n",
       "      <td>Mumbai</td>\n",
       "      <td>No</td>\n",
       "    </tr>\n",
       "  </tbody>\n",
       "</table>\n",
       "</div>"
      ],
      "text/plain": [
       "               Lead Origin     Lead Source Do Not Email  Converted  \\\n",
       "0                      API      Olark Chat           No          0   \n",
       "1                      API  Organic Search           No          0   \n",
       "2  Landing Page Submission  Direct Traffic           No          1   \n",
       "3  Landing Page Submission  Direct Traffic           No          0   \n",
       "4  Landing Page Submission          Google           No          1   \n",
       "\n",
       "   TotalVisits  Total Time Spent on Website  Page Views Per Visit  \\\n",
       "0          0.0                            0                   0.0   \n",
       "1          5.0                          674                   2.5   \n",
       "2          2.0                         1532                   2.0   \n",
       "3          1.0                          305                   1.0   \n",
       "4          2.0                         1428                   1.0   \n",
       "\n",
       "             Last Activity  Country           Specialization  \\\n",
       "0  Page Visited on Website  Unknown       Finance Management   \n",
       "1             Email Opened    India       Finance Management   \n",
       "2             Email Opened    India  Business Administration   \n",
       "3              Unreachable    India    Media and Advertising   \n",
       "4        Converted to Lead    India       Finance Management   \n",
       "\n",
       "  What is your current occupation    Lead Profile     City  \\\n",
       "0                      Unemployed         Unknown  Unknown   \n",
       "1                      Unemployed         Unknown  Unknown   \n",
       "2                         Student  Potential Lead   Mumbai   \n",
       "3                      Unemployed         Unknown   Mumbai   \n",
       "4                      Unemployed         Unknown   Mumbai   \n",
       "\n",
       "  A free copy of Mastering The Interview  \n",
       "0                                     No  \n",
       "1                                     No  \n",
       "2                                    Yes  \n",
       "3                                     No  \n",
       "4                                     No  "
      ]
     },
     "execution_count": 510,
     "metadata": {},
     "output_type": "execute_result"
    }
   ],
   "source": [
    "ldf.head()"
   ]
  },
  {
   "cell_type": "code",
   "execution_count": 511,
   "id": "1bce8bdf",
   "metadata": {},
   "outputs": [
    {
     "data": {
      "text/plain": [
       "Landing Page Submission    4886\n",
       "API                        3580\n",
       "Lead Add Form               718\n",
       "Lead Import                  55\n",
       "Quick Add Form                1\n",
       "Name: Lead Origin, dtype: int64"
      ]
     },
     "execution_count": 511,
     "metadata": {},
     "output_type": "execute_result"
    }
   ],
   "source": [
    "ldf['Lead Origin'].value_counts()"
   ]
  },
  {
   "cell_type": "code",
   "execution_count": 512,
   "id": "9d69b2af",
   "metadata": {},
   "outputs": [],
   "source": [
    "#Creating Dummies\n",
    "ldf = pd.get_dummies(ldf, drop_first=True)"
   ]
  },
  {
   "cell_type": "code",
   "execution_count": 513,
   "id": "a31aa0da",
   "metadata": {},
   "outputs": [
    {
     "name": "stdout",
     "output_type": "stream",
     "text": [
      "<class 'pandas.core.frame.DataFrame'>\n",
      "RangeIndex: 9240 entries, 0 to 9239\n",
      "Data columns (total 65 columns):\n",
      " #   Column                                                Non-Null Count  Dtype  \n",
      "---  ------                                                --------------  -----  \n",
      " 0   Converted                                             9240 non-null   int64  \n",
      " 1   TotalVisits                                           9240 non-null   float64\n",
      " 2   Total Time Spent on Website                           9240 non-null   int64  \n",
      " 3   Page Views Per Visit                                  9240 non-null   float64\n",
      " 4   Lead Origin_Landing Page Submission                   9240 non-null   uint8  \n",
      " 5   Lead Origin_Lead Add Form                             9240 non-null   uint8  \n",
      " 6   Lead Origin_Lead Import                               9240 non-null   uint8  \n",
      " 7   Lead Origin_Quick Add Form                            9240 non-null   uint8  \n",
      " 8   Lead Source_Google                                    9240 non-null   uint8  \n",
      " 9   Lead Source_Olark Chat                                9240 non-null   uint8  \n",
      " 10  Lead Source_Organic Search                            9240 non-null   uint8  \n",
      " 11  Lead Source_Other                                     9240 non-null   uint8  \n",
      " 12  Do Not Email_Yes                                      9240 non-null   uint8  \n",
      " 13  Last Activity_Converted to Lead                       9240 non-null   uint8  \n",
      " 14  Last Activity_Email Bounced                           9240 non-null   uint8  \n",
      " 15  Last Activity_Email Link Clicked                      9240 non-null   uint8  \n",
      " 16  Last Activity_Email Marked Spam                       9240 non-null   uint8  \n",
      " 17  Last Activity_Email Opened                            9240 non-null   uint8  \n",
      " 18  Last Activity_Email Received                          9240 non-null   uint8  \n",
      " 19  Last Activity_Form Submitted on Website               9240 non-null   uint8  \n",
      " 20  Last Activity_Had a Phone Conversation                9240 non-null   uint8  \n",
      " 21  Last Activity_Olark Chat Conversation                 9240 non-null   uint8  \n",
      " 22  Last Activity_Page Visited on Website                 9240 non-null   uint8  \n",
      " 23  Last Activity_Resubscribed to emails                  9240 non-null   uint8  \n",
      " 24  Last Activity_SMS Sent                                9240 non-null   uint8  \n",
      " 25  Last Activity_Unreachable                             9240 non-null   uint8  \n",
      " 26  Last Activity_Unsubscribed                            9240 non-null   uint8  \n",
      " 27  Last Activity_View in browser link Clicked            9240 non-null   uint8  \n",
      " 28  Last Activity_Visited Booth in Tradeshow              9240 non-null   uint8  \n",
      " 29  Country_Other                                         9240 non-null   uint8  \n",
      " 30  Country_Unknown                                       9240 non-null   uint8  \n",
      " 31  Specialization_Business Administration                9240 non-null   uint8  \n",
      " 32  Specialization_E-Business                             9240 non-null   uint8  \n",
      " 33  Specialization_E-COMMERCE                             9240 non-null   uint8  \n",
      " 34  Specialization_Finance Management                     9240 non-null   uint8  \n",
      " 35  Specialization_Healthcare Management                  9240 non-null   uint8  \n",
      " 36  Specialization_Hospitality Management                 9240 non-null   uint8  \n",
      " 37  Specialization_Human Resource Management              9240 non-null   uint8  \n",
      " 38  Specialization_IT Projects Management                 9240 non-null   uint8  \n",
      " 39  Specialization_International Business                 9240 non-null   uint8  \n",
      " 40  Specialization_Marketing Management                   9240 non-null   uint8  \n",
      " 41  Specialization_Media and Advertising                  9240 non-null   uint8  \n",
      " 42  Specialization_Operations Management                  9240 non-null   uint8  \n",
      " 43  Specialization_Retail Management                      9240 non-null   uint8  \n",
      " 44  Specialization_Rural and Agribusiness                 9240 non-null   uint8  \n",
      " 45  Specialization_Services Excellence                    9240 non-null   uint8  \n",
      " 46  Specialization_Supply Chain Management                9240 non-null   uint8  \n",
      " 47  Specialization_Travel and Tourism                     9240 non-null   uint8  \n",
      " 48  What is your current occupation_Housewife             9240 non-null   uint8  \n",
      " 49  What is your current occupation_Other                 9240 non-null   uint8  \n",
      " 50  What is your current occupation_Student               9240 non-null   uint8  \n",
      " 51  What is your current occupation_Unemployed            9240 non-null   uint8  \n",
      " 52  What is your current occupation_Working Professional  9240 non-null   uint8  \n",
      " 53  Lead Profile_Lateral Student                          9240 non-null   uint8  \n",
      " 54  Lead Profile_Other Leads                              9240 non-null   uint8  \n",
      " 55  Lead Profile_Potential Lead                           9240 non-null   uint8  \n",
      " 56  Lead Profile_Student of SomeSchool                    9240 non-null   uint8  \n",
      " 57  Lead Profile_Unknown                                  9240 non-null   uint8  \n",
      " 58  City_Other Cities                                     9240 non-null   uint8  \n",
      " 59  City_Other Cities of Maharashtra                      9240 non-null   uint8  \n",
      " 60  City_Other Metro Cities                               9240 non-null   uint8  \n",
      " 61  City_Thane & Outskirts                                9240 non-null   uint8  \n",
      " 62  City_Tier II Cities                                   9240 non-null   uint8  \n",
      " 63  City_Unknown                                          9240 non-null   uint8  \n",
      " 64  A free copy of Mastering The Interview_Yes            9240 non-null   uint8  \n",
      "dtypes: float64(2), int64(2), uint8(61)\n",
      "memory usage: 839.3 KB\n"
     ]
    }
   ],
   "source": [
    "ldf.info()"
   ]
  },
  {
   "cell_type": "code",
   "execution_count": 514,
   "id": "60118b69",
   "metadata": {},
   "outputs": [
    {
     "name": "stdout",
     "output_type": "stream",
     "text": [
      "0    5679\n",
      "1    3561\n",
      "Name: Converted, dtype: int64\n",
      "1    4886\n",
      "0    4354\n",
      "Name: Lead Origin_Landing Page Submission, dtype: int64\n",
      "0    8522\n",
      "1     718\n",
      "Name: Lead Origin_Lead Add Form, dtype: int64\n",
      "0    9185\n",
      "1      55\n",
      "Name: Lead Origin_Lead Import, dtype: int64\n",
      "0    9239\n",
      "1       1\n",
      "Name: Lead Origin_Quick Add Form, dtype: int64\n",
      "0    6331\n",
      "1    2909\n",
      "Name: Lead Source_Google, dtype: int64\n",
      "0    7485\n",
      "1    1755\n",
      "Name: Lead Source_Olark Chat, dtype: int64\n",
      "0    8086\n",
      "1    1154\n",
      "Name: Lead Source_Organic Search, dtype: int64\n",
      "0    8361\n",
      "1     879\n",
      "Name: Lead Source_Other, dtype: int64\n",
      "0    8506\n",
      "1     734\n",
      "Name: Do Not Email_Yes, dtype: int64\n",
      "0    8812\n",
      "1     428\n",
      "Name: Last Activity_Converted to Lead, dtype: int64\n",
      "0    8914\n",
      "1     326\n",
      "Name: Last Activity_Email Bounced, dtype: int64\n",
      "0    8973\n",
      "1     267\n",
      "Name: Last Activity_Email Link Clicked, dtype: int64\n",
      "0    9238\n",
      "1       2\n",
      "Name: Last Activity_Email Marked Spam, dtype: int64\n",
      "0    5700\n",
      "1    3540\n",
      "Name: Last Activity_Email Opened, dtype: int64\n",
      "0    9238\n",
      "1       2\n",
      "Name: Last Activity_Email Received, dtype: int64\n",
      "0    9124\n",
      "1     116\n",
      "Name: Last Activity_Form Submitted on Website, dtype: int64\n",
      "0    9210\n",
      "1      30\n",
      "Name: Last Activity_Had a Phone Conversation, dtype: int64\n",
      "0    8267\n",
      "1     973\n",
      "Name: Last Activity_Olark Chat Conversation, dtype: int64\n",
      "0    8600\n",
      "1     640\n",
      "Name: Last Activity_Page Visited on Website, dtype: int64\n",
      "0    9239\n",
      "1       1\n",
      "Name: Last Activity_Resubscribed to emails, dtype: int64\n",
      "0    6495\n",
      "1    2745\n",
      "Name: Last Activity_SMS Sent, dtype: int64\n",
      "0    9147\n",
      "1      93\n",
      "Name: Last Activity_Unreachable, dtype: int64\n",
      "0    9179\n",
      "1      61\n",
      "Name: Last Activity_Unsubscribed, dtype: int64\n",
      "0    9234\n",
      "1       6\n",
      "Name: Last Activity_View in browser link Clicked, dtype: int64\n",
      "0    9239\n",
      "1       1\n",
      "Name: Last Activity_Visited Booth in Tradeshow, dtype: int64\n",
      "0    8953\n",
      "1     287\n",
      "Name: Country_Other, dtype: int64\n",
      "0    6779\n",
      "1    2461\n",
      "Name: Country_Unknown, dtype: int64\n",
      "0    8837\n",
      "1     403\n",
      "Name: Specialization_Business Administration, dtype: int64\n",
      "0    9183\n",
      "1      57\n",
      "Name: Specialization_E-Business, dtype: int64\n",
      "0    9128\n",
      "1     112\n",
      "Name: Specialization_E-COMMERCE, dtype: int64\n",
      "0    4884\n",
      "1    4356\n",
      "Name: Specialization_Finance Management, dtype: int64\n",
      "0    9081\n",
      "1     159\n",
      "Name: Specialization_Healthcare Management, dtype: int64\n",
      "0    9126\n",
      "1     114\n",
      "Name: Specialization_Hospitality Management, dtype: int64\n",
      "0    8392\n",
      "1     848\n",
      "Name: Specialization_Human Resource Management, dtype: int64\n",
      "0    8874\n",
      "1     366\n",
      "Name: Specialization_IT Projects Management, dtype: int64\n",
      "0    9062\n",
      "1     178\n",
      "Name: Specialization_International Business, dtype: int64\n",
      "0    8402\n",
      "1     838\n",
      "Name: Specialization_Marketing Management, dtype: int64\n",
      "0    9037\n",
      "1     203\n",
      "Name: Specialization_Media and Advertising, dtype: int64\n",
      "0    8737\n",
      "1     503\n",
      "Name: Specialization_Operations Management, dtype: int64\n",
      "0    9140\n",
      "1     100\n",
      "Name: Specialization_Retail Management, dtype: int64\n",
      "0    9167\n",
      "1      73\n",
      "Name: Specialization_Rural and Agribusiness, dtype: int64\n",
      "0    9200\n",
      "1      40\n",
      "Name: Specialization_Services Excellence, dtype: int64\n",
      "0    8891\n",
      "1     349\n",
      "Name: Specialization_Supply Chain Management, dtype: int64\n",
      "0    9037\n",
      "1     203\n",
      "Name: Specialization_Travel and Tourism, dtype: int64\n",
      "0    9230\n",
      "1      10\n",
      "Name: What is your current occupation_Housewife, dtype: int64\n",
      "0    9224\n",
      "1      16\n",
      "Name: What is your current occupation_Other, dtype: int64\n",
      "0    9030\n",
      "1     210\n",
      "Name: What is your current occupation_Student, dtype: int64\n",
      "1    8290\n",
      "0     950\n",
      "Name: What is your current occupation_Unemployed, dtype: int64\n",
      "0    8534\n",
      "1     706\n",
      "Name: What is your current occupation_Working Professional, dtype: int64\n",
      "0    9216\n",
      "1      24\n",
      "Name: Lead Profile_Lateral Student, dtype: int64\n",
      "0    8753\n",
      "1     487\n",
      "Name: Lead Profile_Other Leads, dtype: int64\n",
      "0    7627\n",
      "1    1613\n",
      "Name: Lead Profile_Potential Lead, dtype: int64\n",
      "0    8999\n",
      "1     241\n",
      "Name: Lead Profile_Student of SomeSchool, dtype: int64\n",
      "1    6855\n",
      "0    2385\n",
      "Name: Lead Profile_Unknown, dtype: int64\n",
      "0    8554\n",
      "1     686\n",
      "Name: City_Other Cities, dtype: int64\n",
      "0    8783\n",
      "1     457\n",
      "Name: City_Other Cities of Maharashtra, dtype: int64\n",
      "0    8860\n",
      "1     380\n",
      "Name: City_Other Metro Cities, dtype: int64\n",
      "0    8488\n",
      "1     752\n",
      "Name: City_Thane & Outskirts, dtype: int64\n",
      "0    9166\n",
      "1      74\n",
      "Name: City_Tier II Cities, dtype: int64\n",
      "0    5571\n",
      "1    3669\n",
      "Name: City_Unknown, dtype: int64\n",
      "0    6352\n",
      "1    2888\n",
      "Name: A free copy of Mastering The Interview_Yes, dtype: int64\n"
     ]
    }
   ],
   "source": [
    "# removing unnecessary columns\n",
    "\n",
    "for c1 in list(ldf):\n",
    "    if c1 not in ldfnum:\n",
    "        print(ldf[c1].value_counts())"
   ]
  },
  {
   "cell_type": "code",
   "execution_count": 515,
   "id": "15a9d182",
   "metadata": {},
   "outputs": [
    {
     "ename": "KeyError",
     "evalue": "\"['Last Activity_Approached upfront', 'What is your current occupation_Businessman'] not found in axis\"",
     "output_type": "error",
     "traceback": [
      "\u001b[1;31m---------------------------------------------------------------------------\u001b[0m",
      "\u001b[1;31mKeyError\u001b[0m                                  Traceback (most recent call last)",
      "Input \u001b[1;32mIn [515]\u001b[0m, in \u001b[0;36m<cell line: 4>\u001b[1;34m()\u001b[0m\n\u001b[0;32m      1\u001b[0m \u001b[38;5;66;03m## as per above count of all the below columns are less than 100 hence deleting them\u001b[39;00m\n\u001b[1;32m----> 4\u001b[0m ldf\u001b[38;5;241m=\u001b[39m\u001b[43mldf\u001b[49m\u001b[38;5;241;43m.\u001b[39;49m\u001b[43mdrop\u001b[49m\u001b[43m(\u001b[49m\u001b[43m[\u001b[49m\u001b[38;5;124;43m'\u001b[39;49m\u001b[38;5;124;43mLead Origin_Quick Add Form\u001b[39;49m\u001b[38;5;124;43m'\u001b[39;49m\u001b[43m,\u001b[49m\u001b[38;5;124;43m'\u001b[39;49m\u001b[38;5;124;43mLast Activity_Approached upfront\u001b[39;49m\u001b[38;5;124;43m'\u001b[39;49m\u001b[43m,\u001b[49m\u001b[38;5;124;43m'\u001b[39;49m\u001b[38;5;124;43mLast Activity_Email Marked Spam\u001b[39;49m\u001b[38;5;124;43m'\u001b[39;49m\u001b[43m,\u001b[49m\n\u001b[0;32m      5\u001b[0m \u001b[43m              \u001b[49m\u001b[38;5;124;43m'\u001b[39;49m\u001b[38;5;124;43mLast Activity_Email Received\u001b[39;49m\u001b[38;5;124;43m'\u001b[39;49m\u001b[43m,\u001b[49m\u001b[38;5;124;43m'\u001b[39;49m\u001b[38;5;124;43mLast Activity_Resubscribed to emails\u001b[39;49m\u001b[38;5;124;43m'\u001b[39;49m\u001b[43m,\u001b[49m\u001b[38;5;124;43m'\u001b[39;49m\u001b[38;5;124;43mLast Activity_View in browser link Clicked\u001b[39;49m\u001b[38;5;124;43m'\u001b[39;49m\u001b[43m,\u001b[49m\n\u001b[0;32m      6\u001b[0m \u001b[43m              \u001b[49m\u001b[38;5;124;43m'\u001b[39;49m\u001b[38;5;124;43mLast Activity_Visited Booth in Tradeshow\u001b[39;49m\u001b[38;5;124;43m'\u001b[39;49m\u001b[43m,\u001b[49m\u001b[38;5;124;43m'\u001b[39;49m\u001b[38;5;124;43mWhat is your current occupation_Businessman\u001b[39;49m\u001b[38;5;124;43m'\u001b[39;49m\u001b[43m]\u001b[49m\u001b[43m,\u001b[49m\u001b[38;5;241;43m1\u001b[39;49m\u001b[43m)\u001b[49m\n",
      "File \u001b[1;32m~\\Documents\\upgrad\\python\\lib\\site-packages\\pandas\\util\\_decorators.py:311\u001b[0m, in \u001b[0;36mdeprecate_nonkeyword_arguments.<locals>.decorate.<locals>.wrapper\u001b[1;34m(*args, **kwargs)\u001b[0m\n\u001b[0;32m    305\u001b[0m \u001b[38;5;28;01mif\u001b[39;00m \u001b[38;5;28mlen\u001b[39m(args) \u001b[38;5;241m>\u001b[39m num_allow_args:\n\u001b[0;32m    306\u001b[0m     warnings\u001b[38;5;241m.\u001b[39mwarn(\n\u001b[0;32m    307\u001b[0m         msg\u001b[38;5;241m.\u001b[39mformat(arguments\u001b[38;5;241m=\u001b[39marguments),\n\u001b[0;32m    308\u001b[0m         \u001b[38;5;167;01mFutureWarning\u001b[39;00m,\n\u001b[0;32m    309\u001b[0m         stacklevel\u001b[38;5;241m=\u001b[39mstacklevel,\n\u001b[0;32m    310\u001b[0m     )\n\u001b[1;32m--> 311\u001b[0m \u001b[38;5;28;01mreturn\u001b[39;00m func(\u001b[38;5;241m*\u001b[39margs, \u001b[38;5;241m*\u001b[39m\u001b[38;5;241m*\u001b[39mkwargs)\n",
      "File \u001b[1;32m~\\Documents\\upgrad\\python\\lib\\site-packages\\pandas\\core\\frame.py:4954\u001b[0m, in \u001b[0;36mDataFrame.drop\u001b[1;34m(self, labels, axis, index, columns, level, inplace, errors)\u001b[0m\n\u001b[0;32m   4806\u001b[0m \u001b[38;5;129m@deprecate_nonkeyword_arguments\u001b[39m(version\u001b[38;5;241m=\u001b[39m\u001b[38;5;28;01mNone\u001b[39;00m, allowed_args\u001b[38;5;241m=\u001b[39m[\u001b[38;5;124m\"\u001b[39m\u001b[38;5;124mself\u001b[39m\u001b[38;5;124m\"\u001b[39m, \u001b[38;5;124m\"\u001b[39m\u001b[38;5;124mlabels\u001b[39m\u001b[38;5;124m\"\u001b[39m])\n\u001b[0;32m   4807\u001b[0m \u001b[38;5;28;01mdef\u001b[39;00m \u001b[38;5;21mdrop\u001b[39m(\n\u001b[0;32m   4808\u001b[0m     \u001b[38;5;28mself\u001b[39m,\n\u001b[1;32m   (...)\u001b[0m\n\u001b[0;32m   4815\u001b[0m     errors: \u001b[38;5;28mstr\u001b[39m \u001b[38;5;241m=\u001b[39m \u001b[38;5;124m\"\u001b[39m\u001b[38;5;124mraise\u001b[39m\u001b[38;5;124m\"\u001b[39m,\n\u001b[0;32m   4816\u001b[0m ):\n\u001b[0;32m   4817\u001b[0m     \u001b[38;5;124;03m\"\"\"\u001b[39;00m\n\u001b[0;32m   4818\u001b[0m \u001b[38;5;124;03m    Drop specified labels from rows or columns.\u001b[39;00m\n\u001b[0;32m   4819\u001b[0m \n\u001b[1;32m   (...)\u001b[0m\n\u001b[0;32m   4952\u001b[0m \u001b[38;5;124;03m            weight  1.0     0.8\u001b[39;00m\n\u001b[0;32m   4953\u001b[0m \u001b[38;5;124;03m    \"\"\"\u001b[39;00m\n\u001b[1;32m-> 4954\u001b[0m     \u001b[38;5;28;01mreturn\u001b[39;00m \u001b[38;5;28;43msuper\u001b[39;49m\u001b[43m(\u001b[49m\u001b[43m)\u001b[49m\u001b[38;5;241;43m.\u001b[39;49m\u001b[43mdrop\u001b[49m\u001b[43m(\u001b[49m\n\u001b[0;32m   4955\u001b[0m \u001b[43m        \u001b[49m\u001b[43mlabels\u001b[49m\u001b[38;5;241;43m=\u001b[39;49m\u001b[43mlabels\u001b[49m\u001b[43m,\u001b[49m\n\u001b[0;32m   4956\u001b[0m \u001b[43m        \u001b[49m\u001b[43maxis\u001b[49m\u001b[38;5;241;43m=\u001b[39;49m\u001b[43maxis\u001b[49m\u001b[43m,\u001b[49m\n\u001b[0;32m   4957\u001b[0m \u001b[43m        \u001b[49m\u001b[43mindex\u001b[49m\u001b[38;5;241;43m=\u001b[39;49m\u001b[43mindex\u001b[49m\u001b[43m,\u001b[49m\n\u001b[0;32m   4958\u001b[0m \u001b[43m        \u001b[49m\u001b[43mcolumns\u001b[49m\u001b[38;5;241;43m=\u001b[39;49m\u001b[43mcolumns\u001b[49m\u001b[43m,\u001b[49m\n\u001b[0;32m   4959\u001b[0m \u001b[43m        \u001b[49m\u001b[43mlevel\u001b[49m\u001b[38;5;241;43m=\u001b[39;49m\u001b[43mlevel\u001b[49m\u001b[43m,\u001b[49m\n\u001b[0;32m   4960\u001b[0m \u001b[43m        \u001b[49m\u001b[43minplace\u001b[49m\u001b[38;5;241;43m=\u001b[39;49m\u001b[43minplace\u001b[49m\u001b[43m,\u001b[49m\n\u001b[0;32m   4961\u001b[0m \u001b[43m        \u001b[49m\u001b[43merrors\u001b[49m\u001b[38;5;241;43m=\u001b[39;49m\u001b[43merrors\u001b[49m\u001b[43m,\u001b[49m\n\u001b[0;32m   4962\u001b[0m \u001b[43m    \u001b[49m\u001b[43m)\u001b[49m\n",
      "File \u001b[1;32m~\\Documents\\upgrad\\python\\lib\\site-packages\\pandas\\core\\generic.py:4267\u001b[0m, in \u001b[0;36mNDFrame.drop\u001b[1;34m(self, labels, axis, index, columns, level, inplace, errors)\u001b[0m\n\u001b[0;32m   4265\u001b[0m \u001b[38;5;28;01mfor\u001b[39;00m axis, labels \u001b[38;5;129;01min\u001b[39;00m axes\u001b[38;5;241m.\u001b[39mitems():\n\u001b[0;32m   4266\u001b[0m     \u001b[38;5;28;01mif\u001b[39;00m labels \u001b[38;5;129;01mis\u001b[39;00m \u001b[38;5;129;01mnot\u001b[39;00m \u001b[38;5;28;01mNone\u001b[39;00m:\n\u001b[1;32m-> 4267\u001b[0m         obj \u001b[38;5;241m=\u001b[39m \u001b[43mobj\u001b[49m\u001b[38;5;241;43m.\u001b[39;49m\u001b[43m_drop_axis\u001b[49m\u001b[43m(\u001b[49m\u001b[43mlabels\u001b[49m\u001b[43m,\u001b[49m\u001b[43m \u001b[49m\u001b[43maxis\u001b[49m\u001b[43m,\u001b[49m\u001b[43m \u001b[49m\u001b[43mlevel\u001b[49m\u001b[38;5;241;43m=\u001b[39;49m\u001b[43mlevel\u001b[49m\u001b[43m,\u001b[49m\u001b[43m \u001b[49m\u001b[43merrors\u001b[49m\u001b[38;5;241;43m=\u001b[39;49m\u001b[43merrors\u001b[49m\u001b[43m)\u001b[49m\n\u001b[0;32m   4269\u001b[0m \u001b[38;5;28;01mif\u001b[39;00m inplace:\n\u001b[0;32m   4270\u001b[0m     \u001b[38;5;28mself\u001b[39m\u001b[38;5;241m.\u001b[39m_update_inplace(obj)\n",
      "File \u001b[1;32m~\\Documents\\upgrad\\python\\lib\\site-packages\\pandas\\core\\generic.py:4311\u001b[0m, in \u001b[0;36mNDFrame._drop_axis\u001b[1;34m(self, labels, axis, level, errors, consolidate, only_slice)\u001b[0m\n\u001b[0;32m   4309\u001b[0m         new_axis \u001b[38;5;241m=\u001b[39m axis\u001b[38;5;241m.\u001b[39mdrop(labels, level\u001b[38;5;241m=\u001b[39mlevel, errors\u001b[38;5;241m=\u001b[39merrors)\n\u001b[0;32m   4310\u001b[0m     \u001b[38;5;28;01melse\u001b[39;00m:\n\u001b[1;32m-> 4311\u001b[0m         new_axis \u001b[38;5;241m=\u001b[39m \u001b[43maxis\u001b[49m\u001b[38;5;241;43m.\u001b[39;49m\u001b[43mdrop\u001b[49m\u001b[43m(\u001b[49m\u001b[43mlabels\u001b[49m\u001b[43m,\u001b[49m\u001b[43m \u001b[49m\u001b[43merrors\u001b[49m\u001b[38;5;241;43m=\u001b[39;49m\u001b[43merrors\u001b[49m\u001b[43m)\u001b[49m\n\u001b[0;32m   4312\u001b[0m     indexer \u001b[38;5;241m=\u001b[39m axis\u001b[38;5;241m.\u001b[39mget_indexer(new_axis)\n\u001b[0;32m   4314\u001b[0m \u001b[38;5;66;03m# Case for non-unique axis\u001b[39;00m\n\u001b[0;32m   4315\u001b[0m \u001b[38;5;28;01melse\u001b[39;00m:\n",
      "File \u001b[1;32m~\\Documents\\upgrad\\python\\lib\\site-packages\\pandas\\core\\indexes\\base.py:6644\u001b[0m, in \u001b[0;36mIndex.drop\u001b[1;34m(self, labels, errors)\u001b[0m\n\u001b[0;32m   6642\u001b[0m \u001b[38;5;28;01mif\u001b[39;00m mask\u001b[38;5;241m.\u001b[39many():\n\u001b[0;32m   6643\u001b[0m     \u001b[38;5;28;01mif\u001b[39;00m errors \u001b[38;5;241m!=\u001b[39m \u001b[38;5;124m\"\u001b[39m\u001b[38;5;124mignore\u001b[39m\u001b[38;5;124m\"\u001b[39m:\n\u001b[1;32m-> 6644\u001b[0m         \u001b[38;5;28;01mraise\u001b[39;00m \u001b[38;5;167;01mKeyError\u001b[39;00m(\u001b[38;5;124mf\u001b[39m\u001b[38;5;124m\"\u001b[39m\u001b[38;5;132;01m{\u001b[39;00m\u001b[38;5;28mlist\u001b[39m(labels[mask])\u001b[38;5;132;01m}\u001b[39;00m\u001b[38;5;124m not found in axis\u001b[39m\u001b[38;5;124m\"\u001b[39m)\n\u001b[0;32m   6645\u001b[0m     indexer \u001b[38;5;241m=\u001b[39m indexer[\u001b[38;5;241m~\u001b[39mmask]\n\u001b[0;32m   6646\u001b[0m \u001b[38;5;28;01mreturn\u001b[39;00m \u001b[38;5;28mself\u001b[39m\u001b[38;5;241m.\u001b[39mdelete(indexer)\n",
      "\u001b[1;31mKeyError\u001b[0m: \"['Last Activity_Approached upfront', 'What is your current occupation_Businessman'] not found in axis\""
     ]
    }
   ],
   "source": [
    "## as per above count of all the below columns are less than 100 hence deleting them\n",
    "\n",
    "\n",
    "ldf=ldf.drop(['Lead Origin_Quick Add Form','Last Activity_Approached upfront','Last Activity_Email Marked Spam',\n",
    "              'Last Activity_Email Received','Last Activity_Resubscribed to emails','Last Activity_View in browser link Clicked',\n",
    "              'Last Activity_Visited Booth in Tradeshow','What is your current occupation_Businessman'],1)\n",
    "\n"
   ]
  },
  {
   "cell_type": "code",
   "execution_count": 516,
   "id": "9e511a8a",
   "metadata": {},
   "outputs": [
    {
     "name": "stdout",
     "output_type": "stream",
     "text": [
      "<class 'pandas.core.frame.DataFrame'>\n",
      "RangeIndex: 9240 entries, 0 to 9239\n",
      "Data columns (total 65 columns):\n",
      " #   Column                                                Non-Null Count  Dtype  \n",
      "---  ------                                                --------------  -----  \n",
      " 0   Converted                                             9240 non-null   int64  \n",
      " 1   TotalVisits                                           9240 non-null   float64\n",
      " 2   Total Time Spent on Website                           9240 non-null   int64  \n",
      " 3   Page Views Per Visit                                  9240 non-null   float64\n",
      " 4   Lead Origin_Landing Page Submission                   9240 non-null   uint8  \n",
      " 5   Lead Origin_Lead Add Form                             9240 non-null   uint8  \n",
      " 6   Lead Origin_Lead Import                               9240 non-null   uint8  \n",
      " 7   Lead Origin_Quick Add Form                            9240 non-null   uint8  \n",
      " 8   Lead Source_Google                                    9240 non-null   uint8  \n",
      " 9   Lead Source_Olark Chat                                9240 non-null   uint8  \n",
      " 10  Lead Source_Organic Search                            9240 non-null   uint8  \n",
      " 11  Lead Source_Other                                     9240 non-null   uint8  \n",
      " 12  Do Not Email_Yes                                      9240 non-null   uint8  \n",
      " 13  Last Activity_Converted to Lead                       9240 non-null   uint8  \n",
      " 14  Last Activity_Email Bounced                           9240 non-null   uint8  \n",
      " 15  Last Activity_Email Link Clicked                      9240 non-null   uint8  \n",
      " 16  Last Activity_Email Marked Spam                       9240 non-null   uint8  \n",
      " 17  Last Activity_Email Opened                            9240 non-null   uint8  \n",
      " 18  Last Activity_Email Received                          9240 non-null   uint8  \n",
      " 19  Last Activity_Form Submitted on Website               9240 non-null   uint8  \n",
      " 20  Last Activity_Had a Phone Conversation                9240 non-null   uint8  \n",
      " 21  Last Activity_Olark Chat Conversation                 9240 non-null   uint8  \n",
      " 22  Last Activity_Page Visited on Website                 9240 non-null   uint8  \n",
      " 23  Last Activity_Resubscribed to emails                  9240 non-null   uint8  \n",
      " 24  Last Activity_SMS Sent                                9240 non-null   uint8  \n",
      " 25  Last Activity_Unreachable                             9240 non-null   uint8  \n",
      " 26  Last Activity_Unsubscribed                            9240 non-null   uint8  \n",
      " 27  Last Activity_View in browser link Clicked            9240 non-null   uint8  \n",
      " 28  Last Activity_Visited Booth in Tradeshow              9240 non-null   uint8  \n",
      " 29  Country_Other                                         9240 non-null   uint8  \n",
      " 30  Country_Unknown                                       9240 non-null   uint8  \n",
      " 31  Specialization_Business Administration                9240 non-null   uint8  \n",
      " 32  Specialization_E-Business                             9240 non-null   uint8  \n",
      " 33  Specialization_E-COMMERCE                             9240 non-null   uint8  \n",
      " 34  Specialization_Finance Management                     9240 non-null   uint8  \n",
      " 35  Specialization_Healthcare Management                  9240 non-null   uint8  \n",
      " 36  Specialization_Hospitality Management                 9240 non-null   uint8  \n",
      " 37  Specialization_Human Resource Management              9240 non-null   uint8  \n",
      " 38  Specialization_IT Projects Management                 9240 non-null   uint8  \n",
      " 39  Specialization_International Business                 9240 non-null   uint8  \n",
      " 40  Specialization_Marketing Management                   9240 non-null   uint8  \n",
      " 41  Specialization_Media and Advertising                  9240 non-null   uint8  \n",
      " 42  Specialization_Operations Management                  9240 non-null   uint8  \n",
      " 43  Specialization_Retail Management                      9240 non-null   uint8  \n",
      " 44  Specialization_Rural and Agribusiness                 9240 non-null   uint8  \n",
      " 45  Specialization_Services Excellence                    9240 non-null   uint8  \n",
      " 46  Specialization_Supply Chain Management                9240 non-null   uint8  \n",
      " 47  Specialization_Travel and Tourism                     9240 non-null   uint8  \n",
      " 48  What is your current occupation_Housewife             9240 non-null   uint8  \n",
      " 49  What is your current occupation_Other                 9240 non-null   uint8  \n",
      " 50  What is your current occupation_Student               9240 non-null   uint8  \n",
      " 51  What is your current occupation_Unemployed            9240 non-null   uint8  \n",
      " 52  What is your current occupation_Working Professional  9240 non-null   uint8  \n",
      " 53  Lead Profile_Lateral Student                          9240 non-null   uint8  \n",
      " 54  Lead Profile_Other Leads                              9240 non-null   uint8  \n",
      " 55  Lead Profile_Potential Lead                           9240 non-null   uint8  \n",
      " 56  Lead Profile_Student of SomeSchool                    9240 non-null   uint8  \n",
      " 57  Lead Profile_Unknown                                  9240 non-null   uint8  \n",
      " 58  City_Other Cities                                     9240 non-null   uint8  \n",
      " 59  City_Other Cities of Maharashtra                      9240 non-null   uint8  \n",
      " 60  City_Other Metro Cities                               9240 non-null   uint8  \n",
      " 61  City_Thane & Outskirts                                9240 non-null   uint8  \n",
      " 62  City_Tier II Cities                                   9240 non-null   uint8  \n",
      " 63  City_Unknown                                          9240 non-null   uint8  \n",
      " 64  A free copy of Mastering The Interview_Yes            9240 non-null   uint8  \n",
      "dtypes: float64(2), int64(2), uint8(61)\n",
      "memory usage: 839.3 KB\n"
     ]
    }
   ],
   "source": [
    "ldf.info()"
   ]
  },
  {
   "cell_type": "markdown",
   "id": "cd64a2d9",
   "metadata": {},
   "source": [
    "# Model Evaluation "
   ]
  },
  {
   "cell_type": "markdown",
   "id": "2df7384a",
   "metadata": {},
   "source": [
    "# Splitting into train and test"
   ]
  },
  {
   "cell_type": "code",
   "execution_count": 517,
   "id": "20159fef",
   "metadata": {},
   "outputs": [
    {
     "name": "stdout",
     "output_type": "stream",
     "text": [
      "(6468, 65)\n",
      "(2772, 65)\n"
     ]
    }
   ],
   "source": [
    "#Test-train split\n",
    "\n",
    "df_train, df_test = train_test_split(ldf,train_size=0.70,random_state=100)\n",
    "print(df_train.shape)\n",
    "print(df_test.shape)"
   ]
  },
  {
   "cell_type": "markdown",
   "id": "c1f68da2",
   "metadata": {},
   "source": [
    "# Rescaling for variables"
   ]
  },
  {
   "cell_type": "code",
   "execution_count": 518,
   "id": "2243cde9",
   "metadata": {},
   "outputs": [
    {
     "data": {
      "text/html": [
       "<div>\n",
       "<style scoped>\n",
       "    .dataframe tbody tr th:only-of-type {\n",
       "        vertical-align: middle;\n",
       "    }\n",
       "\n",
       "    .dataframe tbody tr th {\n",
       "        vertical-align: top;\n",
       "    }\n",
       "\n",
       "    .dataframe thead th {\n",
       "        text-align: right;\n",
       "    }\n",
       "</style>\n",
       "<table border=\"1\" class=\"dataframe\">\n",
       "  <thead>\n",
       "    <tr style=\"text-align: right;\">\n",
       "      <th></th>\n",
       "      <th>Converted</th>\n",
       "      <th>TotalVisits</th>\n",
       "      <th>Total Time Spent on Website</th>\n",
       "      <th>Page Views Per Visit</th>\n",
       "      <th>Lead Origin_Landing Page Submission</th>\n",
       "      <th>Lead Origin_Lead Add Form</th>\n",
       "      <th>Lead Origin_Lead Import</th>\n",
       "      <th>Lead Origin_Quick Add Form</th>\n",
       "      <th>Lead Source_Google</th>\n",
       "      <th>Lead Source_Olark Chat</th>\n",
       "      <th>...</th>\n",
       "      <th>Lead Profile_Potential Lead</th>\n",
       "      <th>Lead Profile_Student of SomeSchool</th>\n",
       "      <th>Lead Profile_Unknown</th>\n",
       "      <th>City_Other Cities</th>\n",
       "      <th>City_Other Cities of Maharashtra</th>\n",
       "      <th>City_Other Metro Cities</th>\n",
       "      <th>City_Thane &amp; Outskirts</th>\n",
       "      <th>City_Tier II Cities</th>\n",
       "      <th>City_Unknown</th>\n",
       "      <th>A free copy of Mastering The Interview_Yes</th>\n",
       "    </tr>\n",
       "  </thead>\n",
       "  <tbody>\n",
       "    <tr>\n",
       "      <th>1871</th>\n",
       "      <td>0</td>\n",
       "      <td>0.000000</td>\n",
       "      <td>0.000000</td>\n",
       "      <td>0.000000</td>\n",
       "      <td>0</td>\n",
       "      <td>0</td>\n",
       "      <td>0</td>\n",
       "      <td>0</td>\n",
       "      <td>0</td>\n",
       "      <td>1</td>\n",
       "      <td>...</td>\n",
       "      <td>0</td>\n",
       "      <td>0</td>\n",
       "      <td>1</td>\n",
       "      <td>0</td>\n",
       "      <td>0</td>\n",
       "      <td>0</td>\n",
       "      <td>0</td>\n",
       "      <td>0</td>\n",
       "      <td>1</td>\n",
       "      <td>0</td>\n",
       "    </tr>\n",
       "    <tr>\n",
       "      <th>6795</th>\n",
       "      <td>0</td>\n",
       "      <td>0.015936</td>\n",
       "      <td>0.214349</td>\n",
       "      <td>0.024182</td>\n",
       "      <td>1</td>\n",
       "      <td>0</td>\n",
       "      <td>0</td>\n",
       "      <td>0</td>\n",
       "      <td>0</td>\n",
       "      <td>0</td>\n",
       "      <td>...</td>\n",
       "      <td>0</td>\n",
       "      <td>0</td>\n",
       "      <td>1</td>\n",
       "      <td>1</td>\n",
       "      <td>0</td>\n",
       "      <td>0</td>\n",
       "      <td>0</td>\n",
       "      <td>0</td>\n",
       "      <td>0</td>\n",
       "      <td>1</td>\n",
       "    </tr>\n",
       "    <tr>\n",
       "      <th>3516</th>\n",
       "      <td>0</td>\n",
       "      <td>0.019920</td>\n",
       "      <td>0.046655</td>\n",
       "      <td>0.045455</td>\n",
       "      <td>0</td>\n",
       "      <td>0</td>\n",
       "      <td>0</td>\n",
       "      <td>0</td>\n",
       "      <td>0</td>\n",
       "      <td>1</td>\n",
       "      <td>...</td>\n",
       "      <td>0</td>\n",
       "      <td>0</td>\n",
       "      <td>1</td>\n",
       "      <td>0</td>\n",
       "      <td>0</td>\n",
       "      <td>0</td>\n",
       "      <td>0</td>\n",
       "      <td>0</td>\n",
       "      <td>1</td>\n",
       "      <td>0</td>\n",
       "    </tr>\n",
       "    <tr>\n",
       "      <th>8105</th>\n",
       "      <td>0</td>\n",
       "      <td>0.019920</td>\n",
       "      <td>0.541373</td>\n",
       "      <td>0.090909</td>\n",
       "      <td>1</td>\n",
       "      <td>0</td>\n",
       "      <td>0</td>\n",
       "      <td>0</td>\n",
       "      <td>1</td>\n",
       "      <td>0</td>\n",
       "      <td>...</td>\n",
       "      <td>0</td>\n",
       "      <td>0</td>\n",
       "      <td>1</td>\n",
       "      <td>0</td>\n",
       "      <td>0</td>\n",
       "      <td>0</td>\n",
       "      <td>0</td>\n",
       "      <td>0</td>\n",
       "      <td>0</td>\n",
       "      <td>0</td>\n",
       "    </tr>\n",
       "    <tr>\n",
       "      <th>3934</th>\n",
       "      <td>0</td>\n",
       "      <td>0.000000</td>\n",
       "      <td>0.000000</td>\n",
       "      <td>0.000000</td>\n",
       "      <td>0</td>\n",
       "      <td>0</td>\n",
       "      <td>0</td>\n",
       "      <td>0</td>\n",
       "      <td>0</td>\n",
       "      <td>1</td>\n",
       "      <td>...</td>\n",
       "      <td>0</td>\n",
       "      <td>0</td>\n",
       "      <td>1</td>\n",
       "      <td>0</td>\n",
       "      <td>0</td>\n",
       "      <td>0</td>\n",
       "      <td>0</td>\n",
       "      <td>0</td>\n",
       "      <td>1</td>\n",
       "      <td>0</td>\n",
       "    </tr>\n",
       "  </tbody>\n",
       "</table>\n",
       "<p>5 rows × 65 columns</p>\n",
       "</div>"
      ],
      "text/plain": [
       "      Converted  TotalVisits  Total Time Spent on Website  \\\n",
       "1871          0     0.000000                     0.000000   \n",
       "6795          0     0.015936                     0.214349   \n",
       "3516          0     0.019920                     0.046655   \n",
       "8105          0     0.019920                     0.541373   \n",
       "3934          0     0.000000                     0.000000   \n",
       "\n",
       "      Page Views Per Visit  Lead Origin_Landing Page Submission  \\\n",
       "1871              0.000000                                    0   \n",
       "6795              0.024182                                    1   \n",
       "3516              0.045455                                    0   \n",
       "8105              0.090909                                    1   \n",
       "3934              0.000000                                    0   \n",
       "\n",
       "      Lead Origin_Lead Add Form  Lead Origin_Lead Import  \\\n",
       "1871                          0                        0   \n",
       "6795                          0                        0   \n",
       "3516                          0                        0   \n",
       "8105                          0                        0   \n",
       "3934                          0                        0   \n",
       "\n",
       "      Lead Origin_Quick Add Form  Lead Source_Google  Lead Source_Olark Chat  \\\n",
       "1871                           0                   0                       1   \n",
       "6795                           0                   0                       0   \n",
       "3516                           0                   0                       1   \n",
       "8105                           0                   1                       0   \n",
       "3934                           0                   0                       1   \n",
       "\n",
       "      ...  Lead Profile_Potential Lead  Lead Profile_Student of SomeSchool  \\\n",
       "1871  ...                            0                                   0   \n",
       "6795  ...                            0                                   0   \n",
       "3516  ...                            0                                   0   \n",
       "8105  ...                            0                                   0   \n",
       "3934  ...                            0                                   0   \n",
       "\n",
       "      Lead Profile_Unknown  City_Other Cities  \\\n",
       "1871                     1                  0   \n",
       "6795                     1                  1   \n",
       "3516                     1                  0   \n",
       "8105                     1                  0   \n",
       "3934                     1                  0   \n",
       "\n",
       "      City_Other Cities of Maharashtra  City_Other Metro Cities  \\\n",
       "1871                                 0                        0   \n",
       "6795                                 0                        0   \n",
       "3516                                 0                        0   \n",
       "8105                                 0                        0   \n",
       "3934                                 0                        0   \n",
       "\n",
       "      City_Thane & Outskirts  City_Tier II Cities  City_Unknown  \\\n",
       "1871                       0                    0             1   \n",
       "6795                       0                    0             0   \n",
       "3516                       0                    0             1   \n",
       "8105                       0                    0             0   \n",
       "3934                       0                    0             1   \n",
       "\n",
       "      A free copy of Mastering The Interview_Yes  \n",
       "1871                                           0  \n",
       "6795                                           1  \n",
       "3516                                           0  \n",
       "8105                                           0  \n",
       "3934                                           0  \n",
       "\n",
       "[5 rows x 65 columns]"
      ]
     },
     "execution_count": 518,
     "metadata": {},
     "output_type": "execute_result"
    }
   ],
   "source": [
    "scaler = MinMaxScaler()\n",
    "df_train[ldfnum] = scaler.fit_transform(df_train[ldfnum])\n",
    "df_train.head()"
   ]
  },
  {
   "cell_type": "markdown",
   "id": "a5e1e1a7",
   "metadata": {},
   "source": [
    "# Training the model"
   ]
  },
  {
   "cell_type": "code",
   "execution_count": 519,
   "id": "ae642fde",
   "metadata": {},
   "outputs": [
    {
     "data": {
      "image/png": "[encoded data removed]",
      "text/plain": [
       "<Figure size 1296x864 with 2 Axes>"
      ]
     },
     "metadata": {
      "needs_background": "light"
     },
     "output_type": "display_data"
    }
   ],
   "source": [
    "#Heatmap\n",
    "plt.figure(figsize=(18,12))\n",
    "sns.heatmap(df_train[ldfnum].corr(),annot = True,cmap =\"YlGnBu\")\n",
    "plt.show()"
   ]
  },
  {
   "cell_type": "code",
   "execution_count": 520,
   "id": "5aee6544",
   "metadata": {},
   "outputs": [],
   "source": [
    "y_train = df_train.pop('Converted')"
   ]
  },
  {
   "cell_type": "code",
   "execution_count": 521,
   "id": "4341a75d",
   "metadata": {},
   "outputs": [],
   "source": [
    "y_test = df_test.pop('Converted')"
   ]
  },
  {
   "cell_type": "code",
   "execution_count": 522,
   "id": "70141aba",
   "metadata": {},
   "outputs": [],
   "source": [
    "x_train = df_train"
   ]
  },
  {
   "cell_type": "code",
   "execution_count": 523,
   "id": "2db0a24e",
   "metadata": {},
   "outputs": [],
   "source": [
    "x_test = df_test"
   ]
  },
  {
   "cell_type": "code",
   "execution_count": 524,
   "id": "3ef1d87f",
   "metadata": {},
   "outputs": [
    {
     "data": {
      "text/plain": [
       "1871    0\n",
       "6795    0\n",
       "3516    0\n",
       "8105    0\n",
       "3934    0\n",
       "Name: Converted, dtype: int64"
      ]
     },
     "execution_count": 524,
     "metadata": {},
     "output_type": "execute_result"
    }
   ],
   "source": [
    "y_train.head()"
   ]
  },
  {
   "cell_type": "code",
   "execution_count": 525,
   "id": "ac5c1782",
   "metadata": {},
   "outputs": [
    {
     "data": {
      "text/html": [
       "<div>\n",
       "<style scoped>\n",
       "    .dataframe tbody tr th:only-of-type {\n",
       "        vertical-align: middle;\n",
       "    }\n",
       "\n",
       "    .dataframe tbody tr th {\n",
       "        vertical-align: top;\n",
       "    }\n",
       "\n",
       "    .dataframe thead th {\n",
       "        text-align: right;\n",
       "    }\n",
       "</style>\n",
       "<table border=\"1\" class=\"dataframe\">\n",
       "  <thead>\n",
       "    <tr style=\"text-align: right;\">\n",
       "      <th></th>\n",
       "      <th>TotalVisits</th>\n",
       "      <th>Total Time Spent on Website</th>\n",
       "      <th>Page Views Per Visit</th>\n",
       "      <th>Lead Origin_Landing Page Submission</th>\n",
       "      <th>Lead Origin_Lead Add Form</th>\n",
       "      <th>Lead Origin_Lead Import</th>\n",
       "      <th>Lead Origin_Quick Add Form</th>\n",
       "      <th>Lead Source_Google</th>\n",
       "      <th>Lead Source_Olark Chat</th>\n",
       "      <th>Lead Source_Organic Search</th>\n",
       "      <th>...</th>\n",
       "      <th>Lead Profile_Potential Lead</th>\n",
       "      <th>Lead Profile_Student of SomeSchool</th>\n",
       "      <th>Lead Profile_Unknown</th>\n",
       "      <th>City_Other Cities</th>\n",
       "      <th>City_Other Cities of Maharashtra</th>\n",
       "      <th>City_Other Metro Cities</th>\n",
       "      <th>City_Thane &amp; Outskirts</th>\n",
       "      <th>City_Tier II Cities</th>\n",
       "      <th>City_Unknown</th>\n",
       "      <th>A free copy of Mastering The Interview_Yes</th>\n",
       "    </tr>\n",
       "  </thead>\n",
       "  <tbody>\n",
       "    <tr>\n",
       "      <th>1871</th>\n",
       "      <td>0.000000</td>\n",
       "      <td>0.000000</td>\n",
       "      <td>0.000000</td>\n",
       "      <td>0</td>\n",
       "      <td>0</td>\n",
       "      <td>0</td>\n",
       "      <td>0</td>\n",
       "      <td>0</td>\n",
       "      <td>1</td>\n",
       "      <td>0</td>\n",
       "      <td>...</td>\n",
       "      <td>0</td>\n",
       "      <td>0</td>\n",
       "      <td>1</td>\n",
       "      <td>0</td>\n",
       "      <td>0</td>\n",
       "      <td>0</td>\n",
       "      <td>0</td>\n",
       "      <td>0</td>\n",
       "      <td>1</td>\n",
       "      <td>0</td>\n",
       "    </tr>\n",
       "    <tr>\n",
       "      <th>6795</th>\n",
       "      <td>0.015936</td>\n",
       "      <td>0.214349</td>\n",
       "      <td>0.024182</td>\n",
       "      <td>1</td>\n",
       "      <td>0</td>\n",
       "      <td>0</td>\n",
       "      <td>0</td>\n",
       "      <td>0</td>\n",
       "      <td>0</td>\n",
       "      <td>0</td>\n",
       "      <td>...</td>\n",
       "      <td>0</td>\n",
       "      <td>0</td>\n",
       "      <td>1</td>\n",
       "      <td>1</td>\n",
       "      <td>0</td>\n",
       "      <td>0</td>\n",
       "      <td>0</td>\n",
       "      <td>0</td>\n",
       "      <td>0</td>\n",
       "      <td>1</td>\n",
       "    </tr>\n",
       "    <tr>\n",
       "      <th>3516</th>\n",
       "      <td>0.019920</td>\n",
       "      <td>0.046655</td>\n",
       "      <td>0.045455</td>\n",
       "      <td>0</td>\n",
       "      <td>0</td>\n",
       "      <td>0</td>\n",
       "      <td>0</td>\n",
       "      <td>0</td>\n",
       "      <td>1</td>\n",
       "      <td>0</td>\n",
       "      <td>...</td>\n",
       "      <td>0</td>\n",
       "      <td>0</td>\n",
       "      <td>1</td>\n",
       "      <td>0</td>\n",
       "      <td>0</td>\n",
       "      <td>0</td>\n",
       "      <td>0</td>\n",
       "      <td>0</td>\n",
       "      <td>1</td>\n",
       "      <td>0</td>\n",
       "    </tr>\n",
       "    <tr>\n",
       "      <th>8105</th>\n",
       "      <td>0.019920</td>\n",
       "      <td>0.541373</td>\n",
       "      <td>0.090909</td>\n",
       "      <td>1</td>\n",
       "      <td>0</td>\n",
       "      <td>0</td>\n",
       "      <td>0</td>\n",
       "      <td>1</td>\n",
       "      <td>0</td>\n",
       "      <td>0</td>\n",
       "      <td>...</td>\n",
       "      <td>0</td>\n",
       "      <td>0</td>\n",
       "      <td>1</td>\n",
       "      <td>0</td>\n",
       "      <td>0</td>\n",
       "      <td>0</td>\n",
       "      <td>0</td>\n",
       "      <td>0</td>\n",
       "      <td>0</td>\n",
       "      <td>0</td>\n",
       "    </tr>\n",
       "    <tr>\n",
       "      <th>3934</th>\n",
       "      <td>0.000000</td>\n",
       "      <td>0.000000</td>\n",
       "      <td>0.000000</td>\n",
       "      <td>0</td>\n",
       "      <td>0</td>\n",
       "      <td>0</td>\n",
       "      <td>0</td>\n",
       "      <td>0</td>\n",
       "      <td>1</td>\n",
       "      <td>0</td>\n",
       "      <td>...</td>\n",
       "      <td>0</td>\n",
       "      <td>0</td>\n",
       "      <td>1</td>\n",
       "      <td>0</td>\n",
       "      <td>0</td>\n",
       "      <td>0</td>\n",
       "      <td>0</td>\n",
       "      <td>0</td>\n",
       "      <td>1</td>\n",
       "      <td>0</td>\n",
       "    </tr>\n",
       "  </tbody>\n",
       "</table>\n",
       "<p>5 rows × 64 columns</p>\n",
       "</div>"
      ],
      "text/plain": [
       "      TotalVisits  Total Time Spent on Website  Page Views Per Visit  \\\n",
       "1871     0.000000                     0.000000              0.000000   \n",
       "6795     0.015936                     0.214349              0.024182   \n",
       "3516     0.019920                     0.046655              0.045455   \n",
       "8105     0.019920                     0.541373              0.090909   \n",
       "3934     0.000000                     0.000000              0.000000   \n",
       "\n",
       "      Lead Origin_Landing Page Submission  Lead Origin_Lead Add Form  \\\n",
       "1871                                    0                          0   \n",
       "6795                                    1                          0   \n",
       "3516                                    0                          0   \n",
       "8105                                    1                          0   \n",
       "3934                                    0                          0   \n",
       "\n",
       "      Lead Origin_Lead Import  Lead Origin_Quick Add Form  Lead Source_Google  \\\n",
       "1871                        0                           0                   0   \n",
       "6795                        0                           0                   0   \n",
       "3516                        0                           0                   0   \n",
       "8105                        0                           0                   1   \n",
       "3934                        0                           0                   0   \n",
       "\n",
       "      Lead Source_Olark Chat  Lead Source_Organic Search  ...  \\\n",
       "1871                       1                           0  ...   \n",
       "6795                       0                           0  ...   \n",
       "3516                       1                           0  ...   \n",
       "8105                       0                           0  ...   \n",
       "3934                       1                           0  ...   \n",
       "\n",
       "      Lead Profile_Potential Lead  Lead Profile_Student of SomeSchool  \\\n",
       "1871                            0                                   0   \n",
       "6795                            0                                   0   \n",
       "3516                            0                                   0   \n",
       "8105                            0                                   0   \n",
       "3934                            0                                   0   \n",
       "\n",
       "      Lead Profile_Unknown  City_Other Cities  \\\n",
       "1871                     1                  0   \n",
       "6795                     1                  1   \n",
       "3516                     1                  0   \n",
       "8105                     1                  0   \n",
       "3934                     1                  0   \n",
       "\n",
       "      City_Other Cities of Maharashtra  City_Other Metro Cities  \\\n",
       "1871                                 0                        0   \n",
       "6795                                 0                        0   \n",
       "3516                                 0                        0   \n",
       "8105                                 0                        0   \n",
       "3934                                 0                        0   \n",
       "\n",
       "      City_Thane & Outskirts  City_Tier II Cities  City_Unknown  \\\n",
       "1871                       0                    0             1   \n",
       "6795                       0                    0             0   \n",
       "3516                       0                    0             1   \n",
       "8105                       0                    0             0   \n",
       "3934                       0                    0             1   \n",
       "\n",
       "      A free copy of Mastering The Interview_Yes  \n",
       "1871                                           0  \n",
       "6795                                           1  \n",
       "3516                                           0  \n",
       "8105                                           0  \n",
       "3934                                           0  \n",
       "\n",
       "[5 rows x 64 columns]"
      ]
     },
     "execution_count": 525,
     "metadata": {},
     "output_type": "execute_result"
    }
   ],
   "source": [
    "x_train.head()"
   ]
  },
  {
   "cell_type": "code",
   "execution_count": 526,
   "id": "21417b5f",
   "metadata": {},
   "outputs": [],
   "source": [
    "#Using RFE for selection\n",
    "lrg=LogisticRegression()\n"
   ]
  },
  {
   "cell_type": "code",
   "execution_count": 527,
   "id": "ad4dcce3",
   "metadata": {},
   "outputs": [],
   "source": [
    "# Running RFE with the output number of the variable equal to 20\n",
    "rfe=RFE(lrg,n_features_to_select=20)    # running RFE\n",
    "rfe=rfe.fit(x_train,y_train)\n"
   ]
  },
  {
   "cell_type": "code",
   "execution_count": 528,
   "id": "fbd37e18",
   "metadata": {
    "scrolled": true
   },
   "outputs": [
    {
     "data": {
      "text/plain": [
       "array([ True,  True,  True, False,  True,  True, False, False, False,\n",
       "       False, False,  True,  True,  True, False, False, False, False,\n",
       "       False,  True,  True, False,  True,  True, False, False, False,\n",
       "       False, False,  True, False, False, False, False, False,  True,\n",
       "       False, False, False, False, False, False, False, False, False,\n",
       "       False, False,  True, False, False,  True,  True, False,  True,\n",
       "       False,  True,  True, False, False, False, False, False, False,\n",
       "       False])"
      ]
     },
     "execution_count": 528,
     "metadata": {},
     "output_type": "execute_result"
    }
   ],
   "source": [
    "rfe.support_"
   ]
  },
  {
   "cell_type": "code",
   "execution_count": 529,
   "id": "218f8b82",
   "metadata": {},
   "outputs": [
    {
     "data": {
      "text/plain": [
       "[('TotalVisits', True, 1),\n",
       " ('Total Time Spent on Website', True, 1),\n",
       " ('Page Views Per Visit', True, 1),\n",
       " ('Lead Origin_Landing Page Submission', False, 4),\n",
       " ('Lead Origin_Lead Add Form', True, 1),\n",
       " ('Lead Origin_Lead Import', True, 1),\n",
       " ('Lead Origin_Quick Add Form', False, 24),\n",
       " ('Lead Source_Google', False, 17),\n",
       " ('Lead Source_Olark Chat', False, 9),\n",
       " ('Lead Source_Organic Search', False, 26),\n",
       " ('Lead Source_Other', False, 16),\n",
       " ('Do Not Email_Yes', True, 1),\n",
       " ('Last Activity_Converted to Lead', True, 1),\n",
       " ('Last Activity_Email Bounced', True, 1),\n",
       " ('Last Activity_Email Link Clicked', False, 8),\n",
       " ('Last Activity_Email Marked Spam', False, 25),\n",
       " ('Last Activity_Email Opened', False, 38),\n",
       " ('Last Activity_Email Received', False, 19),\n",
       " ('Last Activity_Form Submitted on Website', False, 6),\n",
       " ('Last Activity_Had a Phone Conversation', True, 1),\n",
       " ('Last Activity_Olark Chat Conversation', True, 1),\n",
       " ('Last Activity_Page Visited on Website', False, 7),\n",
       " ('Last Activity_Resubscribed to emails', True, 1),\n",
       " ('Last Activity_SMS Sent', True, 1),\n",
       " ('Last Activity_Unreachable', False, 29),\n",
       " ('Last Activity_Unsubscribed', False, 15),\n",
       " ('Last Activity_View in browser link Clicked', False, 18),\n",
       " ('Last Activity_Visited Booth in Tradeshow', False, 34),\n",
       " ('Country_Other', False, 23),\n",
       " ('Country_Unknown', True, 1),\n",
       " ('Specialization_Business Administration', False, 28),\n",
       " ('Specialization_E-Business', False, 33),\n",
       " ('Specialization_E-COMMERCE', False, 21),\n",
       " ('Specialization_Finance Management', False, 40),\n",
       " ('Specialization_Healthcare Management', False, 31),\n",
       " ('Specialization_Hospitality Management', True, 1),\n",
       " ('Specialization_Human Resource Management', False, 39),\n",
       " ('Specialization_IT Projects Management', False, 20),\n",
       " ('Specialization_International Business', False, 13),\n",
       " ('Specialization_Marketing Management', False, 41),\n",
       " ('Specialization_Media and Advertising', False, 30),\n",
       " ('Specialization_Operations Management', False, 43),\n",
       " ('Specialization_Retail Management', False, 10),\n",
       " ('Specialization_Rural and Agribusiness', False, 3),\n",
       " ('Specialization_Services Excellence', False, 45),\n",
       " ('Specialization_Supply Chain Management', False, 42),\n",
       " ('Specialization_Travel and Tourism', False, 27),\n",
       " ('What is your current occupation_Housewife', True, 1),\n",
       " ('What is your current occupation_Other', False, 11),\n",
       " ('What is your current occupation_Student', False, 14),\n",
       " ('What is your current occupation_Unemployed', True, 1),\n",
       " ('What is your current occupation_Working Professional', True, 1),\n",
       " ('Lead Profile_Lateral Student', False, 2),\n",
       " ('Lead Profile_Other Leads', True, 1),\n",
       " ('Lead Profile_Potential Lead', False, 12),\n",
       " ('Lead Profile_Student of SomeSchool', True, 1),\n",
       " ('Lead Profile_Unknown', True, 1),\n",
       " ('City_Other Cities', False, 37),\n",
       " ('City_Other Cities of Maharashtra', False, 35),\n",
       " ('City_Other Metro Cities', False, 22),\n",
       " ('City_Thane & Outskirts', False, 36),\n",
       " ('City_Tier II Cities', False, 44),\n",
       " ('City_Unknown', False, 5),\n",
       " ('A free copy of Mastering The Interview_Yes', False, 32)]"
      ]
     },
     "execution_count": 529,
     "metadata": {},
     "output_type": "execute_result"
    }
   ],
   "source": [
    "list(zip(x_train.columns, rfe.support_, rfe.ranking_))"
   ]
  },
  {
   "cell_type": "code",
   "execution_count": 530,
   "id": "46d5f0b7",
   "metadata": {},
   "outputs": [
    {
     "data": {
      "text/plain": [
       "Index(['Lead Origin_Landing Page Submission', 'Lead Origin_Quick Add Form',\n",
       "       'Lead Source_Google', 'Lead Source_Olark Chat',\n",
       "       'Lead Source_Organic Search', 'Lead Source_Other',\n",
       "       'Last Activity_Email Link Clicked', 'Last Activity_Email Marked Spam',\n",
       "       'Last Activity_Email Opened', 'Last Activity_Email Received',\n",
       "       'Last Activity_Form Submitted on Website',\n",
       "       'Last Activity_Page Visited on Website', 'Last Activity_Unreachable',\n",
       "       'Last Activity_Unsubscribed',\n",
       "       'Last Activity_View in browser link Clicked',\n",
       "       'Last Activity_Visited Booth in Tradeshow', 'Country_Other',\n",
       "       'Specialization_Business Administration', 'Specialization_E-Business',\n",
       "       'Specialization_E-COMMERCE', 'Specialization_Finance Management',\n",
       "       'Specialization_Healthcare Management',\n",
       "       'Specialization_Human Resource Management',\n",
       "       'Specialization_IT Projects Management',\n",
       "       'Specialization_International Business',\n",
       "       'Specialization_Marketing Management',\n",
       "       'Specialization_Media and Advertising',\n",
       "       'Specialization_Operations Management',\n",
       "       'Specialization_Retail Management',\n",
       "       'Specialization_Rural and Agribusiness',\n",
       "       'Specialization_Services Excellence',\n",
       "       'Specialization_Supply Chain Management',\n",
       "       'Specialization_Travel and Tourism',\n",
       "       'What is your current occupation_Other',\n",
       "       'What is your current occupation_Student',\n",
       "       'Lead Profile_Lateral Student', 'Lead Profile_Potential Lead',\n",
       "       'City_Other Cities', 'City_Other Cities of Maharashtra',\n",
       "       'City_Other Metro Cities', 'City_Thane & Outskirts',\n",
       "       'City_Tier II Cities', 'City_Unknown',\n",
       "       'A free copy of Mastering The Interview_Yes'],\n",
       "      dtype='object')"
      ]
     },
     "execution_count": 530,
     "metadata": {},
     "output_type": "execute_result"
    }
   ],
   "source": [
    "col= x_train.columns[~rfe.support_]\n",
    "col"
   ]
  },
  {
   "cell_type": "markdown",
   "id": "00756ce6",
   "metadata": {},
   "source": [
    "# Building the Logistic Regression Model"
   ]
  },
  {
   "cell_type": "code",
   "execution_count": 531,
   "id": "83951190",
   "metadata": {},
   "outputs": [],
   "source": [
    " x_train_rfe = x_train[col]"
   ]
  },
  {
   "cell_type": "code",
   "execution_count": 532,
   "id": "e1d035e5",
   "metadata": {},
   "outputs": [
    {
     "data": {
      "text/html": [
       "<table class=\"simpletable\">\n",
       "<caption>Generalized Linear Model Regression Results</caption>\n",
       "<tr>\n",
       "  <th>Dep. Variable:</th>       <td>Converted</td>    <th>  No. Observations:  </th>  <td>  6468</td> \n",
       "</tr>\n",
       "<tr>\n",
       "  <th>Model:</th>                  <td>GLM</td>       <th>  Df Residuals:      </th>  <td>  6423</td> \n",
       "</tr>\n",
       "<tr>\n",
       "  <th>Model Family:</th>        <td>Binomial</td>     <th>  Df Model:          </th>  <td>    44</td> \n",
       "</tr>\n",
       "<tr>\n",
       "  <th>Link Function:</th>         <td>Logit</td>      <th>  Scale:             </th> <td>  1.0000</td>\n",
       "</tr>\n",
       "<tr>\n",
       "  <th>Method:</th>                <td>IRLS</td>       <th>  Log-Likelihood:    </th> <td> -3557.8</td>\n",
       "</tr>\n",
       "<tr>\n",
       "  <th>Date:</th>            <td>Sat, 20 May 2023</td> <th>  Deviance:          </th> <td>  7115.6</td>\n",
       "</tr>\n",
       "<tr>\n",
       "  <th>Time:</th>                <td>16:47:01</td>     <th>  Pearson chi2:      </th> <td>6.49e+03</td>\n",
       "</tr>\n",
       "<tr>\n",
       "  <th>No. Iterations:</th>         <td>20</td>        <th>  Pseudo R-squ. (CS):</th>  <td>0.2049</td> \n",
       "</tr>\n",
       "<tr>\n",
       "  <th>Covariance Type:</th>     <td>nonrobust</td>    <th>                     </th>     <td> </td>   \n",
       "</tr>\n",
       "</table>\n",
       "<table class=\"simpletable\">\n",
       "<tr>\n",
       "                       <td></td>                         <th>coef</th>     <th>std err</th>      <th>z</th>      <th>P>|z|</th>  <th>[0.025</th>    <th>0.975]</th>  \n",
       "</tr>\n",
       "<tr>\n",
       "  <th>const</th>                                      <td>   -0.1635</td> <td>    0.206</td> <td>   -0.795</td> <td> 0.427</td> <td>   -0.566</td> <td>    0.239</td>\n",
       "</tr>\n",
       "<tr>\n",
       "  <th>Lead Origin_Landing Page Submission</th>        <td>   -0.6265</td> <td>    0.125</td> <td>   -5.007</td> <td> 0.000</td> <td>   -0.872</td> <td>   -0.381</td>\n",
       "</tr>\n",
       "<tr>\n",
       "  <th>Lead Origin_Quick Add Form</th>                 <td>   21.3226</td> <td> 2.92e+04</td> <td>    0.001</td> <td> 0.999</td> <td>-5.73e+04</td> <td> 5.73e+04</td>\n",
       "</tr>\n",
       "<tr>\n",
       "  <th>Lead Source_Google</th>                         <td>    0.3567</td> <td>    0.095</td> <td>    3.739</td> <td> 0.000</td> <td>    0.170</td> <td>    0.544</td>\n",
       "</tr>\n",
       "<tr>\n",
       "  <th>Lead Source_Olark Chat</th>                     <td>   -0.2897</td> <td>    0.125</td> <td>   -2.320</td> <td> 0.020</td> <td>   -0.534</td> <td>   -0.045</td>\n",
       "</tr>\n",
       "<tr>\n",
       "  <th>Lead Source_Organic Search</th>                 <td>    0.1400</td> <td>    0.105</td> <td>    1.329</td> <td> 0.184</td> <td>   -0.066</td> <td>    0.346</td>\n",
       "</tr>\n",
       "<tr>\n",
       "  <th>Lead Source_Other</th>                          <td>    1.6668</td> <td>    0.145</td> <td>   11.496</td> <td> 0.000</td> <td>    1.383</td> <td>    1.951</td>\n",
       "</tr>\n",
       "<tr>\n",
       "  <th>Last Activity_Email Link Clicked</th>           <td>   -1.0702</td> <td>    0.205</td> <td>   -5.225</td> <td> 0.000</td> <td>   -1.472</td> <td>   -0.669</td>\n",
       "</tr>\n",
       "<tr>\n",
       "  <th>Last Activity_Email Marked Spam</th>            <td>   20.6910</td> <td> 2.92e+04</td> <td>    0.001</td> <td> 0.999</td> <td>-5.73e+04</td> <td> 5.73e+04</td>\n",
       "</tr>\n",
       "<tr>\n",
       "  <th>Last Activity_Email Opened</th>                 <td>   -0.4787</td> <td>    0.063</td> <td>   -7.545</td> <td> 0.000</td> <td>   -0.603</td> <td>   -0.354</td>\n",
       "</tr>\n",
       "<tr>\n",
       "  <th>Last Activity_Email Received</th>               <td>   21.8597</td> <td> 2.07e+04</td> <td>    0.001</td> <td> 0.999</td> <td>-4.05e+04</td> <td> 4.05e+04</td>\n",
       "</tr>\n",
       "<tr>\n",
       "  <th>Last Activity_Form Submitted on Website</th>    <td>   -1.2507</td> <td>    0.290</td> <td>   -4.311</td> <td> 0.000</td> <td>   -1.819</td> <td>   -0.682</td>\n",
       "</tr>\n",
       "<tr>\n",
       "  <th>Last Activity_Page Visited on Website</th>      <td>   -1.0199</td> <td>    0.129</td> <td>   -7.921</td> <td> 0.000</td> <td>   -1.272</td> <td>   -0.768</td>\n",
       "</tr>\n",
       "<tr>\n",
       "  <th>Last Activity_Unreachable</th>                  <td>   -0.7182</td> <td>    0.332</td> <td>   -2.162</td> <td> 0.031</td> <td>   -1.369</td> <td>   -0.067</td>\n",
       "</tr>\n",
       "<tr>\n",
       "  <th>Last Activity_Unsubscribed</th>                 <td>   -1.0966</td> <td>    0.421</td> <td>   -2.605</td> <td> 0.009</td> <td>   -1.922</td> <td>   -0.272</td>\n",
       "</tr>\n",
       "<tr>\n",
       "  <th>Last Activity_View in browser link Clicked</th> <td>   -0.6734</td> <td>    1.128</td> <td>   -0.597</td> <td> 0.551</td> <td>   -2.885</td> <td>    1.538</td>\n",
       "</tr>\n",
       "<tr>\n",
       "  <th>Last Activity_Visited Booth in Tradeshow</th>   <td>  -20.8694</td> <td> 2.92e+04</td> <td>   -0.001</td> <td> 0.999</td> <td>-5.73e+04</td> <td> 5.73e+04</td>\n",
       "</tr>\n",
       "<tr>\n",
       "  <th>Country_Other</th>                              <td>   -0.2950</td> <td>    0.174</td> <td>   -1.693</td> <td> 0.090</td> <td>   -0.637</td> <td>    0.047</td>\n",
       "</tr>\n",
       "<tr>\n",
       "  <th>Specialization_Business Administration</th>     <td>    0.0927</td> <td>    0.191</td> <td>    0.486</td> <td> 0.627</td> <td>   -0.281</td> <td>    0.467</td>\n",
       "</tr>\n",
       "<tr>\n",
       "  <th>Specialization_E-Business</th>                  <td>   -0.2051</td> <td>    0.422</td> <td>   -0.487</td> <td> 0.627</td> <td>   -1.031</td> <td>    0.621</td>\n",
       "</tr>\n",
       "<tr>\n",
       "  <th>Specialization_E-COMMERCE</th>                  <td>   -0.1287</td> <td>    0.291</td> <td>   -0.442</td> <td> 0.658</td> <td>   -0.699</td> <td>    0.442</td>\n",
       "</tr>\n",
       "<tr>\n",
       "  <th>Specialization_Finance Management</th>          <td>   -0.2634</td> <td>    0.151</td> <td>   -1.743</td> <td> 0.081</td> <td>   -0.560</td> <td>    0.033</td>\n",
       "</tr>\n",
       "<tr>\n",
       "  <th>Specialization_Healthcare Management</th>       <td>    0.3907</td> <td>    0.271</td> <td>    1.442</td> <td> 0.149</td> <td>   -0.140</td> <td>    0.922</td>\n",
       "</tr>\n",
       "<tr>\n",
       "  <th>Specialization_Human Resource Management</th>   <td>    0.1495</td> <td>    0.164</td> <td>    0.914</td> <td> 0.361</td> <td>   -0.171</td> <td>    0.470</td>\n",
       "</tr>\n",
       "<tr>\n",
       "  <th>Specialization_IT Projects Management</th>      <td>    0.0927</td> <td>    0.198</td> <td>    0.469</td> <td> 0.639</td> <td>   -0.295</td> <td>    0.480</td>\n",
       "</tr>\n",
       "<tr>\n",
       "  <th>Specialization_International Business</th>      <td>   -0.4286</td> <td>    0.258</td> <td>   -1.661</td> <td> 0.097</td> <td>   -0.934</td> <td>    0.077</td>\n",
       "</tr>\n",
       "<tr>\n",
       "  <th>Specialization_Marketing Management</th>        <td>    0.1298</td> <td>    0.163</td> <td>    0.797</td> <td> 0.425</td> <td>   -0.189</td> <td>    0.449</td>\n",
       "</tr>\n",
       "<tr>\n",
       "  <th>Specialization_Media and Advertising</th>       <td>    0.2641</td> <td>    0.236</td> <td>    1.120</td> <td> 0.263</td> <td>   -0.198</td> <td>    0.726</td>\n",
       "</tr>\n",
       "<tr>\n",
       "  <th>Specialization_Operations Management</th>       <td>    0.3545</td> <td>    0.177</td> <td>    2.005</td> <td> 0.045</td> <td>    0.008</td> <td>    0.701</td>\n",
       "</tr>\n",
       "<tr>\n",
       "  <th>Specialization_Retail Management</th>           <td>   -0.0797</td> <td>    0.307</td> <td>   -0.260</td> <td> 0.795</td> <td>   -0.681</td> <td>    0.521</td>\n",
       "</tr>\n",
       "<tr>\n",
       "  <th>Specialization_Rural and Agribusiness</th>      <td>    0.6428</td> <td>    0.342</td> <td>    1.882</td> <td> 0.060</td> <td>   -0.027</td> <td>    1.312</td>\n",
       "</tr>\n",
       "<tr>\n",
       "  <th>Specialization_Services Excellence</th>         <td>   -0.1269</td> <td>    0.450</td> <td>   -0.282</td> <td> 0.778</td> <td>   -1.008</td> <td>    0.754</td>\n",
       "</tr>\n",
       "<tr>\n",
       "  <th>Specialization_Supply Chain Management</th>     <td>    0.1410</td> <td>    0.198</td> <td>    0.712</td> <td> 0.476</td> <td>   -0.247</td> <td>    0.529</td>\n",
       "</tr>\n",
       "<tr>\n",
       "  <th>Specialization_Travel and Tourism</th>          <td>   -0.2968</td> <td>    0.242</td> <td>   -1.226</td> <td> 0.220</td> <td>   -0.772</td> <td>    0.178</td>\n",
       "</tr>\n",
       "<tr>\n",
       "  <th>What is your current occupation_Other</th>      <td>    0.4417</td> <td>    0.825</td> <td>    0.535</td> <td> 0.593</td> <td>   -1.176</td> <td>    2.059</td>\n",
       "</tr>\n",
       "<tr>\n",
       "  <th>What is your current occupation_Student</th>    <td>   -0.0168</td> <td>    0.207</td> <td>   -0.081</td> <td> 0.935</td> <td>   -0.423</td> <td>    0.390</td>\n",
       "</tr>\n",
       "<tr>\n",
       "  <th>Lead Profile_Lateral Student</th>               <td>    3.2157</td> <td>    1.054</td> <td>    3.051</td> <td> 0.002</td> <td>    1.150</td> <td>    5.282</td>\n",
       "</tr>\n",
       "<tr>\n",
       "  <th>Lead Profile_Potential Lead</th>                <td>    1.8673</td> <td>    0.084</td> <td>   22.193</td> <td> 0.000</td> <td>    1.702</td> <td>    2.032</td>\n",
       "</tr>\n",
       "<tr>\n",
       "  <th>City_Other Cities</th>                          <td>    0.0764</td> <td>    0.117</td> <td>    0.654</td> <td> 0.513</td> <td>   -0.153</td> <td>    0.305</td>\n",
       "</tr>\n",
       "<tr>\n",
       "  <th>City_Other Cities of Maharashtra</th>           <td>   -0.0405</td> <td>    0.138</td> <td>   -0.293</td> <td> 0.769</td> <td>   -0.311</td> <td>    0.230</td>\n",
       "</tr>\n",
       "<tr>\n",
       "  <th>City_Other Metro Cities</th>                    <td>    0.1789</td> <td>    0.148</td> <td>    1.211</td> <td> 0.226</td> <td>   -0.111</td> <td>    0.469</td>\n",
       "</tr>\n",
       "<tr>\n",
       "  <th>City_Thane & Outskirts</th>                     <td>    0.0578</td> <td>    0.115</td> <td>    0.502</td> <td> 0.616</td> <td>   -0.168</td> <td>    0.284</td>\n",
       "</tr>\n",
       "<tr>\n",
       "  <th>City_Tier II Cities</th>                        <td>   -0.0749</td> <td>    0.333</td> <td>   -0.225</td> <td> 0.822</td> <td>   -0.728</td> <td>    0.578</td>\n",
       "</tr>\n",
       "<tr>\n",
       "  <th>City_Unknown</th>                               <td>   -0.4723</td> <td>    0.131</td> <td>   -3.607</td> <td> 0.000</td> <td>   -0.729</td> <td>   -0.216</td>\n",
       "</tr>\n",
       "<tr>\n",
       "  <th>A free copy of Mastering The Interview_Yes</th> <td>   -0.0545</td> <td>    0.091</td> <td>   -0.596</td> <td> 0.551</td> <td>   -0.234</td> <td>    0.125</td>\n",
       "</tr>\n",
       "</table>"
      ],
      "text/plain": [
       "<class 'statsmodels.iolib.summary.Summary'>\n",
       "\"\"\"\n",
       "                 Generalized Linear Model Regression Results                  \n",
       "==============================================================================\n",
       "Dep. Variable:              Converted   No. Observations:                 6468\n",
       "Model:                            GLM   Df Residuals:                     6423\n",
       "Model Family:                Binomial   Df Model:                           44\n",
       "Link Function:                  Logit   Scale:                          1.0000\n",
       "Method:                          IRLS   Log-Likelihood:                -3557.8\n",
       "Date:                Sat, 20 May 2023   Deviance:                       7115.6\n",
       "Time:                        16:47:01   Pearson chi2:                 6.49e+03\n",
       "No. Iterations:                    20   Pseudo R-squ. (CS):             0.2049\n",
       "Covariance Type:            nonrobust                                         \n",
       "==============================================================================================================\n",
       "                                                 coef    std err          z      P>|z|      [0.025      0.975]\n",
       "--------------------------------------------------------------------------------------------------------------\n",
       "const                                         -0.1635      0.206     -0.795      0.427      -0.566       0.239\n",
       "Lead Origin_Landing Page Submission           -0.6265      0.125     -5.007      0.000      -0.872      -0.381\n",
       "Lead Origin_Quick Add Form                    21.3226   2.92e+04      0.001      0.999   -5.73e+04    5.73e+04\n",
       "Lead Source_Google                             0.3567      0.095      3.739      0.000       0.170       0.544\n",
       "Lead Source_Olark Chat                        -0.2897      0.125     -2.320      0.020      -0.534      -0.045\n",
       "Lead Source_Organic Search                     0.1400      0.105      1.329      0.184      -0.066       0.346\n",
       "Lead Source_Other                              1.6668      0.145     11.496      0.000       1.383       1.951\n",
       "Last Activity_Email Link Clicked              -1.0702      0.205     -5.225      0.000      -1.472      -0.669\n",
       "Last Activity_Email Marked Spam               20.6910   2.92e+04      0.001      0.999   -5.73e+04    5.73e+04\n",
       "Last Activity_Email Opened                    -0.4787      0.063     -7.545      0.000      -0.603      -0.354\n",
       "Last Activity_Email Received                  21.8597   2.07e+04      0.001      0.999   -4.05e+04    4.05e+04\n",
       "Last Activity_Form Submitted on Website       -1.2507      0.290     -4.311      0.000      -1.819      -0.682\n",
       "Last Activity_Page Visited on Website         -1.0199      0.129     -7.921      0.000      -1.272      -0.768\n",
       "Last Activity_Unreachable                     -0.7182      0.332     -2.162      0.031      -1.369      -0.067\n",
       "Last Activity_Unsubscribed                    -1.0966      0.421     -2.605      0.009      -1.922      -0.272\n",
       "Last Activity_View in browser link Clicked    -0.6734      1.128     -0.597      0.551      -2.885       1.538\n",
       "Last Activity_Visited Booth in Tradeshow     -20.8694   2.92e+04     -0.001      0.999   -5.73e+04    5.73e+04\n",
       "Country_Other                                 -0.2950      0.174     -1.693      0.090      -0.637       0.047\n",
       "Specialization_Business Administration         0.0927      0.191      0.486      0.627      -0.281       0.467\n",
       "Specialization_E-Business                     -0.2051      0.422     -0.487      0.627      -1.031       0.621\n",
       "Specialization_E-COMMERCE                     -0.1287      0.291     -0.442      0.658      -0.699       0.442\n",
       "Specialization_Finance Management             -0.2634      0.151     -1.743      0.081      -0.560       0.033\n",
       "Specialization_Healthcare Management           0.3907      0.271      1.442      0.149      -0.140       0.922\n",
       "Specialization_Human Resource Management       0.1495      0.164      0.914      0.361      -0.171       0.470\n",
       "Specialization_IT Projects Management          0.0927      0.198      0.469      0.639      -0.295       0.480\n",
       "Specialization_International Business         -0.4286      0.258     -1.661      0.097      -0.934       0.077\n",
       "Specialization_Marketing Management            0.1298      0.163      0.797      0.425      -0.189       0.449\n",
       "Specialization_Media and Advertising           0.2641      0.236      1.120      0.263      -0.198       0.726\n",
       "Specialization_Operations Management           0.3545      0.177      2.005      0.045       0.008       0.701\n",
       "Specialization_Retail Management              -0.0797      0.307     -0.260      0.795      -0.681       0.521\n",
       "Specialization_Rural and Agribusiness          0.6428      0.342      1.882      0.060      -0.027       1.312\n",
       "Specialization_Services Excellence            -0.1269      0.450     -0.282      0.778      -1.008       0.754\n",
       "Specialization_Supply Chain Management         0.1410      0.198      0.712      0.476      -0.247       0.529\n",
       "Specialization_Travel and Tourism             -0.2968      0.242     -1.226      0.220      -0.772       0.178\n",
       "What is your current occupation_Other          0.4417      0.825      0.535      0.593      -1.176       2.059\n",
       "What is your current occupation_Student       -0.0168      0.207     -0.081      0.935      -0.423       0.390\n",
       "Lead Profile_Lateral Student                   3.2157      1.054      3.051      0.002       1.150       5.282\n",
       "Lead Profile_Potential Lead                    1.8673      0.084     22.193      0.000       1.702       2.032\n",
       "City_Other Cities                              0.0764      0.117      0.654      0.513      -0.153       0.305\n",
       "City_Other Cities of Maharashtra              -0.0405      0.138     -0.293      0.769      -0.311       0.230\n",
       "City_Other Metro Cities                        0.1789      0.148      1.211      0.226      -0.111       0.469\n",
       "City_Thane & Outskirts                         0.0578      0.115      0.502      0.616      -0.168       0.284\n",
       "City_Tier II Cities                           -0.0749      0.333     -0.225      0.822      -0.728       0.578\n",
       "City_Unknown                                  -0.4723      0.131     -3.607      0.000      -0.729      -0.216\n",
       "A free copy of Mastering The Interview_Yes    -0.0545      0.091     -0.596      0.551      -0.234       0.125\n",
       "==============================================================================================================\n",
       "\"\"\""
      ]
     },
     "execution_count": 532,
     "metadata": {},
     "output_type": "execute_result"
    }
   ],
   "source": [
    "x_train_sm = sm.add_constant(x_train_rfe)\n",
    "logm1 = sm.GLM(y_train,x_train_sm, family = sm.families.Binomial())\n",
    "logm1.fit().summary()"
   ]
  },
  {
   "cell_type": "code",
   "execution_count": 533,
   "id": "879b6802",
   "metadata": {},
   "outputs": [
    {
     "data": {
      "text/html": [
       "<div>\n",
       "<style scoped>\n",
       "    .dataframe tbody tr th:only-of-type {\n",
       "        vertical-align: middle;\n",
       "    }\n",
       "\n",
       "    .dataframe tbody tr th {\n",
       "        vertical-align: top;\n",
       "    }\n",
       "\n",
       "    .dataframe thead th {\n",
       "        text-align: right;\n",
       "    }\n",
       "</style>\n",
       "<table border=\"1\" class=\"dataframe\">\n",
       "  <thead>\n",
       "    <tr style=\"text-align: right;\">\n",
       "      <th></th>\n",
       "      <th>Features</th>\n",
       "      <th>VIF</th>\n",
       "    </tr>\n",
       "  </thead>\n",
       "  <tbody>\n",
       "    <tr>\n",
       "      <th>31</th>\n",
       "      <td>Specialization_Supply Chain Management</td>\n",
       "      <td>1.50</td>\n",
       "    </tr>\n",
       "    <tr>\n",
       "      <th>23</th>\n",
       "      <td>Specialization_IT Projects Management</td>\n",
       "      <td>1.47</td>\n",
       "    </tr>\n",
       "    <tr>\n",
       "      <th>32</th>\n",
       "      <td>Specialization_Travel and Tourism</td>\n",
       "      <td>1.34</td>\n",
       "    </tr>\n",
       "    <tr>\n",
       "      <th>26</th>\n",
       "      <td>Specialization_Media and Advertising</td>\n",
       "      <td>1.30</td>\n",
       "    </tr>\n",
       "    <tr>\n",
       "      <th>24</th>\n",
       "      <td>Specialization_International Business</td>\n",
       "      <td>1.25</td>\n",
       "    </tr>\n",
       "    <tr>\n",
       "      <th>21</th>\n",
       "      <td>Specialization_Healthcare Management</td>\n",
       "      <td>1.21</td>\n",
       "    </tr>\n",
       "    <tr>\n",
       "      <th>19</th>\n",
       "      <td>Specialization_E-COMMERCE</td>\n",
       "      <td>1.18</td>\n",
       "    </tr>\n",
       "    <tr>\n",
       "      <th>28</th>\n",
       "      <td>Specialization_Retail Management</td>\n",
       "      <td>1.15</td>\n",
       "    </tr>\n",
       "    <tr>\n",
       "      <th>29</th>\n",
       "      <td>Specialization_Rural and Agribusiness</td>\n",
       "      <td>1.13</td>\n",
       "    </tr>\n",
       "    <tr>\n",
       "      <th>16</th>\n",
       "      <td>Country_Other</td>\n",
       "      <td>1.09</td>\n",
       "    </tr>\n",
       "    <tr>\n",
       "      <th>18</th>\n",
       "      <td>Specialization_E-Business</td>\n",
       "      <td>1.08</td>\n",
       "    </tr>\n",
       "    <tr>\n",
       "      <th>30</th>\n",
       "      <td>Specialization_Services Excellence</td>\n",
       "      <td>1.06</td>\n",
       "    </tr>\n",
       "    <tr>\n",
       "      <th>6</th>\n",
       "      <td>Last Activity_Email Link Clicked</td>\n",
       "      <td>1.06</td>\n",
       "    </tr>\n",
       "    <tr>\n",
       "      <th>10</th>\n",
       "      <td>Last Activity_Form Submitted on Website</td>\n",
       "      <td>1.05</td>\n",
       "    </tr>\n",
       "    <tr>\n",
       "      <th>41</th>\n",
       "      <td>City_Tier II Cities</td>\n",
       "      <td>1.04</td>\n",
       "    </tr>\n",
       "    <tr>\n",
       "      <th>12</th>\n",
       "      <td>Last Activity_Unreachable</td>\n",
       "      <td>1.03</td>\n",
       "    </tr>\n",
       "    <tr>\n",
       "      <th>34</th>\n",
       "      <td>What is your current occupation_Student</td>\n",
       "      <td>1.03</td>\n",
       "    </tr>\n",
       "    <tr>\n",
       "      <th>1</th>\n",
       "      <td>Lead Origin_Quick Add Form</td>\n",
       "      <td>1.02</td>\n",
       "    </tr>\n",
       "    <tr>\n",
       "      <th>35</th>\n",
       "      <td>Lead Profile_Lateral Student</td>\n",
       "      <td>1.02</td>\n",
       "    </tr>\n",
       "    <tr>\n",
       "      <th>13</th>\n",
       "      <td>Last Activity_Unsubscribed</td>\n",
       "      <td>1.02</td>\n",
       "    </tr>\n",
       "    <tr>\n",
       "      <th>33</th>\n",
       "      <td>What is your current occupation_Other</td>\n",
       "      <td>1.01</td>\n",
       "    </tr>\n",
       "    <tr>\n",
       "      <th>7</th>\n",
       "      <td>Last Activity_Email Marked Spam</td>\n",
       "      <td>1.01</td>\n",
       "    </tr>\n",
       "    <tr>\n",
       "      <th>9</th>\n",
       "      <td>Last Activity_Email Received</td>\n",
       "      <td>1.00</td>\n",
       "    </tr>\n",
       "    <tr>\n",
       "      <th>15</th>\n",
       "      <td>Last Activity_Visited Booth in Tradeshow</td>\n",
       "      <td>1.00</td>\n",
       "    </tr>\n",
       "    <tr>\n",
       "      <th>14</th>\n",
       "      <td>Last Activity_View in browser link Clicked</td>\n",
       "      <td>1.00</td>\n",
       "    </tr>\n",
       "    <tr>\n",
       "      <th>20</th>\n",
       "      <td>Specialization_Finance Management</td>\n",
       "      <td>0.64</td>\n",
       "    </tr>\n",
       "    <tr>\n",
       "      <th>37</th>\n",
       "      <td>City_Other Cities</td>\n",
       "      <td>0.61</td>\n",
       "    </tr>\n",
       "    <tr>\n",
       "      <th>27</th>\n",
       "      <td>Specialization_Operations Management</td>\n",
       "      <td>0.54</td>\n",
       "    </tr>\n",
       "    <tr>\n",
       "      <th>11</th>\n",
       "      <td>Last Activity_Page Visited on Website</td>\n",
       "      <td>0.53</td>\n",
       "    </tr>\n",
       "    <tr>\n",
       "      <th>3</th>\n",
       "      <td>Lead Source_Olark Chat</td>\n",
       "      <td>0.48</td>\n",
       "    </tr>\n",
       "    <tr>\n",
       "      <th>25</th>\n",
       "      <td>Specialization_Marketing Management</td>\n",
       "      <td>0.33</td>\n",
       "    </tr>\n",
       "    <tr>\n",
       "      <th>5</th>\n",
       "      <td>Lead Source_Other</td>\n",
       "      <td>0.33</td>\n",
       "    </tr>\n",
       "    <tr>\n",
       "      <th>43</th>\n",
       "      <td>A free copy of Mastering The Interview_Yes</td>\n",
       "      <td>0.33</td>\n",
       "    </tr>\n",
       "    <tr>\n",
       "      <th>22</th>\n",
       "      <td>Specialization_Human Resource Management</td>\n",
       "      <td>0.30</td>\n",
       "    </tr>\n",
       "    <tr>\n",
       "      <th>38</th>\n",
       "      <td>City_Other Cities of Maharashtra</td>\n",
       "      <td>0.23</td>\n",
       "    </tr>\n",
       "    <tr>\n",
       "      <th>17</th>\n",
       "      <td>Specialization_Business Administration</td>\n",
       "      <td>0.15</td>\n",
       "    </tr>\n",
       "    <tr>\n",
       "      <th>0</th>\n",
       "      <td>Lead Origin_Landing Page Submission</td>\n",
       "      <td>0.15</td>\n",
       "    </tr>\n",
       "    <tr>\n",
       "      <th>36</th>\n",
       "      <td>Lead Profile_Potential Lead</td>\n",
       "      <td>0.13</td>\n",
       "    </tr>\n",
       "    <tr>\n",
       "      <th>8</th>\n",
       "      <td>Last Activity_Email Opened</td>\n",
       "      <td>0.12</td>\n",
       "    </tr>\n",
       "    <tr>\n",
       "      <th>42</th>\n",
       "      <td>City_Unknown</td>\n",
       "      <td>0.06</td>\n",
       "    </tr>\n",
       "    <tr>\n",
       "      <th>2</th>\n",
       "      <td>Lead Source_Google</td>\n",
       "      <td>0.04</td>\n",
       "    </tr>\n",
       "    <tr>\n",
       "      <th>4</th>\n",
       "      <td>Lead Source_Organic Search</td>\n",
       "      <td>0.03</td>\n",
       "    </tr>\n",
       "    <tr>\n",
       "      <th>39</th>\n",
       "      <td>City_Other Metro Cities</td>\n",
       "      <td>0.03</td>\n",
       "    </tr>\n",
       "    <tr>\n",
       "      <th>40</th>\n",
       "      <td>City_Thane &amp; Outskirts</td>\n",
       "      <td>0.00</td>\n",
       "    </tr>\n",
       "  </tbody>\n",
       "</table>\n",
       "</div>"
      ],
      "text/plain": [
       "                                      Features   VIF\n",
       "31      Specialization_Supply Chain Management  1.50\n",
       "23       Specialization_IT Projects Management  1.47\n",
       "32           Specialization_Travel and Tourism  1.34\n",
       "26        Specialization_Media and Advertising  1.30\n",
       "24       Specialization_International Business  1.25\n",
       "21        Specialization_Healthcare Management  1.21\n",
       "19                   Specialization_E-COMMERCE  1.18\n",
       "28            Specialization_Retail Management  1.15\n",
       "29       Specialization_Rural and Agribusiness  1.13\n",
       "16                               Country_Other  1.09\n",
       "18                   Specialization_E-Business  1.08\n",
       "30          Specialization_Services Excellence  1.06\n",
       "6             Last Activity_Email Link Clicked  1.06\n",
       "10     Last Activity_Form Submitted on Website  1.05\n",
       "41                         City_Tier II Cities  1.04\n",
       "12                   Last Activity_Unreachable  1.03\n",
       "34     What is your current occupation_Student  1.03\n",
       "1                   Lead Origin_Quick Add Form  1.02\n",
       "35                Lead Profile_Lateral Student  1.02\n",
       "13                  Last Activity_Unsubscribed  1.02\n",
       "33       What is your current occupation_Other  1.01\n",
       "7              Last Activity_Email Marked Spam  1.01\n",
       "9                 Last Activity_Email Received  1.00\n",
       "15    Last Activity_Visited Booth in Tradeshow  1.00\n",
       "14  Last Activity_View in browser link Clicked  1.00\n",
       "20           Specialization_Finance Management  0.64\n",
       "37                           City_Other Cities  0.61\n",
       "27        Specialization_Operations Management  0.54\n",
       "11       Last Activity_Page Visited on Website  0.53\n",
       "3                       Lead Source_Olark Chat  0.48\n",
       "25         Specialization_Marketing Management  0.33\n",
       "5                            Lead Source_Other  0.33\n",
       "43  A free copy of Mastering The Interview_Yes  0.33\n",
       "22    Specialization_Human Resource Management  0.30\n",
       "38            City_Other Cities of Maharashtra  0.23\n",
       "17      Specialization_Business Administration  0.15\n",
       "0          Lead Origin_Landing Page Submission  0.15\n",
       "36                 Lead Profile_Potential Lead  0.13\n",
       "8                   Last Activity_Email Opened  0.12\n",
       "42                                City_Unknown  0.06\n",
       "2                           Lead Source_Google  0.04\n",
       "4                   Lead Source_Organic Search  0.03\n",
       "39                     City_Other Metro Cities  0.03\n",
       "40                      City_Thane & Outskirts  0.00"
      ]
     },
     "execution_count": 533,
     "metadata": {},
     "output_type": "execute_result"
    }
   ],
   "source": [
    "#VIF\n",
    "vif = pd.DataFrame()\n",
    "vif['Features'] = x_train_rfe.columns\n",
    "vif['VIF'] = [variance_inflation_factor(x_train_rfe.values, i) for i in range(x_train_rfe.shape[1])]\n",
    "vif['VIF'] = round(vif['VIF'], 2)\n",
    "vif = vif.sort_values(by = \"VIF\", ascending = False)\n",
    "vif\n",
    "    "
   ]
  },
  {
   "cell_type": "code",
   "execution_count": 534,
   "id": "124ad5e7",
   "metadata": {},
   "outputs": [],
   "source": [
    "\n",
    "# Function to define model making and testing\n",
    "def modeltesting(string,x):\n",
    "    x_train_new=x\n",
    "    x_train_new = x_train_new.drop([string], axis = 1)\n",
    "    # now checking the model summary and vif again\n",
    "    x_train_sm = sm.add_constant(x_train_new)\n",
    "    #create model\n",
    "    lr= sm.GLM(y_train,x_train_sm,family = sm.families.Binomial())\n",
    "    #fit the model\n",
    "    lr_model= lr.fit()\n",
    "    # check the params\n",
    "    print(lr_model.summary())\n",
    "    vif = pd.DataFrame()\n",
    "    vif['Features'] = x_train_new.columns\n",
    "    vif['VIF'] = [variance_inflation_factor(x_train_new.values, i) for i in range(x_train_new.shape[1])]\n",
    "    vif['VIF'] = round(vif['VIF'], 2)\n",
    "    vif = vif.sort_values(by = \"VIF\", ascending = False)\n",
    "    print(vif)\n",
    "    return x_train_new"
   ]
  },
  {
   "cell_type": "code",
   "execution_count": 535,
   "id": "6f49170b",
   "metadata": {},
   "outputs": [],
   "source": [
    "#Droping variables basis p-value and VIF\n",
    "\n",
    "#- High p-value and high vif -> drop\n",
    "#- High p-value and low vif -> remove first\n",
    "#- Low p-value and high vif -> remove later stage\n",
    "#- Low p-value and low-vif -> keep"
   ]
  },
  {
   "cell_type": "code",
   "execution_count": 536,
   "id": "6fe21cd9",
   "metadata": {},
   "outputs": [
    {
     "name": "stdout",
     "output_type": "stream",
     "text": [
      "                 Generalized Linear Model Regression Results                  \n",
      "==============================================================================\n",
      "Dep. Variable:              Converted   No. Observations:                 6468\n",
      "Model:                            GLM   Df Residuals:                     6424\n",
      "Model Family:                Binomial   Df Model:                           43\n",
      "Link Function:                  Logit   Scale:                          1.0000\n",
      "Method:                          IRLS   Log-Likelihood:                -3558.4\n",
      "Date:                Sat, 20 May 2023   Deviance:                       7116.7\n",
      "Time:                        16:49:44   Pearson chi2:                 6.49e+03\n",
      "No. Iterations:                    20   Pseudo R-squ. (CS):             0.2047\n",
      "Covariance Type:            nonrobust                                         \n",
      "==============================================================================================================\n",
      "                                                 coef    std err          z      P>|z|      [0.025      0.975]\n",
      "--------------------------------------------------------------------------------------------------------------\n",
      "const                                         -0.1573      0.205     -0.766      0.444      -0.560       0.245\n",
      "Lead Origin_Landing Page Submission           -0.6325      0.125     -5.060      0.000      -0.877      -0.388\n",
      "Lead Source_Google                             0.3571      0.095      3.744      0.000       0.170       0.544\n",
      "Lead Source_Olark Chat                        -0.2913      0.125     -2.333      0.020      -0.536      -0.047\n",
      "Lead Source_Organic Search                     0.1392      0.105      1.322      0.186      -0.067       0.346\n",
      "Lead Source_Other                              1.6651      0.145     11.485      0.000       1.381       1.949\n",
      "Last Activity_Email Link Clicked              -1.0705      0.205     -5.227      0.000      -1.472      -0.669\n",
      "Last Activity_Email Marked Spam               20.6916   2.92e+04      0.001      0.999   -5.73e+04    5.73e+04\n",
      "Last Activity_Email Opened                    -0.4797      0.063     -7.561      0.000      -0.604      -0.355\n",
      "Last Activity_Email Received                  21.8590   2.07e+04      0.001      0.999   -4.05e+04    4.05e+04\n",
      "Last Activity_Form Submitted on Website       -1.2521      0.290     -4.316      0.000      -1.821      -0.683\n",
      "Last Activity_Page Visited on Website         -1.0207      0.129     -7.928      0.000      -1.273      -0.768\n",
      "Last Activity_Unreachable                     -0.7190      0.332     -2.165      0.030      -1.370      -0.068\n",
      "Last Activity_Unsubscribed                    -1.0978      0.421     -2.608      0.009      -1.923      -0.273\n",
      "Last Activity_View in browser link Clicked    -0.6739      1.128     -0.597      0.550      -2.885       1.538\n",
      "Last Activity_Visited Booth in Tradeshow     -20.8695   2.92e+04     -0.001      0.999   -5.73e+04    5.73e+04\n",
      "Country_Other                                 -0.2947      0.174     -1.691      0.091      -0.636       0.047\n",
      "Specialization_Business Administration         0.0930      0.191      0.487      0.626      -0.281       0.467\n",
      "Specialization_E-Business                     -0.2040      0.422     -0.484      0.629      -1.030       0.622\n",
      "Specialization_E-COMMERCE                     -0.0996      0.288     -0.346      0.730      -0.665       0.465\n",
      "Specialization_Finance Management             -0.2639      0.151     -1.746      0.081      -0.560       0.032\n",
      "Specialization_Healthcare Management           0.3906      0.271      1.441      0.150      -0.141       0.922\n",
      "Specialization_Human Resource Management       0.1498      0.164      0.916      0.360      -0.171       0.470\n",
      "Specialization_IT Projects Management          0.0927      0.198      0.469      0.639      -0.295       0.480\n",
      "Specialization_International Business         -0.4282      0.258     -1.659      0.097      -0.934       0.078\n",
      "Specialization_Marketing Management            0.1298      0.163      0.797      0.426      -0.190       0.449\n",
      "Specialization_Media and Advertising           0.2642      0.236      1.121      0.262      -0.198       0.726\n",
      "Specialization_Operations Management           0.3545      0.177      2.004      0.045       0.008       0.701\n",
      "Specialization_Retail Management              -0.0793      0.307     -0.259      0.796      -0.680       0.522\n",
      "Specialization_Rural and Agribusiness          0.6434      0.342      1.883      0.060      -0.026       1.313\n",
      "Specialization_Services Excellence            -0.1270      0.450     -0.282      0.778      -1.008       0.755\n",
      "Specialization_Supply Chain Management         0.1412      0.198      0.713      0.476      -0.247       0.529\n",
      "Specialization_Travel and Tourism             -0.2962      0.242     -1.223      0.221      -0.771       0.178\n",
      "What is your current occupation_Other          0.4423      0.826      0.536      0.592      -1.176       2.060\n",
      "What is your current occupation_Student       -0.0168      0.207     -0.081      0.935      -0.423       0.390\n",
      "Lead Profile_Lateral Student                   3.2158      1.054      3.050      0.002       1.150       5.282\n",
      "Lead Profile_Potential Lead                    1.8662      0.084     22.182      0.000       1.701       2.031\n",
      "City_Other Cities                              0.0761      0.117      0.652      0.515      -0.153       0.305\n",
      "City_Other Cities of Maharashtra              -0.0405      0.138     -0.293      0.770      -0.311       0.230\n",
      "City_Other Metro Cities                        0.1875      0.147      1.272      0.203      -0.101       0.476\n",
      "City_Thane & Outskirts                         0.0578      0.115      0.501      0.616      -0.168       0.284\n",
      "City_Tier II Cities                           -0.0761      0.333     -0.228      0.819      -0.729       0.577\n",
      "City_Unknown                                  -0.4767      0.131     -3.641      0.000      -0.733      -0.220\n",
      "A free copy of Mastering The Interview_Yes    -0.0558      0.091     -0.611      0.541      -0.235       0.123\n",
      "==============================================================================================================\n",
      "                                      Features   VIF\n",
      "30      Specialization_Supply Chain Management  1.50\n",
      "22       Specialization_IT Projects Management  1.47\n",
      "31           Specialization_Travel and Tourism  1.34\n",
      "25        Specialization_Media and Advertising  1.30\n",
      "23       Specialization_International Business  1.25\n",
      "20        Specialization_Healthcare Management  1.21\n",
      "18                   Specialization_E-COMMERCE  1.17\n",
      "27            Specialization_Retail Management  1.15\n",
      "28       Specialization_Rural and Agribusiness  1.13\n",
      "15                               Country_Other  1.09\n",
      "17                   Specialization_E-Business  1.08\n",
      "29          Specialization_Services Excellence  1.06\n",
      "5             Last Activity_Email Link Clicked  1.06\n",
      "9      Last Activity_Form Submitted on Website  1.05\n",
      "40                         City_Tier II Cities  1.04\n",
      "11                   Last Activity_Unreachable  1.03\n",
      "33     What is your current occupation_Student  1.03\n",
      "34                Lead Profile_Lateral Student  1.02\n",
      "12                  Last Activity_Unsubscribed  1.02\n",
      "32       What is your current occupation_Other  1.01\n",
      "6              Last Activity_Email Marked Spam  1.01\n",
      "14    Last Activity_Visited Booth in Tradeshow  1.00\n",
      "13  Last Activity_View in browser link Clicked  1.00\n",
      "8                 Last Activity_Email Received  1.00\n",
      "19           Specialization_Finance Management  0.64\n",
      "36                           City_Other Cities  0.61\n",
      "26        Specialization_Operations Management  0.54\n",
      "10       Last Activity_Page Visited on Website  0.53\n",
      "2                       Lead Source_Olark Chat  0.48\n",
      "24         Specialization_Marketing Management  0.33\n",
      "4                            Lead Source_Other  0.33\n",
      "42  A free copy of Mastering The Interview_Yes  0.33\n",
      "21    Specialization_Human Resource Management  0.30\n",
      "37            City_Other Cities of Maharashtra  0.23\n",
      "16      Specialization_Business Administration  0.15\n",
      "0          Lead Origin_Landing Page Submission  0.15\n",
      "35                 Lead Profile_Potential Lead  0.13\n",
      "7                   Last Activity_Email Opened  0.12\n",
      "41                                City_Unknown  0.06\n",
      "1                           Lead Source_Google  0.04\n",
      "38                     City_Other Metro Cities  0.03\n",
      "3                   Lead Source_Organic Search  0.03\n",
      "39                      City_Thane & Outskirts  0.00\n"
     ]
    }
   ],
   "source": [
    "x_train_new = modeltesting('Lead Origin_Quick Add Form',x_train_rfe)"
   ]
  },
  {
   "cell_type": "code",
   "execution_count": 537,
   "id": "9a76026c",
   "metadata": {},
   "outputs": [
    {
     "name": "stdout",
     "output_type": "stream",
     "text": [
      "                 Generalized Linear Model Regression Results                  \n",
      "==============================================================================\n",
      "Dep. Variable:              Converted   No. Observations:                 6468\n",
      "Model:                            GLM   Df Residuals:                     6425\n",
      "Model Family:                Binomial   Df Model:                           42\n",
      "Link Function:                  Logit   Scale:                          1.0000\n",
      "Method:                          IRLS   Log-Likelihood:                -3558.7\n",
      "Date:                Sat, 20 May 2023   Deviance:                       7117.4\n",
      "Time:                        16:51:04   Pearson chi2:                 6.49e+03\n",
      "No. Iterations:                    20   Pseudo R-squ. (CS):             0.2046\n",
      "Covariance Type:            nonrobust                                         \n",
      "==============================================================================================================\n",
      "                                                 coef    std err          z      P>|z|      [0.025      0.975]\n",
      "--------------------------------------------------------------------------------------------------------------\n",
      "const                                         -0.1556      0.205     -0.757      0.449      -0.558       0.247\n",
      "Lead Origin_Landing Page Submission           -0.6323      0.125     -5.059      0.000      -0.877      -0.387\n",
      "Lead Source_Google                             0.3557      0.095      3.730      0.000       0.169       0.543\n",
      "Lead Source_Olark Chat                        -0.2922      0.125     -2.341      0.019      -0.537      -0.048\n",
      "Lead Source_Organic Search                     0.1385      0.105      1.315      0.189      -0.068       0.345\n",
      "Lead Source_Other                              1.6640      0.145     11.478      0.000       1.380       1.948\n",
      "Last Activity_Email Link Clicked              -1.0711      0.205     -5.230      0.000      -1.473      -0.670\n",
      "Last Activity_Email Opened                    -0.4801      0.063     -7.568      0.000      -0.604      -0.356\n",
      "Last Activity_Email Received                  21.8586   2.07e+04      0.001      0.999   -4.05e+04    4.05e+04\n",
      "Last Activity_Form Submitted on Website       -1.2527      0.290     -4.318      0.000      -1.821      -0.684\n",
      "Last Activity_Page Visited on Website         -1.0213      0.129     -7.932      0.000      -1.274      -0.769\n",
      "Last Activity_Unreachable                     -0.7194      0.332     -2.166      0.030      -1.370      -0.068\n",
      "Last Activity_Unsubscribed                    -1.0984      0.421     -2.610      0.009      -1.923      -0.273\n",
      "Last Activity_View in browser link Clicked    -0.6734      1.128     -0.597      0.551      -2.885       1.538\n",
      "Last Activity_Visited Booth in Tradeshow     -20.8701   2.92e+04     -0.001      0.999   -5.73e+04    5.73e+04\n",
      "Country_Other                                 -0.2863      0.174     -1.649      0.099      -0.627       0.054\n",
      "Specialization_Business Administration         0.0928      0.191      0.486      0.627      -0.281       0.467\n",
      "Specialization_E-Business                     -0.2039      0.422     -0.484      0.629      -1.030       0.623\n",
      "Specialization_E-COMMERCE                     -0.0996      0.288     -0.346      0.730      -0.665       0.465\n",
      "Specialization_Finance Management             -0.2638      0.151     -1.745      0.081      -0.560       0.033\n",
      "Specialization_Healthcare Management           0.3908      0.271      1.442      0.149      -0.141       0.922\n",
      "Specialization_Human Resource Management       0.1498      0.164      0.916      0.360      -0.171       0.470\n",
      "Specialization_IT Projects Management          0.0988      0.197      0.500      0.617      -0.288       0.486\n",
      "Specialization_International Business         -0.4284      0.258     -1.660      0.097      -0.934       0.077\n",
      "Specialization_Marketing Management            0.1296      0.163      0.796      0.426      -0.190       0.449\n",
      "Specialization_Media and Advertising           0.2646      0.236      1.122      0.262      -0.198       0.727\n",
      "Specialization_Operations Management           0.3544      0.177      2.003      0.045       0.008       0.701\n",
      "Specialization_Retail Management              -0.0794      0.307     -0.259      0.796      -0.681       0.522\n",
      "Specialization_Rural and Agribusiness          0.6443      0.342      1.886      0.059      -0.025       1.314\n",
      "Specialization_Services Excellence            -0.1267      0.450     -0.282      0.778      -1.008       0.755\n",
      "Specialization_Supply Chain Management         0.1410      0.198      0.712      0.476      -0.247       0.529\n",
      "Specialization_Travel and Tourism             -0.2962      0.242     -1.223      0.221      -0.771       0.179\n",
      "What is your current occupation_Other          0.4423      0.826      0.536      0.592      -1.176       2.060\n",
      "What is your current occupation_Student       -0.0172      0.207     -0.083      0.934      -0.424       0.389\n",
      "Lead Profile_Lateral Student                   3.2167      1.054      3.051      0.002       1.150       5.283\n",
      "Lead Profile_Potential Lead                    1.8678      0.084     22.204      0.000       1.703       2.033\n",
      "City_Other Cities                              0.0749      0.117      0.641      0.522      -0.154       0.304\n",
      "City_Other Cities of Maharashtra              -0.0415      0.138     -0.300      0.764      -0.312       0.229\n",
      "City_Other Metro Cities                        0.1868      0.147      1.268      0.205      -0.102       0.476\n",
      "City_Thane & Outskirts                         0.0569      0.115      0.493      0.622      -0.169       0.283\n",
      "City_Tier II Cities                           -0.0767      0.333     -0.230      0.818      -0.730       0.577\n",
      "City_Unknown                                  -0.4775      0.131     -3.647      0.000      -0.734      -0.221\n",
      "A free copy of Mastering The Interview_Yes    -0.0578      0.091     -0.633      0.527      -0.237       0.121\n",
      "==============================================================================================================\n",
      "                                      Features   VIF\n",
      "29      Specialization_Supply Chain Management  1.50\n",
      "21       Specialization_IT Projects Management  1.46\n",
      "30           Specialization_Travel and Tourism  1.34\n",
      "24        Specialization_Media and Advertising  1.30\n",
      "22       Specialization_International Business  1.25\n",
      "19        Specialization_Healthcare Management  1.21\n",
      "17                   Specialization_E-COMMERCE  1.17\n",
      "26            Specialization_Retail Management  1.15\n",
      "27       Specialization_Rural and Agribusiness  1.13\n",
      "16                   Specialization_E-Business  1.08\n",
      "14                               Country_Other  1.08\n",
      "28          Specialization_Services Excellence  1.06\n",
      "5             Last Activity_Email Link Clicked  1.06\n",
      "8      Last Activity_Form Submitted on Website  1.05\n",
      "39                         City_Tier II Cities  1.04\n",
      "10                   Last Activity_Unreachable  1.03\n",
      "32     What is your current occupation_Student  1.03\n",
      "33                Lead Profile_Lateral Student  1.02\n",
      "11                  Last Activity_Unsubscribed  1.02\n",
      "31       What is your current occupation_Other  1.01\n",
      "13    Last Activity_Visited Booth in Tradeshow  1.00\n",
      "12  Last Activity_View in browser link Clicked  1.00\n",
      "7                 Last Activity_Email Received  1.00\n",
      "18           Specialization_Finance Management  0.64\n",
      "35                           City_Other Cities  0.61\n",
      "25        Specialization_Operations Management  0.54\n",
      "9        Last Activity_Page Visited on Website  0.53\n",
      "2                       Lead Source_Olark Chat  0.48\n",
      "23         Specialization_Marketing Management  0.33\n",
      "4                            Lead Source_Other  0.33\n",
      "41  A free copy of Mastering The Interview_Yes  0.32\n",
      "20    Specialization_Human Resource Management  0.30\n",
      "36            City_Other Cities of Maharashtra  0.23\n",
      "15      Specialization_Business Administration  0.15\n",
      "0          Lead Origin_Landing Page Submission  0.15\n",
      "34                 Lead Profile_Potential Lead  0.13\n",
      "6                   Last Activity_Email Opened  0.12\n",
      "40                                City_Unknown  0.06\n",
      "1                           Lead Source_Google  0.04\n",
      "37                     City_Other Metro Cities  0.03\n",
      "3                   Lead Source_Organic Search  0.03\n",
      "38                      City_Thane & Outskirts  0.00\n"
     ]
    }
   ],
   "source": [
    "x_train_new = modeltesting('Last Activity_Email Marked Spam',x_train_new) "
   ]
  },
  {
   "cell_type": "code",
   "execution_count": 538,
   "id": "ff40b503",
   "metadata": {},
   "outputs": [
    {
     "name": "stdout",
     "output_type": "stream",
     "text": [
      "                 Generalized Linear Model Regression Results                  \n",
      "==============================================================================\n",
      "Dep. Variable:              Converted   No. Observations:                 6468\n",
      "Model:                            GLM   Df Residuals:                     6426\n",
      "Model Family:                Binomial   Df Model:                           41\n",
      "Link Function:                  Logit   Scale:                          1.0000\n",
      "Method:                          IRLS   Log-Likelihood:                -3560.4\n",
      "Date:                Sat, 20 May 2023   Deviance:                       7120.8\n",
      "Time:                        16:51:48   Pearson chi2:                 6.50e+03\n",
      "No. Iterations:                    19   Pseudo R-squ. (CS):             0.2042\n",
      "Covariance Type:            nonrobust                                         \n",
      "==============================================================================================================\n",
      "                                                 coef    std err          z      P>|z|      [0.025      0.975]\n",
      "--------------------------------------------------------------------------------------------------------------\n",
      "const                                         -0.1549      0.205     -0.754      0.451      -0.558       0.248\n",
      "Lead Origin_Landing Page Submission           -0.6305      0.125     -5.044      0.000      -0.875      -0.386\n",
      "Lead Source_Google                             0.3580      0.095      3.755      0.000       0.171       0.545\n",
      "Lead Source_Olark Chat                        -0.2904      0.125     -2.326      0.020      -0.535      -0.046\n",
      "Lead Source_Organic Search                     0.1395      0.105      1.325      0.185      -0.067       0.346\n",
      "Lead Source_Other                              1.6657      0.145     11.489      0.000       1.382       1.950\n",
      "Last Activity_Email Link Clicked              -1.0729      0.205     -5.239      0.000      -1.474      -0.672\n",
      "Last Activity_Email Opened                    -0.4822      0.063     -7.603      0.000      -0.607      -0.358\n",
      "Last Activity_Form Submitted on Website       -1.2564      0.290     -4.331      0.000      -1.825      -0.688\n",
      "Last Activity_Page Visited on Website         -1.0235      0.129     -7.950      0.000      -1.276      -0.771\n",
      "Last Activity_Unreachable                     -0.7217      0.332     -2.173      0.030      -1.373      -0.071\n",
      "Last Activity_Unsubscribed                    -1.1001      0.421     -2.614      0.009      -1.925      -0.275\n",
      "Last Activity_View in browser link Clicked    -0.6747      1.128     -0.598      0.550      -2.886       1.537\n",
      "Last Activity_Visited Booth in Tradeshow     -19.8752   1.77e+04     -0.001      0.999   -3.48e+04    3.47e+04\n",
      "Country_Other                                 -0.2864      0.174     -1.650      0.099      -0.627       0.054\n",
      "Specialization_Business Administration         0.0928      0.191      0.486      0.627      -0.281       0.467\n",
      "Specialization_E-Business                     -0.2034      0.422     -0.482      0.630      -1.030       0.623\n",
      "Specialization_E-COMMERCE                     -0.0990      0.288     -0.343      0.731      -0.664       0.466\n",
      "Specialization_Finance Management             -0.2634      0.151     -1.743      0.081      -0.560       0.033\n",
      "Specialization_Healthcare Management           0.3921      0.271      1.446      0.148      -0.139       0.923\n",
      "Specialization_Human Resource Management       0.1549      0.164      0.947      0.343      -0.166       0.475\n",
      "Specialization_IT Projects Management          0.0989      0.197      0.501      0.616      -0.288       0.486\n",
      "Specialization_International Business         -0.4285      0.258     -1.660      0.097      -0.934       0.077\n",
      "Specialization_Marketing Management            0.1345      0.163      0.826      0.409      -0.185       0.454\n",
      "Specialization_Media and Advertising           0.2644      0.236      1.121      0.262      -0.198       0.727\n",
      "Specialization_Operations Management           0.3547      0.177      2.005      0.045       0.008       0.701\n",
      "Specialization_Retail Management              -0.0794      0.307     -0.259      0.796      -0.681       0.522\n",
      "Specialization_Rural and Agribusiness          0.6457      0.342      1.890      0.059      -0.024       1.315\n",
      "Specialization_Services Excellence            -0.1260      0.450     -0.280      0.779      -1.008       0.756\n",
      "Specialization_Supply Chain Management         0.1417      0.198      0.715      0.474      -0.247       0.530\n",
      "Specialization_Travel and Tourism             -0.2956      0.242     -1.220      0.222      -0.770       0.179\n",
      "What is your current occupation_Other          0.4412      0.826      0.534      0.593      -1.177       2.059\n",
      "What is your current occupation_Student       -0.0180      0.207     -0.087      0.931      -0.425       0.389\n",
      "Lead Profile_Lateral Student                   3.2152      1.054      3.050      0.002       1.149       5.281\n",
      "Lead Profile_Potential Lead                    1.8665      0.084     22.188      0.000       1.702       2.031\n",
      "City_Other Cities                              0.0731      0.117      0.626      0.531      -0.156       0.302\n",
      "City_Other Cities of Maharashtra              -0.0435      0.138     -0.315      0.753      -0.314       0.227\n",
      "City_Other Metro Cities                        0.1851      0.147      1.256      0.209      -0.104       0.474\n",
      "City_Thane & Outskirts                         0.0541      0.115      0.470      0.639      -0.172       0.280\n",
      "City_Tier II Cities                           -0.0785      0.333     -0.236      0.814      -0.732       0.575\n",
      "City_Unknown                                  -0.4796      0.131     -3.664      0.000      -0.736      -0.223\n",
      "A free copy of Mastering The Interview_Yes    -0.0601      0.091     -0.658      0.510      -0.239       0.119\n",
      "==============================================================================================================\n",
      "                                      Features   VIF\n",
      "28      Specialization_Supply Chain Management  1.50\n",
      "20       Specialization_IT Projects Management  1.46\n",
      "29           Specialization_Travel and Tourism  1.34\n",
      "23        Specialization_Media and Advertising  1.30\n",
      "21       Specialization_International Business  1.25\n",
      "18        Specialization_Healthcare Management  1.21\n",
      "16                   Specialization_E-COMMERCE  1.17\n",
      "25            Specialization_Retail Management  1.15\n",
      "26       Specialization_Rural and Agribusiness  1.13\n",
      "15                   Specialization_E-Business  1.08\n",
      "13                               Country_Other  1.08\n",
      "27          Specialization_Services Excellence  1.06\n",
      "5             Last Activity_Email Link Clicked  1.06\n",
      "7      Last Activity_Form Submitted on Website  1.05\n",
      "38                         City_Tier II Cities  1.04\n",
      "9                    Last Activity_Unreachable  1.03\n",
      "31     What is your current occupation_Student  1.03\n",
      "32                Lead Profile_Lateral Student  1.02\n",
      "10                  Last Activity_Unsubscribed  1.02\n",
      "30       What is your current occupation_Other  1.01\n",
      "12    Last Activity_Visited Booth in Tradeshow  1.00\n",
      "11  Last Activity_View in browser link Clicked  1.00\n",
      "17           Specialization_Finance Management  0.64\n",
      "34                           City_Other Cities  0.61\n",
      "24        Specialization_Operations Management  0.54\n",
      "8        Last Activity_Page Visited on Website  0.53\n",
      "2                       Lead Source_Olark Chat  0.48\n",
      "22         Specialization_Marketing Management  0.33\n",
      "4                            Lead Source_Other  0.33\n",
      "40  A free copy of Mastering The Interview_Yes  0.32\n",
      "19    Specialization_Human Resource Management  0.30\n",
      "35            City_Other Cities of Maharashtra  0.23\n",
      "14      Specialization_Business Administration  0.15\n",
      "0          Lead Origin_Landing Page Submission  0.15\n",
      "33                 Lead Profile_Potential Lead  0.13\n",
      "6                   Last Activity_Email Opened  0.12\n",
      "39                                City_Unknown  0.06\n",
      "1                           Lead Source_Google  0.04\n",
      "36                     City_Other Metro Cities  0.03\n",
      "3                   Lead Source_Organic Search  0.03\n",
      "37                      City_Thane & Outskirts  0.00\n"
     ]
    }
   ],
   "source": [
    "x_train_new = modeltesting('Last Activity_Email Received',x_train_new)"
   ]
  },
  {
   "cell_type": "code",
   "execution_count": 540,
   "id": "8bf99328",
   "metadata": {},
   "outputs": [
    {
     "name": "stdout",
     "output_type": "stream",
     "text": [
      "                 Generalized Linear Model Regression Results                  \n",
      "==============================================================================\n",
      "Dep. Variable:              Converted   No. Observations:                 6468\n",
      "Model:                            GLM   Df Residuals:                     6427\n",
      "Model Family:                Binomial   Df Model:                           40\n",
      "Link Function:                  Logit   Scale:                          1.0000\n",
      "Method:                          IRLS   Log-Likelihood:                -3560.8\n",
      "Date:                Sat, 20 May 2023   Deviance:                       7121.6\n",
      "Time:                        16:54:18   Pearson chi2:                 6.50e+03\n",
      "No. Iterations:                     6   Pseudo R-squ. (CS):             0.2041\n",
      "Covariance Type:            nonrobust                                         \n",
      "==============================================================================================================\n",
      "                                                 coef    std err          z      P>|z|      [0.025      0.975]\n",
      "--------------------------------------------------------------------------------------------------------------\n",
      "const                                         -0.1547      0.205     -0.753      0.451      -0.557       0.248\n",
      "Lead Origin_Landing Page Submission           -0.6315      0.125     -5.052      0.000      -0.876      -0.387\n",
      "Lead Source_Google                             0.3573      0.095      3.748      0.000       0.170       0.544\n",
      "Lead Source_Olark Chat                        -0.2909      0.125     -2.330      0.020      -0.536      -0.046\n",
      "Lead Source_Organic Search                     0.1393      0.105      1.322      0.186      -0.067       0.346\n",
      "Lead Source_Other                              1.6652      0.145     11.485      0.000       1.381       1.949\n",
      "Last Activity_Email Link Clicked              -1.0725      0.205     -5.237      0.000      -1.474      -0.671\n",
      "Last Activity_Email Opened                    -0.4816      0.063     -7.594      0.000      -0.606      -0.357\n",
      "Last Activity_Form Submitted on Website       -1.2556      0.290     -4.328      0.000      -1.824      -0.687\n",
      "Last Activity_Page Visited on Website         -1.0230      0.129     -7.945      0.000      -1.275      -0.771\n",
      "Last Activity_Unreachable                     -0.7206      0.332     -2.170      0.030      -1.372      -0.070\n",
      "Last Activity_Unsubscribed                    -1.0997      0.421     -2.613      0.009      -1.925      -0.275\n",
      "Last Activity_View in browser link Clicked    -0.6739      1.128     -0.597      0.550      -2.885       1.537\n",
      "Country_Other                                 -0.2865      0.174     -1.650      0.099      -0.627       0.054\n",
      "Specialization_Business Administration         0.0928      0.191      0.486      0.627      -0.281       0.467\n",
      "Specialization_E-Business                     -0.2034      0.422     -0.482      0.630      -1.030       0.623\n",
      "Specialization_E-COMMERCE                     -0.0991      0.288     -0.344      0.731      -0.664       0.466\n",
      "Specialization_Finance Management             -0.2653      0.151     -1.755      0.079      -0.562       0.031\n",
      "Specialization_Healthcare Management           0.3917      0.271      1.445      0.148      -0.140       0.923\n",
      "Specialization_Human Resource Management       0.1549      0.164      0.948      0.343      -0.166       0.475\n",
      "Specialization_IT Projects Management          0.0990      0.197      0.501      0.616      -0.288       0.486\n",
      "Specialization_International Business         -0.4284      0.258     -1.660      0.097      -0.934       0.077\n",
      "Specialization_Marketing Management            0.1345      0.163      0.826      0.409      -0.185       0.454\n",
      "Specialization_Media and Advertising           0.2646      0.236      1.122      0.262      -0.198       0.727\n",
      "Specialization_Operations Management           0.3546      0.177      2.005      0.045       0.008       0.701\n",
      "Specialization_Retail Management              -0.0793      0.307     -0.258      0.796      -0.681       0.522\n",
      "Specialization_Rural and Agribusiness          0.6452      0.342      1.889      0.059      -0.024       1.315\n",
      "Specialization_Services Excellence            -0.1261      0.450     -0.280      0.779      -1.008       0.755\n",
      "Specialization_Supply Chain Management         0.1415      0.198      0.714      0.475      -0.247       0.530\n",
      "Specialization_Travel and Tourism             -0.2956      0.242     -1.221      0.222      -0.770       0.179\n",
      "What is your current occupation_Other          0.4408      0.826      0.534      0.593      -1.177       2.059\n",
      "What is your current occupation_Student       -0.0176      0.207     -0.085      0.932      -0.424       0.389\n",
      "Lead Profile_Lateral Student                   3.2152      1.054      3.050      0.002       1.149       5.282\n",
      "Lead Profile_Potential Lead                    1.8667      0.084     22.191      0.000       1.702       2.032\n",
      "City_Other Cities                              0.0737      0.117      0.631      0.528      -0.155       0.303\n",
      "City_Other Cities of Maharashtra              -0.0428      0.138     -0.310      0.756      -0.313       0.228\n",
      "City_Other Metro Cities                        0.1856      0.147      1.259      0.208      -0.103       0.474\n",
      "City_Thane & Outskirts                         0.0550      0.115      0.477      0.634      -0.171       0.281\n",
      "City_Tier II Cities                           -0.0781      0.333     -0.234      0.815      -0.731       0.575\n",
      "City_Unknown                                  -0.4779      0.131     -3.651      0.000      -0.734      -0.221\n",
      "A free copy of Mastering The Interview_Yes    -0.0595      0.091     -0.652      0.514      -0.239       0.119\n",
      "==============================================================================================================\n",
      "                                      Features   VIF\n",
      "27      Specialization_Supply Chain Management  1.50\n",
      "19       Specialization_IT Projects Management  1.46\n",
      "28           Specialization_Travel and Tourism  1.34\n",
      "22        Specialization_Media and Advertising  1.30\n",
      "20       Specialization_International Business  1.25\n",
      "17        Specialization_Healthcare Management  1.21\n",
      "15                   Specialization_E-COMMERCE  1.17\n",
      "24            Specialization_Retail Management  1.15\n",
      "25       Specialization_Rural and Agribusiness  1.13\n",
      "14                   Specialization_E-Business  1.08\n",
      "12                               Country_Other  1.08\n",
      "26          Specialization_Services Excellence  1.06\n",
      "5             Last Activity_Email Link Clicked  1.06\n",
      "7      Last Activity_Form Submitted on Website  1.05\n",
      "37                         City_Tier II Cities  1.04\n",
      "30     What is your current occupation_Student  1.03\n",
      "9                    Last Activity_Unreachable  1.03\n",
      "31                Lead Profile_Lateral Student  1.02\n",
      "10                  Last Activity_Unsubscribed  1.02\n",
      "29       What is your current occupation_Other  1.01\n",
      "11  Last Activity_View in browser link Clicked  1.00\n",
      "16           Specialization_Finance Management  0.64\n",
      "33                           City_Other Cities  0.61\n",
      "23        Specialization_Operations Management  0.54\n",
      "8        Last Activity_Page Visited on Website  0.53\n",
      "2                       Lead Source_Olark Chat  0.48\n",
      "4                            Lead Source_Other  0.33\n",
      "21         Specialization_Marketing Management  0.33\n",
      "39  A free copy of Mastering The Interview_Yes  0.32\n",
      "18    Specialization_Human Resource Management  0.30\n",
      "34            City_Other Cities of Maharashtra  0.23\n",
      "13      Specialization_Business Administration  0.15\n",
      "0          Lead Origin_Landing Page Submission  0.15\n",
      "32                 Lead Profile_Potential Lead  0.13\n",
      "6                   Last Activity_Email Opened  0.12\n",
      "38                                City_Unknown  0.06\n",
      "1                           Lead Source_Google  0.04\n",
      "35                     City_Other Metro Cities  0.03\n",
      "3                   Lead Source_Organic Search  0.03\n",
      "36                      City_Thane & Outskirts  0.00\n"
     ]
    }
   ],
   "source": [
    "x_train_new = modeltesting('Last Activity_Visited Booth in Tradeshow',x_train_new)"
   ]
  },
  {
   "cell_type": "code",
   "execution_count": 541,
   "id": "d0e4a04e",
   "metadata": {},
   "outputs": [
    {
     "name": "stdout",
     "output_type": "stream",
     "text": [
      "                 Generalized Linear Model Regression Results                  \n",
      "==============================================================================\n",
      "Dep. Variable:              Converted   No. Observations:                 6468\n",
      "Model:                            GLM   Df Residuals:                     6428\n",
      "Model Family:                Binomial   Df Model:                           39\n",
      "Link Function:                  Logit   Scale:                          1.0000\n",
      "Method:                          IRLS   Log-Likelihood:                -3560.8\n",
      "Date:                Sat, 20 May 2023   Deviance:                       7121.6\n",
      "Time:                        16:55:17   Pearson chi2:                 6.50e+03\n",
      "No. Iterations:                     6   Pseudo R-squ. (CS):             0.2041\n",
      "Covariance Type:            nonrobust                                         \n",
      "==============================================================================================================\n",
      "                                                 coef    std err          z      P>|z|      [0.025      0.975]\n",
      "--------------------------------------------------------------------------------------------------------------\n",
      "const                                         -0.1558      0.205     -0.760      0.447      -0.558       0.246\n",
      "Lead Origin_Landing Page Submission           -0.6314      0.125     -5.052      0.000      -0.876      -0.386\n",
      "Lead Source_Google                             0.3577      0.095      3.756      0.000       0.171       0.544\n",
      "Lead Source_Olark Chat                        -0.2908      0.125     -2.329      0.020      -0.535      -0.046\n",
      "Lead Source_Organic Search                     0.1396      0.105      1.327      0.185      -0.067       0.346\n",
      "Lead Source_Other                              1.6656      0.145     11.494      0.000       1.382       1.950\n",
      "Last Activity_Email Link Clicked              -1.0724      0.205     -5.236      0.000      -1.474      -0.671\n",
      "Last Activity_Email Opened                    -0.4817      0.063     -7.598      0.000      -0.606      -0.357\n",
      "Last Activity_Form Submitted on Website       -1.2553      0.290     -4.328      0.000      -1.824      -0.687\n",
      "Last Activity_Page Visited on Website         -1.0231      0.129     -7.946      0.000      -1.275      -0.771\n",
      "Last Activity_Unreachable                     -0.7203      0.332     -2.169      0.030      -1.371      -0.069\n",
      "Last Activity_Unsubscribed                    -1.0997      0.421     -2.613      0.009      -1.924      -0.275\n",
      "Last Activity_View in browser link Clicked    -0.6736      1.128     -0.597      0.550      -2.885       1.538\n",
      "Country_Other                                 -0.2863      0.174     -1.650      0.099      -0.627       0.054\n",
      "Specialization_Business Administration         0.0934      0.191      0.489      0.625      -0.281       0.467\n",
      "Specialization_E-Business                     -0.2028      0.422     -0.481      0.631      -1.029       0.624\n",
      "Specialization_E-COMMERCE                     -0.0984      0.288     -0.342      0.733      -0.663       0.466\n",
      "Specialization_Finance Management             -0.2652      0.151     -1.754      0.079      -0.561       0.031\n",
      "Specialization_Healthcare Management           0.3915      0.271      1.444      0.149      -0.140       0.923\n",
      "Specialization_Human Resource Management       0.1553      0.163      0.950      0.342      -0.165       0.476\n",
      "Specialization_IT Projects Management          0.0993      0.197      0.503      0.615      -0.288       0.486\n",
      "Specialization_International Business         -0.4283      0.258     -1.659      0.097      -0.934       0.078\n",
      "Specialization_Marketing Management            0.1348      0.163      0.828      0.408      -0.184       0.454\n",
      "Specialization_Media and Advertising           0.2650      0.236      1.124      0.261      -0.197       0.727\n",
      "Specialization_Operations Management           0.3551      0.177      2.008      0.045       0.009       0.702\n",
      "Specialization_Retail Management              -0.0793      0.307     -0.258      0.796      -0.681       0.522\n",
      "Specialization_Rural and Agribusiness          0.6445      0.342      1.887      0.059      -0.025       1.314\n",
      "Specialization_Services Excellence            -0.1255      0.450     -0.279      0.780      -1.007       0.756\n",
      "Specialization_Supply Chain Management         0.1420      0.198      0.717      0.473      -0.246       0.530\n",
      "Specialization_Travel and Tourism             -0.2955      0.242     -1.220      0.222      -0.770       0.179\n",
      "What is your current occupation_Other          0.4413      0.826      0.534      0.593      -1.177       2.060\n",
      "Lead Profile_Lateral Student                   3.2156      1.054      3.050      0.002       1.149       5.282\n",
      "Lead Profile_Potential Lead                    1.8667      0.084     22.191      0.000       1.702       2.032\n",
      "City_Other Cities                              0.0737      0.117      0.631      0.528      -0.155       0.303\n",
      "City_Other Cities of Maharashtra              -0.0428      0.138     -0.310      0.756      -0.313       0.228\n",
      "City_Other Metro Cities                        0.1857      0.147      1.260      0.208      -0.103       0.475\n",
      "City_Thane & Outskirts                         0.0551      0.115      0.478      0.632      -0.171       0.281\n",
      "City_Tier II Cities                           -0.0778      0.333     -0.233      0.816      -0.731       0.575\n",
      "City_Unknown                                  -0.4774      0.131     -3.651      0.000      -0.734      -0.221\n",
      "A free copy of Mastering The Interview_Yes    -0.0593      0.091     -0.649      0.516      -0.238       0.120\n",
      "==============================================================================================================\n",
      "                                      Features   VIF\n",
      "27      Specialization_Supply Chain Management  1.50\n",
      "19       Specialization_IT Projects Management  1.46\n",
      "28           Specialization_Travel and Tourism  1.34\n",
      "22        Specialization_Media and Advertising  1.30\n",
      "20       Specialization_International Business  1.25\n",
      "17        Specialization_Healthcare Management  1.21\n",
      "15                   Specialization_E-COMMERCE  1.17\n",
      "24            Specialization_Retail Management  1.15\n",
      "25       Specialization_Rural and Agribusiness  1.12\n",
      "12                               Country_Other  1.08\n",
      "14                   Specialization_E-Business  1.08\n",
      "26          Specialization_Services Excellence  1.06\n",
      "5             Last Activity_Email Link Clicked  1.06\n",
      "7      Last Activity_Form Submitted on Website  1.05\n",
      "36                         City_Tier II Cities  1.04\n",
      "9                    Last Activity_Unreachable  1.03\n",
      "10                  Last Activity_Unsubscribed  1.02\n",
      "30                Lead Profile_Lateral Student  1.02\n",
      "29       What is your current occupation_Other  1.01\n",
      "11  Last Activity_View in browser link Clicked  1.00\n",
      "16           Specialization_Finance Management  0.63\n",
      "32                           City_Other Cities  0.61\n",
      "23        Specialization_Operations Management  0.54\n",
      "8        Last Activity_Page Visited on Website  0.53\n",
      "2                       Lead Source_Olark Chat  0.48\n",
      "21         Specialization_Marketing Management  0.33\n",
      "4                            Lead Source_Other  0.33\n",
      "38  A free copy of Mastering The Interview_Yes  0.32\n",
      "18    Specialization_Human Resource Management  0.30\n",
      "33            City_Other Cities of Maharashtra  0.23\n",
      "13      Specialization_Business Administration  0.15\n",
      "0          Lead Origin_Landing Page Submission  0.15\n",
      "31                 Lead Profile_Potential Lead  0.13\n",
      "6                   Last Activity_Email Opened  0.12\n",
      "37                                City_Unknown  0.06\n",
      "1                           Lead Source_Google  0.04\n",
      "34                     City_Other Metro Cities  0.03\n",
      "3                   Lead Source_Organic Search  0.03\n",
      "35                      City_Thane & Outskirts  0.00\n"
     ]
    }
   ],
   "source": [
    "x_train_new = modeltesting('What is your current occupation_Student',x_train_new) "
   ]
  },
  {
   "cell_type": "code",
   "execution_count": 542,
   "id": "4dd96095",
   "metadata": {},
   "outputs": [
    {
     "name": "stdout",
     "output_type": "stream",
     "text": [
      "                 Generalized Linear Model Regression Results                  \n",
      "==============================================================================\n",
      "Dep. Variable:              Converted   No. Observations:                 6468\n",
      "Model:                            GLM   Df Residuals:                     6429\n",
      "Model Family:                Binomial   Df Model:                           38\n",
      "Link Function:                  Logit   Scale:                          1.0000\n",
      "Method:                          IRLS   Log-Likelihood:                -3560.8\n",
      "Date:                Sat, 20 May 2023   Deviance:                       7121.7\n",
      "Time:                        17:05:12   Pearson chi2:                 6.50e+03\n",
      "No. Iterations:                     6   Pseudo R-squ. (CS):             0.2041\n",
      "Covariance Type:            nonrobust                                         \n",
      "==============================================================================================================\n",
      "                                                 coef    std err          z      P>|z|      [0.025      0.975]\n",
      "--------------------------------------------------------------------------------------------------------------\n",
      "const                                         -0.1576      0.205     -0.769      0.442      -0.559       0.244\n",
      "Lead Origin_Landing Page Submission           -0.6316      0.125     -5.053      0.000      -0.877      -0.387\n",
      "Lead Source_Google                             0.3585      0.095      3.767      0.000       0.172       0.545\n",
      "Lead Source_Olark Chat                        -0.2904      0.125     -2.326      0.020      -0.535      -0.046\n",
      "Lead Source_Organic Search                     0.1390      0.105      1.321      0.186      -0.067       0.345\n",
      "Lead Source_Other                              1.6659      0.145     11.497      0.000       1.382       1.950\n",
      "Last Activity_Email Link Clicked              -1.0723      0.205     -5.236      0.000      -1.474      -0.671\n",
      "Last Activity_Email Opened                    -0.4816      0.063     -7.595      0.000      -0.606      -0.357\n",
      "Last Activity_Form Submitted on Website       -1.2552      0.290     -4.327      0.000      -1.824      -0.687\n",
      "Last Activity_Page Visited on Website         -1.0232      0.129     -7.947      0.000      -1.276      -0.771\n",
      "Last Activity_Unreachable                     -0.7197      0.332     -2.167      0.030      -1.371      -0.069\n",
      "Last Activity_Unsubscribed                    -1.0989      0.421     -2.611      0.009      -1.924      -0.274\n",
      "Last Activity_View in browser link Clicked    -0.6736      1.128     -0.597      0.550      -2.885       1.538\n",
      "Country_Other                                 -0.2863      0.174     -1.650      0.099      -0.627       0.054\n",
      "Specialization_Business Administration         0.0931      0.191      0.488      0.625      -0.281       0.467\n",
      "Specialization_E-Business                     -0.2099      0.421     -0.499      0.618      -1.034       0.614\n",
      "Specialization_E-COMMERCE                     -0.1016      0.288     -0.353      0.724      -0.666       0.463\n",
      "Specialization_Finance Management             -0.2649      0.151     -1.753      0.080      -0.561       0.031\n",
      "Specialization_Healthcare Management           0.3897      0.271      1.439      0.150      -0.141       0.921\n",
      "Specialization_Human Resource Management       0.1551      0.163      0.949      0.343      -0.165       0.475\n",
      "Specialization_IT Projects Management          0.0992      0.197      0.503      0.615      -0.288       0.486\n",
      "Specialization_International Business         -0.4293      0.258     -1.663      0.096      -0.935       0.077\n",
      "Specialization_Marketing Management            0.1350      0.163      0.829      0.407      -0.184       0.454\n",
      "Specialization_Media and Advertising           0.2641      0.236      1.120      0.263      -0.198       0.726\n",
      "Specialization_Operations Management           0.3545      0.177      2.005      0.045       0.008       0.701\n",
      "Specialization_Retail Management              -0.0786      0.307     -0.256      0.798      -0.680       0.523\n",
      "Specialization_Rural and Agribusiness          0.6428      0.342      1.882      0.060      -0.027       1.312\n",
      "Specialization_Services Excellence            -0.1260      0.450     -0.280      0.779      -1.007       0.755\n",
      "Specialization_Supply Chain Management         0.1415      0.198      0.715      0.475      -0.247       0.530\n",
      "Specialization_Travel and Tourism             -0.2975      0.242     -1.229      0.219      -0.772       0.177\n",
      "What is your current occupation_Other          0.4428      0.826      0.536      0.592      -1.176       2.061\n",
      "Lead Profile_Lateral Student                   3.2161      1.054      3.051      0.002       1.150       5.282\n",
      "Lead Profile_Potential Lead                    1.8673      0.084     22.207      0.000       1.702       2.032\n",
      "City_Other Cities                              0.0759      0.116      0.651      0.515      -0.152       0.304\n",
      "City_Other Cities of Maharashtra              -0.0409      0.138     -0.297      0.767      -0.311       0.229\n",
      "City_Other Metro Cities                        0.1878      0.147      1.277      0.202      -0.101       0.476\n",
      "City_Thane & Outskirts                         0.0567      0.115      0.493      0.622      -0.169       0.282\n",
      "City_Unknown                                  -0.4764      0.131     -3.645      0.000      -0.733      -0.220\n",
      "A free copy of Mastering The Interview_Yes    -0.0591      0.091     -0.648      0.517      -0.238       0.120\n",
      "==============================================================================================================\n",
      "                                      Features   VIF\n",
      "27      Specialization_Supply Chain Management  1.50\n",
      "19       Specialization_IT Projects Management  1.46\n",
      "28           Specialization_Travel and Tourism  1.34\n",
      "22        Specialization_Media and Advertising  1.30\n",
      "20       Specialization_International Business  1.25\n",
      "17        Specialization_Healthcare Management  1.20\n",
      "15                   Specialization_E-COMMERCE  1.16\n",
      "24            Specialization_Retail Management  1.15\n",
      "25       Specialization_Rural and Agribusiness  1.12\n",
      "14                   Specialization_E-Business  1.08\n",
      "12                               Country_Other  1.08\n",
      "5             Last Activity_Email Link Clicked  1.06\n",
      "26          Specialization_Services Excellence  1.06\n",
      "7      Last Activity_Form Submitted on Website  1.05\n",
      "9                    Last Activity_Unreachable  1.03\n",
      "10                  Last Activity_Unsubscribed  1.02\n",
      "30                Lead Profile_Lateral Student  1.02\n",
      "29       What is your current occupation_Other  1.01\n",
      "11  Last Activity_View in browser link Clicked  1.00\n",
      "16           Specialization_Finance Management  0.63\n",
      "32                           City_Other Cities  0.60\n",
      "23        Specialization_Operations Management  0.54\n",
      "8        Last Activity_Page Visited on Website  0.53\n",
      "2                       Lead Source_Olark Chat  0.48\n",
      "4                            Lead Source_Other  0.33\n",
      "21         Specialization_Marketing Management  0.33\n",
      "37  A free copy of Mastering The Interview_Yes  0.32\n",
      "18    Specialization_Human Resource Management  0.30\n",
      "33            City_Other Cities of Maharashtra  0.23\n",
      "13      Specialization_Business Administration  0.15\n",
      "0          Lead Origin_Landing Page Submission  0.15\n",
      "31                 Lead Profile_Potential Lead  0.13\n",
      "6                   Last Activity_Email Opened  0.12\n",
      "36                                City_Unknown  0.06\n",
      "1                           Lead Source_Google  0.04\n",
      "3                   Lead Source_Organic Search  0.03\n",
      "34                     City_Other Metro Cities  0.03\n",
      "35                      City_Thane & Outskirts  0.00\n"
     ]
    }
   ],
   "source": [
    "x_train_new = modeltesting('City_Tier II Cities',x_train_new)"
   ]
  },
  {
   "cell_type": "code",
   "execution_count": 543,
   "id": "defbb059",
   "metadata": {},
   "outputs": [
    {
     "name": "stdout",
     "output_type": "stream",
     "text": [
      "                 Generalized Linear Model Regression Results                  \n",
      "==============================================================================\n",
      "Dep. Variable:              Converted   No. Observations:                 6468\n",
      "Model:                            GLM   Df Residuals:                     6430\n",
      "Model Family:                Binomial   Df Model:                           37\n",
      "Link Function:                  Logit   Scale:                          1.0000\n",
      "Method:                          IRLS   Log-Likelihood:                -3560.9\n",
      "Date:                Sat, 20 May 2023   Deviance:                       7121.8\n",
      "Time:                        17:06:23   Pearson chi2:                 6.50e+03\n",
      "No. Iterations:                     6   Pseudo R-squ. (CS):             0.2041\n",
      "Covariance Type:            nonrobust                                         \n",
      "==============================================================================================================\n",
      "                                                 coef    std err          z      P>|z|      [0.025      0.975]\n",
      "--------------------------------------------------------------------------------------------------------------\n",
      "const                                         -0.1711      0.198     -0.864      0.388      -0.559       0.217\n",
      "Lead Origin_Landing Page Submission           -0.6322      0.125     -5.059      0.000      -0.877      -0.387\n",
      "Lead Source_Google                             0.3579      0.095      3.763      0.000       0.171       0.544\n",
      "Lead Source_Olark Chat                        -0.2910      0.125     -2.332      0.020      -0.536      -0.046\n",
      "Lead Source_Organic Search                     0.1388      0.105      1.319      0.187      -0.067       0.345\n",
      "Lead Source_Other                              1.6657      0.145     11.496      0.000       1.382       1.950\n",
      "Last Activity_Email Link Clicked              -1.0713      0.205     -5.232      0.000      -1.473      -0.670\n",
      "Last Activity_Email Opened                    -0.4815      0.063     -7.595      0.000      -0.606      -0.357\n",
      "Last Activity_Form Submitted on Website       -1.2562      0.290     -4.330      0.000      -1.825      -0.688\n",
      "Last Activity_Page Visited on Website         -1.0237      0.129     -7.951      0.000      -1.276      -0.771\n",
      "Last Activity_Unreachable                     -0.7203      0.332     -2.169      0.030      -1.371      -0.069\n",
      "Last Activity_Unsubscribed                    -1.0984      0.421     -2.610      0.009      -1.923      -0.274\n",
      "Last Activity_View in browser link Clicked    -0.6735      1.128     -0.597      0.551      -2.885       1.538\n",
      "Country_Other                                 -0.2871      0.174     -1.654      0.098      -0.627       0.053\n",
      "Specialization_Business Administration         0.1079      0.182      0.593      0.553      -0.249       0.465\n",
      "Specialization_E-Business                     -0.1951      0.417     -0.468      0.640      -1.012       0.622\n",
      "Specialization_E-COMMERCE                     -0.0868      0.282     -0.308      0.758      -0.639       0.466\n",
      "Specialization_Finance Management             -0.2504      0.140     -1.786      0.074      -0.525       0.024\n",
      "Specialization_Healthcare Management           0.4044      0.265      1.527      0.127      -0.115       0.923\n",
      "Specialization_Human Resource Management       0.1698      0.153      1.109      0.267      -0.130       0.470\n",
      "Specialization_IT Projects Management          0.1140      0.189      0.603      0.546      -0.256       0.484\n",
      "Specialization_International Business         -0.4145      0.252     -1.648      0.099      -0.908       0.079\n",
      "Specialization_Marketing Management            0.1497      0.152      0.982      0.326      -0.149       0.449\n",
      "Specialization_Media and Advertising           0.2789      0.229      1.220      0.222      -0.169       0.727\n",
      "Specialization_Operations Management           0.3692      0.167      2.208      0.027       0.041       0.697\n",
      "Specialization_Rural and Agribusiness          0.6576      0.337      1.954      0.051      -0.002       1.317\n",
      "Specialization_Services Excellence            -0.1113      0.446     -0.250      0.803      -0.985       0.763\n",
      "Specialization_Supply Chain Management         0.1563      0.189      0.825      0.409      -0.215       0.528\n",
      "Specialization_Travel and Tourism             -0.2826      0.235     -1.203      0.229      -0.743       0.178\n",
      "What is your current occupation_Other          0.4426      0.826      0.536      0.592      -1.176       2.061\n",
      "Lead Profile_Lateral Student                   3.2160      1.054      3.050      0.002       1.150       5.282\n",
      "Lead Profile_Potential Lead                    1.8674      0.084     22.208      0.000       1.703       2.032\n",
      "City_Other Cities                              0.0752      0.116      0.646      0.518      -0.153       0.303\n",
      "City_Other Cities of Maharashtra              -0.0409      0.138     -0.297      0.767      -0.311       0.229\n",
      "City_Other Metro Cities                        0.1879      0.147      1.277      0.202      -0.100       0.476\n",
      "City_Thane & Outskirts                         0.0568      0.115      0.493      0.622      -0.169       0.282\n",
      "City_Unknown                                  -0.4768      0.131     -3.649      0.000      -0.733      -0.221\n",
      "A free copy of Mastering The Interview_Yes    -0.0597      0.091     -0.655      0.513      -0.239       0.119\n",
      "==============================================================================================================\n",
      "                                      Features   VIF\n",
      "26      Specialization_Supply Chain Management  1.44\n",
      "19       Specialization_IT Projects Management  1.40\n",
      "27           Specialization_Travel and Tourism  1.30\n",
      "22        Specialization_Media and Advertising  1.26\n",
      "20       Specialization_International Business  1.22\n",
      "17        Specialization_Healthcare Management  1.18\n",
      "15                   Specialization_E-COMMERCE  1.14\n",
      "24       Specialization_Rural and Agribusiness  1.11\n",
      "12                               Country_Other  1.08\n",
      "14                   Specialization_E-Business  1.07\n",
      "5             Last Activity_Email Link Clicked  1.06\n",
      "25          Specialization_Services Excellence  1.05\n",
      "7      Last Activity_Form Submitted on Website  1.05\n",
      "9                    Last Activity_Unreachable  1.03\n",
      "29                Lead Profile_Lateral Student  1.02\n",
      "10                  Last Activity_Unsubscribed  1.02\n",
      "28       What is your current occupation_Other  1.01\n",
      "11  Last Activity_View in browser link Clicked  1.00\n",
      "31                           City_Other Cities  0.60\n",
      "16           Specialization_Finance Management  0.58\n",
      "8        Last Activity_Page Visited on Website  0.53\n",
      "23        Specialization_Operations Management  0.51\n",
      "2                       Lead Source_Olark Chat  0.47\n",
      "4                            Lead Source_Other  0.33\n",
      "36  A free copy of Mastering The Interview_Yes  0.32\n",
      "21         Specialization_Marketing Management  0.31\n",
      "18    Specialization_Human Resource Management  0.28\n",
      "32            City_Other Cities of Maharashtra  0.23\n",
      "13      Specialization_Business Administration  0.14\n",
      "0          Lead Origin_Landing Page Submission  0.14\n",
      "30                 Lead Profile_Potential Lead  0.13\n",
      "6                   Last Activity_Email Opened  0.12\n",
      "35                                City_Unknown  0.06\n",
      "1                           Lead Source_Google  0.04\n",
      "3                   Lead Source_Organic Search  0.03\n",
      "33                     City_Other Metro Cities  0.03\n",
      "34                      City_Thane & Outskirts  0.00\n"
     ]
    }
   ],
   "source": [
    "x_train_new = modeltesting('Specialization_Retail Management',x_train_new) "
   ]
  },
  {
   "cell_type": "code",
   "execution_count": 544,
   "id": "1724db56",
   "metadata": {},
   "outputs": [
    {
     "name": "stdout",
     "output_type": "stream",
     "text": [
      "                 Generalized Linear Model Regression Results                  \n",
      "==============================================================================\n",
      "Dep. Variable:              Converted   No. Observations:                 6468\n",
      "Model:                            GLM   Df Residuals:                     6431\n",
      "Model Family:                Binomial   Df Model:                           36\n",
      "Link Function:                  Logit   Scale:                          1.0000\n",
      "Method:                          IRLS   Log-Likelihood:                -3560.9\n",
      "Date:                Sat, 20 May 2023   Deviance:                       7121.8\n",
      "Time:                        17:07:22   Pearson chi2:                 6.50e+03\n",
      "No. Iterations:                     6   Pseudo R-squ. (CS):             0.2041\n",
      "Covariance Type:            nonrobust                                         \n",
      "==============================================================================================================\n",
      "                                                 coef    std err          z      P>|z|      [0.025      0.975]\n",
      "--------------------------------------------------------------------------------------------------------------\n",
      "const                                         -0.1797      0.195     -0.921      0.357      -0.562       0.203\n",
      "Lead Origin_Landing Page Submission           -0.6318      0.125     -5.057      0.000      -0.877      -0.387\n",
      "Lead Source_Google                             0.3584      0.095      3.768      0.000       0.172       0.545\n",
      "Lead Source_Olark Chat                        -0.2904      0.125     -2.327      0.020      -0.535      -0.046\n",
      "Lead Source_Organic Search                     0.1393      0.105      1.325      0.185      -0.067       0.345\n",
      "Lead Source_Other                              1.6665      0.145     11.504      0.000       1.383       1.950\n",
      "Last Activity_Email Link Clicked              -1.0724      0.205     -5.239      0.000      -1.474      -0.671\n",
      "Last Activity_Email Opened                    -0.4813      0.063     -7.592      0.000      -0.606      -0.357\n",
      "Last Activity_Form Submitted on Website       -1.2556      0.290     -4.328      0.000      -1.824      -0.687\n",
      "Last Activity_Page Visited on Website         -1.0242      0.129     -7.957      0.000      -1.277      -0.772\n",
      "Last Activity_Unreachable                     -0.7198      0.332     -2.167      0.030      -1.371      -0.069\n",
      "Last Activity_Unsubscribed                    -1.0983      0.421     -2.610      0.009      -1.923      -0.273\n",
      "Last Activity_View in browser link Clicked    -0.6734      1.128     -0.597      0.551      -2.885       1.538\n",
      "Country_Other                                 -0.2869      0.174     -1.653      0.098      -0.627       0.053\n",
      "Specialization_Business Administration         0.1160      0.179      0.647      0.517      -0.235       0.467\n",
      "Specialization_E-Business                     -0.1869      0.415     -0.450      0.653      -1.001       0.627\n",
      "Specialization_E-COMMERCE                     -0.0785      0.280     -0.280      0.779      -0.627       0.470\n",
      "Specialization_Finance Management             -0.2425      0.137     -1.774      0.076      -0.510       0.025\n",
      "Specialization_Healthcare Management           0.4126      0.263      1.570      0.116      -0.102       0.928\n",
      "Specialization_Human Resource Management       0.1779      0.150      1.188      0.235      -0.116       0.471\n",
      "Specialization_IT Projects Management          0.1222      0.186      0.657      0.511      -0.242       0.487\n",
      "Specialization_International Business         -0.4065      0.250     -1.629      0.103      -0.896       0.083\n",
      "Specialization_Marketing Management            0.1577      0.149      1.058      0.290      -0.134       0.450\n",
      "Specialization_Media and Advertising           0.2870      0.226      1.268      0.205      -0.157       0.731\n",
      "Specialization_Operations Management           0.3773      0.164      2.299      0.021       0.056       0.699\n",
      "Specialization_Rural and Agribusiness          0.6658      0.335      1.987      0.047       0.009       1.322\n",
      "Specialization_Supply Chain Management         0.1645      0.187      0.881      0.378      -0.201       0.530\n",
      "Specialization_Travel and Tourism             -0.2745      0.233     -1.179      0.238      -0.731       0.182\n",
      "What is your current occupation_Other          0.4430      0.826      0.536      0.592      -1.176       2.062\n",
      "Lead Profile_Lateral Student                   3.2160      1.054      3.050      0.002       1.150       5.282\n",
      "Lead Profile_Potential Lead                    1.8677      0.084     22.215      0.000       1.703       2.032\n",
      "City_Other Cities                              0.0755      0.116      0.649      0.517      -0.153       0.304\n",
      "City_Other Cities of Maharashtra              -0.0410      0.138     -0.298      0.766      -0.311       0.229\n",
      "City_Other Metro Cities                        0.1875      0.147      1.275      0.202      -0.101       0.476\n",
      "City_Thane & Outskirts                         0.0569      0.115      0.495      0.621      -0.169       0.282\n",
      "City_Unknown                                  -0.4767      0.131     -3.648      0.000      -0.733      -0.221\n",
      "A free copy of Mastering The Interview_Yes    -0.0603      0.091     -0.662      0.508      -0.239       0.118\n",
      "==============================================================================================================\n",
      "                                      Features   VIF\n",
      "25      Specialization_Supply Chain Management  1.42\n",
      "19       Specialization_IT Projects Management  1.39\n",
      "26           Specialization_Travel and Tourism  1.28\n",
      "22        Specialization_Media and Advertising  1.25\n",
      "20       Specialization_International Business  1.21\n",
      "17        Specialization_Healthcare Management  1.17\n",
      "15                   Specialization_E-COMMERCE  1.14\n",
      "24       Specialization_Rural and Agribusiness  1.10\n",
      "12                               Country_Other  1.08\n",
      "14                   Specialization_E-Business  1.07\n",
      "5             Last Activity_Email Link Clicked  1.06\n",
      "7      Last Activity_Form Submitted on Website  1.05\n",
      "9                    Last Activity_Unreachable  1.03\n",
      "10                  Last Activity_Unsubscribed  1.02\n",
      "28                Lead Profile_Lateral Student  1.02\n",
      "27       What is your current occupation_Other  1.01\n",
      "11  Last Activity_View in browser link Clicked  1.00\n",
      "30                           City_Other Cities  0.60\n",
      "16           Specialization_Finance Management  0.57\n",
      "8        Last Activity_Page Visited on Website  0.53\n",
      "23        Specialization_Operations Management  0.50\n",
      "2                       Lead Source_Olark Chat  0.46\n",
      "4                            Lead Source_Other  0.32\n",
      "35  A free copy of Mastering The Interview_Yes  0.32\n",
      "21         Specialization_Marketing Management  0.30\n",
      "18    Specialization_Human Resource Management  0.27\n",
      "31            City_Other Cities of Maharashtra  0.23\n",
      "13      Specialization_Business Administration  0.14\n",
      "0          Lead Origin_Landing Page Submission  0.14\n",
      "29                 Lead Profile_Potential Lead  0.13\n",
      "6                   Last Activity_Email Opened  0.12\n",
      "34                                City_Unknown  0.06\n",
      "1                           Lead Source_Google  0.04\n",
      "3                   Lead Source_Organic Search  0.03\n",
      "32                     City_Other Metro Cities  0.03\n",
      "33                      City_Thane & Outskirts  0.00\n"
     ]
    }
   ],
   "source": [
    "x_train_new = modeltesting('Specialization_Services Excellence',x_train_new)  "
   ]
  },
  {
   "cell_type": "code",
   "execution_count": 545,
   "id": "3891486a",
   "metadata": {},
   "outputs": [
    {
     "name": "stdout",
     "output_type": "stream",
     "text": [
      "                 Generalized Linear Model Regression Results                  \n",
      "==============================================================================\n",
      "Dep. Variable:              Converted   No. Observations:                 6468\n",
      "Model:                            GLM   Df Residuals:                     6432\n",
      "Model Family:                Binomial   Df Model:                           35\n",
      "Link Function:                  Logit   Scale:                          1.0000\n",
      "Method:                          IRLS   Log-Likelihood:                -3560.9\n",
      "Date:                Sat, 20 May 2023   Deviance:                       7121.9\n",
      "Time:                        17:08:24   Pearson chi2:                 6.50e+03\n",
      "No. Iterations:                     6   Pseudo R-squ. (CS):             0.2041\n",
      "Covariance Type:            nonrobust                                         \n",
      "==============================================================================================================\n",
      "                                                 coef    std err          z      P>|z|      [0.025      0.975]\n",
      "--------------------------------------------------------------------------------------------------------------\n",
      "const                                         -0.1928      0.189     -1.018      0.309      -0.564       0.179\n",
      "Lead Origin_Landing Page Submission           -0.6318      0.125     -5.056      0.000      -0.877      -0.387\n",
      "Lead Source_Google                             0.3588      0.095      3.773      0.000       0.172       0.545\n",
      "Lead Source_Olark Chat                        -0.2902      0.125     -2.326      0.020      -0.535      -0.046\n",
      "Lead Source_Organic Search                     0.1395      0.105      1.327      0.185      -0.067       0.346\n",
      "Lead Source_Other                              1.6671      0.145     11.510      0.000       1.383       1.951\n",
      "Last Activity_Email Link Clicked              -1.0718      0.205     -5.237      0.000      -1.473      -0.671\n",
      "Last Activity_Email Opened                    -0.4811      0.063     -7.590      0.000      -0.605      -0.357\n",
      "Last Activity_Form Submitted on Website       -1.2546      0.290     -4.325      0.000      -1.823      -0.686\n",
      "Last Activity_Page Visited on Website         -1.0245      0.129     -7.959      0.000      -1.277      -0.772\n",
      "Last Activity_Unreachable                     -0.7198      0.332     -2.167      0.030      -1.371      -0.069\n",
      "Last Activity_Unsubscribed                    -1.0989      0.421     -2.612      0.009      -1.924      -0.274\n",
      "Last Activity_View in browser link Clicked    -0.6733      1.128     -0.597      0.551      -2.885       1.538\n",
      "Country_Other                                 -0.2871      0.174     -1.654      0.098      -0.627       0.053\n",
      "Specialization_Business Administration         0.1293      0.173      0.748      0.454      -0.209       0.468\n",
      "Specialization_E-Business                     -0.1734      0.413     -0.420      0.674      -0.982       0.635\n",
      "Specialization_Finance Management             -0.2296      0.129     -1.783      0.075      -0.482       0.023\n",
      "Specialization_Healthcare Management           0.4262      0.258      1.650      0.099      -0.080       0.933\n",
      "Specialization_Human Resource Management       0.1911      0.142      1.343      0.179      -0.088       0.470\n",
      "Specialization_IT Projects Management          0.1356      0.180      0.753      0.451      -0.217       0.488\n",
      "Specialization_International Business         -0.3931      0.245     -1.604      0.109      -0.873       0.087\n",
      "Specialization_Marketing Management            0.1709      0.142      1.207      0.227      -0.107       0.448\n",
      "Specialization_Media and Advertising           0.3003      0.221      1.357      0.175      -0.134       0.734\n",
      "Specialization_Operations Management           0.3907      0.157      2.485      0.013       0.083       0.699\n",
      "Specialization_Rural and Agribusiness          0.6794      0.332      2.049      0.040       0.029       1.329\n",
      "Specialization_Supply Chain Management         0.1779      0.181      0.985      0.324      -0.176       0.532\n",
      "Specialization_Travel and Tourism             -0.2608      0.228     -1.145      0.252      -0.707       0.185\n",
      "What is your current occupation_Other          0.4432      0.826      0.537      0.591      -1.175       2.062\n",
      "Lead Profile_Lateral Student                   3.2157      1.054      3.050      0.002       1.149       5.282\n",
      "Lead Profile_Potential Lead                    1.8677      0.084     22.216      0.000       1.703       2.032\n",
      "City_Other Cities                              0.0745      0.116      0.640      0.522      -0.154       0.303\n",
      "City_Other Cities of Maharashtra              -0.0413      0.138     -0.300      0.764      -0.311       0.229\n",
      "City_Other Metro Cities                        0.1874      0.147      1.274      0.203      -0.101       0.476\n",
      "City_Thane & Outskirts                         0.0577      0.115      0.502      0.616      -0.168       0.283\n",
      "City_Unknown                                  -0.4768      0.131     -3.649      0.000      -0.733      -0.221\n",
      "A free copy of Mastering The Interview_Yes    -0.0611      0.091     -0.670      0.503      -0.240       0.118\n",
      "==============================================================================================================\n",
      "                                      Features   VIF\n",
      "24      Specialization_Supply Chain Management  1.37\n",
      "18       Specialization_IT Projects Management  1.34\n",
      "25           Specialization_Travel and Tourism  1.25\n",
      "21        Specialization_Media and Advertising  1.22\n",
      "19       Specialization_International Business  1.18\n",
      "16        Specialization_Healthcare Management  1.15\n",
      "23       Specialization_Rural and Agribusiness  1.09\n",
      "12                               Country_Other  1.08\n",
      "14                   Specialization_E-Business  1.06\n",
      "5             Last Activity_Email Link Clicked  1.06\n",
      "7      Last Activity_Form Submitted on Website  1.05\n",
      "9                    Last Activity_Unreachable  1.03\n",
      "10                  Last Activity_Unsubscribed  1.02\n",
      "27                Lead Profile_Lateral Student  1.02\n",
      "26       What is your current occupation_Other  1.01\n",
      "11  Last Activity_View in browser link Clicked  1.00\n",
      "29                           City_Other Cities  0.60\n",
      "8        Last Activity_Page Visited on Website  0.53\n",
      "15           Specialization_Finance Management  0.53\n",
      "22        Specialization_Operations Management  0.48\n",
      "2                       Lead Source_Olark Chat  0.46\n",
      "4                            Lead Source_Other  0.32\n",
      "34  A free copy of Mastering The Interview_Yes  0.31\n",
      "20         Specialization_Marketing Management  0.28\n",
      "17    Specialization_Human Resource Management  0.26\n",
      "30            City_Other Cities of Maharashtra  0.23\n",
      "0          Lead Origin_Landing Page Submission  0.14\n",
      "13      Specialization_Business Administration  0.13\n",
      "28                 Lead Profile_Potential Lead  0.13\n",
      "6                   Last Activity_Email Opened  0.12\n",
      "33                                City_Unknown  0.05\n",
      "1                           Lead Source_Google  0.04\n",
      "3                   Lead Source_Organic Search  0.03\n",
      "31                     City_Other Metro Cities  0.03\n",
      "32                      City_Thane & Outskirts  0.00\n"
     ]
    }
   ],
   "source": [
    "x_train_new = modeltesting('Specialization_E-COMMERCE',x_train_new)  "
   ]
  },
  {
   "cell_type": "code",
   "execution_count": 546,
   "id": "b6c86893",
   "metadata": {},
   "outputs": [
    {
     "name": "stdout",
     "output_type": "stream",
     "text": [
      "                 Generalized Linear Model Regression Results                  \n",
      "==============================================================================\n",
      "Dep. Variable:              Converted   No. Observations:                 6468\n",
      "Model:                            GLM   Df Residuals:                     6433\n",
      "Model Family:                Binomial   Df Model:                           34\n",
      "Link Function:                  Logit   Scale:                          1.0000\n",
      "Method:                          IRLS   Log-Likelihood:                -3561.1\n",
      "Date:                Sat, 20 May 2023   Deviance:                       7122.1\n",
      "Time:                        17:09:19   Pearson chi2:                 6.50e+03\n",
      "No. Iterations:                     6   Pseudo R-squ. (CS):             0.2041\n",
      "Covariance Type:            nonrobust                                         \n",
      "==============================================================================================================\n",
      "                                                 coef    std err          z      P>|z|      [0.025      0.975]\n",
      "--------------------------------------------------------------------------------------------------------------\n",
      "const                                         -0.1792      0.187     -0.956      0.339      -0.547       0.188\n",
      "Lead Origin_Landing Page Submission           -0.6335      0.125     -5.072      0.000      -0.878      -0.389\n",
      "Lead Source_Google                             0.3579      0.095      3.765      0.000       0.172       0.544\n",
      "Lead Source_Olark Chat                        -0.2902      0.125     -2.326      0.020      -0.535      -0.046\n",
      "Lead Source_Organic Search                     0.1399      0.105      1.330      0.183      -0.066       0.346\n",
      "Lead Source_Other                              1.6657      0.145     11.503      0.000       1.382       1.950\n",
      "Last Activity_Email Link Clicked              -1.0721      0.205     -5.239      0.000      -1.473      -0.671\n",
      "Last Activity_Email Opened                    -0.4805      0.063     -7.581      0.000      -0.605      -0.356\n",
      "Last Activity_Form Submitted on Website       -1.2503      0.290     -4.312      0.000      -1.819      -0.682\n",
      "Last Activity_Page Visited on Website         -1.0238      0.129     -7.952      0.000      -1.276      -0.771\n",
      "Last Activity_Unreachable                     -0.7204      0.332     -2.169      0.030      -1.372      -0.069\n",
      "Last Activity_Unsubscribed                    -1.0994      0.421     -2.614      0.009      -1.924      -0.275\n",
      "Last Activity_View in browser link Clicked    -0.6746      1.128     -0.598      0.550      -2.886       1.536\n",
      "Country_Other                                 -0.2870      0.174     -1.653      0.098      -0.627       0.053\n",
      "Specialization_Business Administration         0.1282      0.173      0.742      0.458      -0.211       0.467\n",
      "Specialization_E-Business                     -0.1782      0.413     -0.432      0.666      -0.987       0.630\n",
      "Specialization_Finance Management             -0.2302      0.129     -1.788      0.074      -0.483       0.022\n",
      "Specialization_Healthcare Management           0.4260      0.258      1.649      0.099      -0.080       0.932\n",
      "Specialization_Human Resource Management       0.1902      0.142      1.338      0.181      -0.089       0.469\n",
      "Specialization_IT Projects Management          0.1366      0.180      0.760      0.447      -0.216       0.489\n",
      "Specialization_International Business         -0.3956      0.245     -1.615      0.106      -0.876       0.084\n",
      "Specialization_Marketing Management            0.1699      0.142      1.200      0.230      -0.108       0.447\n",
      "Specialization_Media and Advertising           0.2970      0.221      1.343      0.179      -0.137       0.731\n",
      "Specialization_Operations Management           0.3927      0.157      2.499      0.012       0.085       0.701\n",
      "Specialization_Rural and Agribusiness          0.6857      0.331      2.069      0.039       0.036       1.335\n",
      "Specialization_Supply Chain Management         0.1802      0.180      0.999      0.318      -0.173       0.534\n",
      "Specialization_Travel and Tourism             -0.2622      0.228     -1.152      0.249      -0.708       0.184\n",
      "What is your current occupation_Other          0.4371      0.825      0.529      0.596      -1.181       2.055\n",
      "Lead Profile_Lateral Student                   3.2298      1.054      3.064      0.002       1.164       5.296\n",
      "Lead Profile_Potential Lead                    1.8686      0.084     22.230      0.000       1.704       2.033\n",
      "City_Other Cities                              0.0642      0.115      0.561      0.575      -0.160       0.289\n",
      "City_Other Cities of Maharashtra              -0.0521      0.136     -0.383      0.702      -0.319       0.215\n",
      "City_Other Metro Cities                        0.1774      0.146      1.217      0.224      -0.108       0.463\n",
      "City_Unknown                                  -0.4897      0.128     -3.821      0.000      -0.741      -0.238\n",
      "A free copy of Mastering The Interview_Yes    -0.0645      0.091     -0.709      0.478      -0.243       0.114\n",
      "==============================================================================================================\n",
      "                                      Features   VIF\n",
      "24      Specialization_Supply Chain Management  1.36\n",
      "18       Specialization_IT Projects Management  1.34\n",
      "25           Specialization_Travel and Tourism  1.25\n",
      "21        Specialization_Media and Advertising  1.22\n",
      "19       Specialization_International Business  1.18\n",
      "16        Specialization_Healthcare Management  1.15\n",
      "23       Specialization_Rural and Agribusiness  1.09\n",
      "12                               Country_Other  1.08\n",
      "14                   Specialization_E-Business  1.06\n",
      "5             Last Activity_Email Link Clicked  1.06\n",
      "7      Last Activity_Form Submitted on Website  1.05\n",
      "9                    Last Activity_Unreachable  1.03\n",
      "10                  Last Activity_Unsubscribed  1.02\n",
      "27                Lead Profile_Lateral Student  1.02\n",
      "26       What is your current occupation_Other  1.01\n",
      "11  Last Activity_View in browser link Clicked  1.00\n",
      "29                           City_Other Cities  0.59\n",
      "15           Specialization_Finance Management  0.53\n",
      "8        Last Activity_Page Visited on Website  0.52\n",
      "22        Specialization_Operations Management  0.48\n",
      "2                       Lead Source_Olark Chat  0.45\n",
      "4                            Lead Source_Other  0.32\n",
      "33  A free copy of Mastering The Interview_Yes  0.31\n",
      "20         Specialization_Marketing Management  0.28\n",
      "17    Specialization_Human Resource Management  0.26\n",
      "30            City_Other Cities of Maharashtra  0.23\n",
      "13      Specialization_Business Administration  0.13\n",
      "28                 Lead Profile_Potential Lead  0.13\n",
      "0          Lead Origin_Landing Page Submission  0.13\n",
      "6                   Last Activity_Email Opened  0.12\n",
      "32                                City_Unknown  0.05\n",
      "1                           Lead Source_Google  0.04\n",
      "3                   Lead Source_Organic Search  0.03\n",
      "31                     City_Other Metro Cities  0.03\n"
     ]
    }
   ],
   "source": [
    "x_train_new = modeltesting('City_Thane & Outskirts',x_train_new)   "
   ]
  },
  {
   "cell_type": "code",
   "execution_count": 547,
   "id": "11196d15",
   "metadata": {},
   "outputs": [
    {
     "name": "stdout",
     "output_type": "stream",
     "text": [
      "                 Generalized Linear Model Regression Results                  \n",
      "==============================================================================\n",
      "Dep. Variable:              Converted   No. Observations:                 6468\n",
      "Model:                            GLM   Df Residuals:                     6434\n",
      "Model Family:                Binomial   Df Model:                           33\n",
      "Link Function:                  Logit   Scale:                          1.0000\n",
      "Method:                          IRLS   Log-Likelihood:                -3561.1\n",
      "Date:                Sat, 20 May 2023   Deviance:                       7122.3\n",
      "Time:                        17:10:42   Pearson chi2:                 6.50e+03\n",
      "No. Iterations:                     6   Pseudo R-squ. (CS):             0.2040\n",
      "Covariance Type:            nonrobust                                         \n",
      "==============================================================================================================\n",
      "                                                 coef    std err          z      P>|z|      [0.025      0.975]\n",
      "--------------------------------------------------------------------------------------------------------------\n",
      "const                                         -0.1856      0.187     -0.994      0.320      -0.552       0.180\n",
      "Lead Origin_Landing Page Submission           -0.6324      0.125     -5.065      0.000      -0.877      -0.388\n",
      "Lead Source_Google                             0.3596      0.095      3.787      0.000       0.173       0.546\n",
      "Lead Source_Olark Chat                        -0.2890      0.125     -2.317      0.020      -0.533      -0.045\n",
      "Lead Source_Organic Search                     0.1406      0.105      1.337      0.181      -0.065       0.347\n",
      "Lead Source_Other                              1.6663      0.145     11.508      0.000       1.382       1.950\n",
      "Last Activity_Email Link Clicked              -1.0710      0.205     -5.235      0.000      -1.472      -0.670\n",
      "Last Activity_Email Opened                    -0.4810      0.063     -7.591      0.000      -0.605      -0.357\n",
      "Last Activity_Form Submitted on Website       -1.2469      0.290     -4.301      0.000      -1.815      -0.679\n",
      "Last Activity_Page Visited on Website         -1.0222      0.129     -7.945      0.000      -1.274      -0.770\n",
      "Last Activity_Unreachable                     -0.7230      0.332     -2.177      0.030      -1.374      -0.072\n",
      "Last Activity_Unsubscribed                    -1.0964      0.420     -2.608      0.009      -1.920      -0.272\n",
      "Last Activity_View in browser link Clicked    -0.6855      1.129     -0.607      0.544      -2.897       1.526\n",
      "Country_Other                                 -0.2883      0.174     -1.661      0.097      -0.629       0.052\n",
      "Specialization_Business Administration         0.1267      0.173      0.733      0.463      -0.212       0.465\n",
      "Specialization_E-Business                     -0.1808      0.413     -0.438      0.661      -0.989       0.628\n",
      "Specialization_Finance Management             -0.2310      0.129     -1.794      0.073      -0.483       0.021\n",
      "Specialization_Healthcare Management           0.4238      0.258      1.641      0.101      -0.082       0.930\n",
      "Specialization_Human Resource Management       0.1902      0.142      1.338      0.181      -0.088       0.469\n",
      "Specialization_IT Projects Management          0.1359      0.180      0.756      0.450      -0.217       0.488\n",
      "Specialization_International Business         -0.3964      0.245     -1.619      0.106      -0.876       0.084\n",
      "Specialization_Marketing Management            0.1696      0.142      1.198      0.231      -0.108       0.447\n",
      "Specialization_Media and Advertising           0.2970      0.221      1.342      0.180      -0.137       0.731\n",
      "Specialization_Operations Management           0.3889      0.157      2.480      0.013       0.082       0.696\n",
      "Specialization_Rural and Agribusiness          0.6732      0.330      2.042      0.041       0.027       1.319\n",
      "Specialization_Supply Chain Management         0.1787      0.180      0.991      0.322      -0.175       0.532\n",
      "Specialization_Travel and Tourism             -0.2640      0.228     -1.160      0.246      -0.710       0.182\n",
      "What is your current occupation_Other          0.4405      0.826      0.534      0.594      -1.178       2.059\n",
      "Lead Profile_Lateral Student                   3.2334      1.054      3.067      0.002       1.167       5.299\n",
      "Lead Profile_Potential Lead                    1.8683      0.084     22.228      0.000       1.704       2.033\n",
      "City_Other Cities                              0.0704      0.113      0.621      0.534      -0.152       0.293\n",
      "City_Other Metro Cities                        0.1834      0.145      1.266      0.206      -0.101       0.467\n",
      "City_Unknown                                  -0.4836      0.127     -3.803      0.000      -0.733      -0.234\n",
      "A free copy of Mastering The Interview_Yes    -0.0641      0.091     -0.706      0.480      -0.242       0.114\n",
      "==============================================================================================================\n",
      "                                      Features   VIF\n",
      "24      Specialization_Supply Chain Management  1.36\n",
      "18       Specialization_IT Projects Management  1.33\n",
      "25           Specialization_Travel and Tourism  1.25\n",
      "21        Specialization_Media and Advertising  1.22\n",
      "19       Specialization_International Business  1.18\n",
      "16        Specialization_Healthcare Management  1.15\n",
      "12                               Country_Other  1.08\n",
      "23       Specialization_Rural and Agribusiness  1.08\n",
      "14                   Specialization_E-Business  1.06\n",
      "5             Last Activity_Email Link Clicked  1.06\n",
      "7      Last Activity_Form Submitted on Website  1.05\n",
      "9                    Last Activity_Unreachable  1.03\n",
      "27                Lead Profile_Lateral Student  1.02\n",
      "10                  Last Activity_Unsubscribed  1.02\n",
      "26       What is your current occupation_Other  1.01\n",
      "11  Last Activity_View in browser link Clicked  1.00\n",
      "29                           City_Other Cities  0.58\n",
      "15           Specialization_Finance Management  0.53\n",
      "8        Last Activity_Page Visited on Website  0.52\n",
      "22        Specialization_Operations Management  0.47\n",
      "2                       Lead Source_Olark Chat  0.45\n",
      "4                            Lead Source_Other  0.32\n",
      "32  A free copy of Mastering The Interview_Yes  0.31\n",
      "20         Specialization_Marketing Management  0.28\n",
      "17    Specialization_Human Resource Management  0.26\n",
      "13      Specialization_Business Administration  0.13\n",
      "28                 Lead Profile_Potential Lead  0.13\n",
      "0          Lead Origin_Landing Page Submission  0.13\n",
      "6                   Last Activity_Email Opened  0.12\n",
      "31                                City_Unknown  0.05\n",
      "1                           Lead Source_Google  0.04\n",
      "3                   Lead Source_Organic Search  0.03\n",
      "30                     City_Other Metro Cities  0.03\n"
     ]
    }
   ],
   "source": [
    "x_train_new = modeltesting('City_Other Cities of Maharashtra',x_train_new)    "
   ]
  },
  {
   "cell_type": "code",
   "execution_count": 548,
   "id": "cdcfe69b",
   "metadata": {},
   "outputs": [
    {
     "name": "stdout",
     "output_type": "stream",
     "text": [
      "                 Generalized Linear Model Regression Results                  \n",
      "==============================================================================\n",
      "Dep. Variable:              Converted   No. Observations:                 6468\n",
      "Model:                            GLM   Df Residuals:                     6435\n",
      "Model Family:                Binomial   Df Model:                           32\n",
      "Link Function:                  Logit   Scale:                          1.0000\n",
      "Method:                          IRLS   Log-Likelihood:                -3561.2\n",
      "Date:                Sat, 20 May 2023   Deviance:                       7122.5\n",
      "Time:                        17:12:30   Pearson chi2:                 6.50e+03\n",
      "No. Iterations:                     6   Pseudo R-squ. (CS):             0.2040\n",
      "Covariance Type:            nonrobust                                         \n",
      "==============================================================================================================\n",
      "                                                 coef    std err          z      P>|z|      [0.025      0.975]\n",
      "--------------------------------------------------------------------------------------------------------------\n",
      "const                                         -0.1968      0.185     -1.063      0.288      -0.559       0.166\n",
      "Lead Origin_Landing Page Submission           -0.6331      0.125     -5.071      0.000      -0.878      -0.388\n",
      "Lead Source_Google                             0.3600      0.095      3.791      0.000       0.174       0.546\n",
      "Lead Source_Olark Chat                        -0.2887      0.125     -2.315      0.021      -0.533      -0.044\n",
      "Lead Source_Organic Search                     0.1404      0.105      1.335      0.182      -0.066       0.346\n",
      "Lead Source_Other                              1.6665      0.145     11.509      0.000       1.383       1.950\n",
      "Last Activity_Email Link Clicked              -1.0706      0.205     -5.231      0.000      -1.472      -0.669\n",
      "Last Activity_Email Opened                    -0.4809      0.063     -7.590      0.000      -0.605      -0.357\n",
      "Last Activity_Form Submitted on Website       -1.2528      0.289     -4.330      0.000      -1.820      -0.686\n",
      "Last Activity_Page Visited on Website         -1.0230      0.129     -7.950      0.000      -1.275      -0.771\n",
      "Last Activity_Unreachable                     -0.7220      0.332     -2.173      0.030      -1.373      -0.071\n",
      "Last Activity_Unsubscribed                    -1.0959      0.420     -2.606      0.009      -1.920      -0.272\n",
      "Last Activity_View in browser link Clicked    -0.6856      1.129     -0.608      0.543      -2.897       1.526\n",
      "Country_Other                                 -0.2882      0.174     -1.660      0.097      -0.628       0.052\n",
      "Specialization_Business Administration         0.1386      0.171      0.812      0.417      -0.196       0.473\n",
      "Specialization_Finance Management             -0.2195      0.126     -1.740      0.082      -0.467       0.028\n",
      "Specialization_Healthcare Management           0.4358      0.257      1.696      0.090      -0.068       0.939\n",
      "Specialization_Human Resource Management       0.2022      0.140      1.448      0.148      -0.072       0.476\n",
      "Specialization_IT Projects Management          0.1478      0.178      0.831      0.406      -0.201       0.496\n",
      "Specialization_International Business         -0.3846      0.243     -1.579      0.114      -0.862       0.093\n",
      "Specialization_Marketing Management            0.1813      0.139      1.304      0.192      -0.091       0.454\n",
      "Specialization_Media and Advertising           0.3090      0.220      1.407      0.160      -0.122       0.739\n",
      "Specialization_Operations Management           0.4008      0.155      2.594      0.009       0.098       0.704\n",
      "Specialization_Rural and Agribusiness          0.6853      0.329      2.086      0.037       0.041       1.329\n",
      "Specialization_Supply Chain Management         0.1906      0.178      1.068      0.285      -0.159       0.540\n",
      "Specialization_Travel and Tourism             -0.2519      0.226     -1.114      0.265      -0.695       0.191\n",
      "What is your current occupation_Other          0.4409      0.826      0.534      0.593      -1.177       2.059\n",
      "Lead Profile_Lateral Student                   3.2333      1.054      3.067      0.002       1.167       5.299\n",
      "Lead Profile_Potential Lead                    1.8683      0.084     22.230      0.000       1.704       2.033\n",
      "City_Other Cities                              0.0696      0.113      0.614      0.539      -0.153       0.292\n",
      "City_Other Metro Cities                        0.1844      0.145      1.273      0.203      -0.100       0.468\n",
      "City_Unknown                                  -0.4840      0.127     -3.806      0.000      -0.733      -0.235\n",
      "A free copy of Mastering The Interview_Yes    -0.0643      0.091     -0.708      0.479      -0.242       0.114\n",
      "==============================================================================================================\n",
      "                                      Features   VIF\n",
      "23      Specialization_Supply Chain Management  1.34\n",
      "17       Specialization_IT Projects Management  1.32\n",
      "24           Specialization_Travel and Tourism  1.24\n",
      "20        Specialization_Media and Advertising  1.21\n",
      "18       Specialization_International Business  1.17\n",
      "15        Specialization_Healthcare Management  1.14\n",
      "22       Specialization_Rural and Agribusiness  1.08\n",
      "12                               Country_Other  1.08\n",
      "5             Last Activity_Email Link Clicked  1.06\n",
      "7      Last Activity_Form Submitted on Website  1.04\n",
      "9                    Last Activity_Unreachable  1.03\n",
      "26                Lead Profile_Lateral Student  1.02\n",
      "10                  Last Activity_Unsubscribed  1.02\n",
      "25       What is your current occupation_Other  1.01\n",
      "11  Last Activity_View in browser link Clicked  1.00\n",
      "28                           City_Other Cities  0.57\n",
      "8        Last Activity_Page Visited on Website  0.52\n",
      "14           Specialization_Finance Management  0.51\n",
      "21        Specialization_Operations Management  0.47\n",
      "2                       Lead Source_Olark Chat  0.45\n",
      "4                            Lead Source_Other  0.32\n",
      "31  A free copy of Mastering The Interview_Yes  0.31\n",
      "19         Specialization_Marketing Management  0.28\n",
      "16    Specialization_Human Resource Management  0.25\n",
      "13      Specialization_Business Administration  0.13\n",
      "27                 Lead Profile_Potential Lead  0.13\n",
      "0          Lead Origin_Landing Page Submission  0.13\n",
      "6                   Last Activity_Email Opened  0.12\n",
      "30                                City_Unknown  0.05\n",
      "1                           Lead Source_Google  0.04\n",
      "3                   Lead Source_Organic Search  0.03\n",
      "29                     City_Other Metro Cities  0.03\n"
     ]
    }
   ],
   "source": [
    "x_train_new = modeltesting('Specialization_E-Business',x_train_new) "
   ]
  },
  {
   "cell_type": "code",
   "execution_count": 549,
   "id": "b289cc38",
   "metadata": {},
   "outputs": [
    {
     "name": "stdout",
     "output_type": "stream",
     "text": [
      "                 Generalized Linear Model Regression Results                  \n",
      "==============================================================================\n",
      "Dep. Variable:              Converted   No. Observations:                 6468\n",
      "Model:                            GLM   Df Residuals:                     6436\n",
      "Model Family:                Binomial   Df Model:                           31\n",
      "Link Function:                  Logit   Scale:                          1.0000\n",
      "Method:                          IRLS   Log-Likelihood:                -3561.4\n",
      "Date:                Sat, 20 May 2023   Deviance:                       7122.8\n",
      "Time:                        17:14:10   Pearson chi2:                 6.50e+03\n",
      "No. Iterations:                     6   Pseudo R-squ. (CS):             0.2040\n",
      "Covariance Type:            nonrobust                                         \n",
      "==============================================================================================================\n",
      "                                                 coef    std err          z      P>|z|      [0.025      0.975]\n",
      "--------------------------------------------------------------------------------------------------------------\n",
      "const                                         -0.1945      0.185     -1.052      0.293      -0.557       0.168\n",
      "Lead Origin_Landing Page Submission           -0.6342      0.125     -5.081      0.000      -0.879      -0.390\n",
      "Lead Source_Google                             0.3579      0.095      3.772      0.000       0.172       0.544\n",
      "Lead Source_Olark Chat                        -0.2911      0.125     -2.336      0.020      -0.535      -0.047\n",
      "Lead Source_Organic Search                     0.1397      0.105      1.329      0.184      -0.066       0.346\n",
      "Lead Source_Other                              1.6640      0.145     11.499      0.000       1.380       1.948\n",
      "Last Activity_Email Link Clicked              -1.0706      0.205     -5.231      0.000      -1.472      -0.669\n",
      "Last Activity_Email Opened                    -0.4803      0.063     -7.582      0.000      -0.604      -0.356\n",
      "Last Activity_Form Submitted on Website       -1.2527      0.289     -4.330      0.000      -1.820      -0.686\n",
      "Last Activity_Page Visited on Website         -1.0207      0.129     -7.937      0.000      -1.273      -0.769\n",
      "Last Activity_Unreachable                     -0.7218      0.332     -2.173      0.030      -1.373      -0.071\n",
      "Last Activity_Unsubscribed                    -1.0959      0.420     -2.607      0.009      -1.920      -0.272\n",
      "Last Activity_View in browser link Clicked    -0.6853      1.128     -0.607      0.544      -2.897       1.526\n",
      "Country_Other                                 -0.2891      0.174     -1.666      0.096      -0.629       0.051\n",
      "Specialization_Business Administration         0.1407      0.171      0.825      0.409      -0.194       0.475\n",
      "Specialization_Finance Management             -0.2194      0.126     -1.739      0.082      -0.467       0.028\n",
      "Specialization_Healthcare Management           0.4356      0.257      1.696      0.090      -0.068       0.939\n",
      "Specialization_Human Resource Management       0.2023      0.140      1.449      0.147      -0.071       0.476\n",
      "Specialization_IT Projects Management          0.1478      0.178      0.831      0.406      -0.201       0.496\n",
      "Specialization_International Business         -0.3843      0.243     -1.579      0.114      -0.861       0.093\n",
      "Specialization_Marketing Management            0.1840      0.139      1.324      0.186      -0.088       0.456\n",
      "Specialization_Media and Advertising           0.3126      0.220      1.424      0.154      -0.118       0.743\n",
      "Specialization_Operations Management           0.4009      0.155      2.595      0.009       0.098       0.704\n",
      "Specialization_Rural and Agribusiness          0.6851      0.329      2.085      0.037       0.041       1.329\n",
      "Specialization_Supply Chain Management         0.1906      0.178      1.068      0.285      -0.159       0.540\n",
      "Specialization_Travel and Tourism             -0.2518      0.226     -1.114      0.265      -0.695       0.191\n",
      "Lead Profile_Lateral Student                   3.2326      1.054      3.067      0.002       1.167       5.299\n",
      "Lead Profile_Potential Lead                    1.8679      0.084     22.227      0.000       1.703       2.033\n",
      "City_Other Cities                              0.0695      0.113      0.613      0.540      -0.153       0.292\n",
      "City_Other Metro Cities                        0.1837      0.145      1.268      0.205      -0.100       0.468\n",
      "City_Unknown                                  -0.4842      0.127     -3.808      0.000      -0.733      -0.235\n",
      "A free copy of Mastering The Interview_Yes    -0.0652      0.091     -0.718      0.473      -0.243       0.113\n",
      "==============================================================================================================\n",
      "                                      Features   VIF\n",
      "23      Specialization_Supply Chain Management  1.34\n",
      "17       Specialization_IT Projects Management  1.32\n",
      "24           Specialization_Travel and Tourism  1.24\n",
      "20        Specialization_Media and Advertising  1.21\n",
      "18       Specialization_International Business  1.17\n",
      "15        Specialization_Healthcare Management  1.14\n",
      "12                               Country_Other  1.08\n",
      "22       Specialization_Rural and Agribusiness  1.08\n",
      "5             Last Activity_Email Link Clicked  1.06\n",
      "7      Last Activity_Form Submitted on Website  1.04\n",
      "9                    Last Activity_Unreachable  1.03\n",
      "10                  Last Activity_Unsubscribed  1.02\n",
      "25                Lead Profile_Lateral Student  1.02\n",
      "11  Last Activity_View in browser link Clicked  1.00\n",
      "27                           City_Other Cities  0.57\n",
      "8        Last Activity_Page Visited on Website  0.52\n",
      "14           Specialization_Finance Management  0.51\n",
      "21        Specialization_Operations Management  0.47\n",
      "2                       Lead Source_Olark Chat  0.45\n",
      "4                            Lead Source_Other  0.32\n",
      "30  A free copy of Mastering The Interview_Yes  0.31\n",
      "19         Specialization_Marketing Management  0.28\n",
      "16    Specialization_Human Resource Management  0.25\n",
      "13      Specialization_Business Administration  0.13\n",
      "26                 Lead Profile_Potential Lead  0.13\n",
      "0          Lead Origin_Landing Page Submission  0.13\n",
      "6                   Last Activity_Email Opened  0.12\n",
      "29                                City_Unknown  0.05\n",
      "1                           Lead Source_Google  0.04\n",
      "3                   Lead Source_Organic Search  0.03\n",
      "28                     City_Other Metro Cities  0.03\n"
     ]
    }
   ],
   "source": [
    "x_train_new = modeltesting('What is your current occupation_Other',x_train_new)  "
   ]
  },
  {
   "cell_type": "code",
   "execution_count": null,
   "id": "9ca21bc7",
   "metadata": {},
   "outputs": [],
   "source": []
  }
 ],
 "metadata": {
  "kernelspec": {
   "display_name": "Python 3 (ipykernel)",
   "language": "python",
   "name": "python3"
  },
  "language_info": {
   "codemirror_mode": {
    "name": "ipython",
    "version": 3
   },
   "file_extension": ".py",
   "mimetype": "text/x-python",
   "name": "python",
   "nbconvert_exporter": "python",
   "pygments_lexer": "ipython3",
   "version": "3.9.12"
  }
 },
 "nbformat": 4,
 "nbformat_minor": 5
}
